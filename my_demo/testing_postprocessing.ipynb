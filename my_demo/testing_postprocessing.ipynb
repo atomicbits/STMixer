{
 "cells": [
  {
   "cell_type": "code",
   "execution_count": 13,
   "id": "1bc7b910",
   "metadata": {},
   "outputs": [],
   "source": [
    "import json_tricks as json\n",
    "import cv2\n",
    "import numpy as np\n",
    "import torch\n",
    "from tqdm import tqdm\n",
    "import os\n",
    "\n",
    "from my_utils.gen_utils import parse_label_file, find_largest_exp_folder\n",
    "from my_utils.postprocess import NMSPostprocess\n",
    "from my_utils.ava_postprocessing import concatenate_results\n"
   ]
  },
  {
   "cell_type": "code",
   "execution_count": 14,
   "id": "f3348179",
   "metadata": {},
   "outputs": [],
   "source": [
    "model_name = 'VMAEv2'\n",
    "\n",
    "video_path = '../input_dir/markt2_fight.mp4'\n",
    "\n",
    "video_name = video_path.split('/')[-1].split('.')[0]\n"
   ]
  },
  {
   "cell_type": "code",
   "execution_count": 15,
   "id": "8c5ecb6b",
   "metadata": {},
   "outputs": [],
   "source": [
    "interesting_actions_indices = [5, 64, 71, 75]\n",
    "threshold_action = {5: 0.1, 64: 0.1, 71: 0.1, 75: 0.1}\n",
    "interesting_actions_labels = {5:'fall', 64:'fight', 71:'kick', 75:'push'}"
   ]
  },
  {
   "cell_type": "code",
   "execution_count": 16,
   "id": "f7171783",
   "metadata": {},
   "outputs": [],
   "source": [
    "action_colors = {5: (0, 0, 255),\n",
    "                64 : (255, 0, 0),\n",
    "                71: (255, 165, 0),\n",
    "                75: (128, 0, 128)} \n"
   ]
  },
  {
   "cell_type": "code",
   "execution_count": null,
   "id": "66a8f77c",
   "metadata": {},
   "outputs": [],
   "source": []
  },
  {
   "cell_type": "code",
   "execution_count": null,
   "id": "b93b0131",
   "metadata": {},
   "outputs": [],
   "source": []
  },
  {
   "cell_type": "code",
   "execution_count": 17,
   "id": "f0cd4cc1",
   "metadata": {},
   "outputs": [],
   "source": [
    "output_directory = '../output_dir/{}/{}/patch_batch'.format(video_name,model_name)"
   ]
  },
  {
   "cell_type": "code",
   "execution_count": 18,
   "id": "9871783a",
   "metadata": {},
   "outputs": [],
   "source": [
    "exp_output_directory = find_largest_exp_folder(output_directory)"
   ]
  },
  {
   "cell_type": "code",
   "execution_count": 20,
   "id": "ea689df9",
   "metadata": {},
   "outputs": [
    {
     "data": {
      "text/plain": [
       "'../output_dir/markt2_fight/VMAEv2/patch_batch/exp_2/result.json'"
      ]
     },
     "execution_count": 20,
     "metadata": {},
     "output_type": "execute_result"
    }
   ],
   "source": [
    "all_results_json_path = os.path.join(exp_output_directory, 'result.json')\n",
    "all_results_json_path"
   ]
  },
  {
   "cell_type": "code",
   "execution_count": 21,
   "id": "fc595081",
   "metadata": {},
   "outputs": [],
   "source": [
    "with open(all_results_json_path, 'r') as f:\n",
    "    all_results_dict = json.load(f)"
   ]
  },
  {
   "cell_type": "code",
   "execution_count": 22,
   "id": "896fda41",
   "metadata": {},
   "outputs": [],
   "source": [
    "new_results_dict = concatenate_results(all_results_dict, top_k=5)"
   ]
  },
  {
   "cell_type": "code",
   "execution_count": 26,
   "id": "be516b4f",
   "metadata": {},
   "outputs": [
    {
     "data": {
      "text/plain": [
       "(39, 16)"
      ]
     },
     "execution_count": 26,
     "metadata": {},
     "output_type": "execute_result"
    }
   ],
   "source": [
    "new_results_dict['124'].shape\n"
   ]
  },
  {
   "cell_type": "code",
   "execution_count": null,
   "id": "e88e2430",
   "metadata": {},
   "outputs": [],
   "source": [
    "interesting_results_dict = {}\n",
    "other_results_dict = {}\n",
    "\n",
    "with tqdm(total=len(all_results_dict)) as pbar:\n",
    "    \n",
    "    for cur_frame, results_frame in all_results_dict.items():\n",
    "    \n",
    "        if cur_frame not in interesting_results_dict.keys():\n",
    "            interesting_results_dict[cur_frame] = None\n",
    "            other_results_dict[cur_frame] = None\n",
    "        \n",
    "        results_frame_np = np.concatenate(results_frame, axis=0)\n",
    "        \n",
    "        \n",
    "        top_action_indices_frame = results_frame_np[:, 5:10].astype('int') + 1\n",
    "        top_values_frame = results_frame_np[:, 10:]\n",
    "        \n",
    "        list_interesting_actors = []\n",
    "        # looping over all actors detected on this frame\n",
    "        for actor_index, top_action_indices in enumerate(top_action_indices_frame):\n",
    "            interesting_actor = False\n",
    "            # looping over all actions of one actor\n",
    "            for act_index, act in enumerate(top_action_indices):\n",
    "                if act in interesting_actions_indices:\n",
    "                    if top_values_frame[actor_index, act_index] >= threshold_action[act]:\n",
    "                        interesting_actor = True\n",
    "                        break\n",
    "                    \n",
    "            if interesting_actor:\n",
    "                list_interesting_actors.append(actor_index)\n",
    "        \n",
    "        if len(list_interesting_actors) != 0:\n",
    "            \n",
    "            indices_set = set(list_interesting_actors)\n",
    "\n",
    "            # Create boolean masks for the two conditions: indices in the list and indices not in the list\n",
    "            indices_in_list_mask = np.array([i in indices_set for i in range(len(results_frame_np))])\n",
    "            indices_not_in_list_mask = ~indices_in_list_mask\n",
    "\n",
    "            # Use boolean indexing to create the two arrays\n",
    "            interesting_results_dict[cur_frame] = results_frame_np[indices_in_list_mask]\n",
    "            other_results_dict[cur_frame] = results_frame_np[indices_not_in_list_mask]\n",
    "        else:\n",
    "            other_results_dict[cur_frame] = results_frame_np\n",
    "    \n",
    "        # Update tqdm progress bar\n",
    "        pbar.update(1)\n",
    "        \n",
    "            \n",
    "            \n",
    "            \n",
    "        "
   ]
  },
  {
   "cell_type": "code",
   "execution_count": null,
   "id": "c5ec0f1e",
   "metadata": {},
   "outputs": [],
   "source": [
    "import os\n",
    "interesting_json_path = os.path.join('../output_dir/markt2_fight/VMAEv2/patch_batch/exp_1/', 'interesting_result.json')\n",
    "\n",
    "# Save the dictionary as a JSON file\n",
    "with open(interesting_json_path, 'w') as f:\n",
    "    json.dump(interesting_results_dict, f, indent=4)\n"
   ]
  },
  {
   "cell_type": "code",
   "execution_count": null,
   "id": "81b26a92",
   "metadata": {},
   "outputs": [],
   "source": [
    "output_directory = '../output_dir/markt2_fight/VMAEv2/patch_batch/exp_1/'\n",
    "video_path = '../input_dir/markt2_fight.mp4'"
   ]
  },
  {
   "cell_type": "code",
   "execution_count": null,
   "id": "9f9638fd",
   "metadata": {},
   "outputs": [],
   "source": [
    "from my_utils.gen_utils import parse_label_file"
   ]
  },
  {
   "cell_type": "code",
   "execution_count": null,
   "id": "6db745d3",
   "metadata": {},
   "outputs": [],
   "source": [
    "file_path = 'labels.txt'  # Specify the path to your text file\n",
    "label_dict = parse_label_file(file_path)"
   ]
  },
  {
   "cell_type": "code",
   "execution_count": null,
   "id": "87668a43",
   "metadata": {},
   "outputs": [],
   "source": []
  },
  {
   "cell_type": "code",
   "execution_count": null,
   "id": "7302e834",
   "metadata": {},
   "outputs": [],
   "source": []
  },
  {
   "cell_type": "code",
   "execution_count": null,
   "id": "e60c5522",
   "metadata": {},
   "outputs": [],
   "source": [
    "\n",
    "vis_iteresting_frames_list = []\n",
    "\n",
    "\n",
    "output_directory_frames = os.path.join(output_directory, 'inter_frames')\n",
    "os.makedirs(output_directory_frames, exist_ok=True)\n",
    "\n",
    "\n",
    "from my_utils.video_processing import get_frame_from_video\n",
    "\n",
    "\n",
    "\n",
    "\n",
    "# Initialize tqdm with the length of all_results_dict\n",
    "with tqdm(total=len(interesting_results_dict)) as pbar:\n",
    "    # loop over all frames\n",
    "    for cur_frame, results_frame in interesting_results_dict.items():\n",
    "        \n",
    "        if results_frame is None:\n",
    "            continue\n",
    "            \n",
    "        obj_scores_frame = results_frame[:, :1]\n",
    "        bboxes_frame = results_frame[:, 1:5]\n",
    "        top_indices_frame = results_frame[:, 5:10].astype('int') + 1\n",
    "        top_values_frame = results_frame[:, 10:]\n",
    "        \n",
    "        frame = get_frame_from_video(video_path, int(cur_frame))\n",
    "        \n",
    "        vis_inter_frame = cv2.cvtColor(frame.copy(), cv2.COLOR_BGR2RGB)\n",
    "        \n",
    "        id_actor = 0\n",
    "\n",
    "        # loop over all actors in this frame\n",
    "        for object_score, bbox, top_action_indices, top_action_scores in zip(obj_scores_frame, bboxes_frame, top_indices_frame, top_values_frame):\n",
    "            x1, y1, x2, y2 = bbox.astype(int)\n",
    "            \n",
    "            # loop over all actions of this actor to choose color of action bbox\n",
    "            print(top_action_indices)\n",
    "            for act_index, act in enumerate(top_action_indices):\n",
    "                if act in interesting_actions_indices:\n",
    "                    bbox_action_color = action_colors[int(act)]\n",
    "                    main_interesting_act = act # the main interesting action of actor\n",
    "                    break\n",
    "                    \n",
    "                   \n",
    "            # add ID of actor for frame visualization\n",
    "            long_text = '{}-{}:'.format(id_actor, np.round(object_score, 2)) \n",
    "            for act, score in zip(top_action_indices, top_action_scores):\n",
    "                long_text += '{}_{}-'.format(label_dict[act].replace('(', '').replace(')', '').split('/')[0], \n",
    "                                                 (np.round(score, 2)))\n",
    "                    \n",
    "            \n",
    "            \n",
    "            # plot the bbox of interesting actor and adding interesting action\n",
    "            cv2.rectangle(vis_inter_frame, (x1, y1), (x2, y2), bbox_action_color, 2)\n",
    "            #id_text = '{}:{}'.format(id_actor, small_text)\n",
    "            id_text = '{}'.format(id_actor)\n",
    "            id_actor += 1\n",
    "    \n",
    "            cv2.putText(vis_inter_frame, id_text, (x1+10, y1 - 10), cv2.FONT_HERSHEY_SIMPLEX, 0.75, (255, 0, 0), 2)\n",
    "            cv2.putText(vis_inter_frame, str(cur_frame), (40, 40), cv2.FONT_HERSHEY_SIMPLEX, 1, (255, 0, 0), 4)\n",
    "                \n",
    "            # add text containing all actions of interesting actor\n",
    "            cv2.putText(vis_inter_frame, \n",
    "                        long_text[:-1], \n",
    "                        (20, 100 + 20 * id_actor), \n",
    "                        cv2.FONT_HERSHEY_SIMPLEX, 1, (255, 0, 0), 2)\n",
    "                \n",
    "                \n",
    "            \n",
    "            \n",
    "        \n",
    "        \n",
    "       \n",
    "        vis_iteresting_frames_list.append(vis_inter_frame)\n",
    "        frame_path = os.path.join(output_directory_frames, f\"int_frame_{cur_frame}.jpg\")\n",
    "        cv2.imwrite(frame_path, cv2.cvtColor(vis_inter_frame, cv2.COLOR_BGR2RGB))\n",
    "        \n",
    "        # Update tqdm progress bar\n",
    "        pbar.update(1)\n",
    "\n",
    "\n",
    "        \n",
    "    \n",
    "    \n"
   ]
  },
  {
   "cell_type": "code",
   "execution_count": null,
   "id": "a9230b36",
   "metadata": {},
   "outputs": [],
   "source": [
    "act"
   ]
  },
  {
   "cell_type": "code",
   "execution_count": null,
   "id": "e03da73b",
   "metadata": {},
   "outputs": [],
   "source": [
    "interesting_results_dict['24'][:,5:10]"
   ]
  },
  {
   "cell_type": "code",
   "execution_count": null,
   "id": "2069e96c",
   "metadata": {},
   "outputs": [],
   "source": []
  },
  {
   "cell_type": "code",
   "execution_count": null,
   "id": "8924642c",
   "metadata": {},
   "outputs": [],
   "source": []
  },
  {
   "cell_type": "code",
   "execution_count": null,
   "id": "8ee25f4f",
   "metadata": {},
   "outputs": [],
   "source": []
  },
  {
   "cell_type": "code",
   "execution_count": null,
   "id": "3953ce36",
   "metadata": {},
   "outputs": [],
   "source": []
  },
  {
   "cell_type": "code",
   "execution_count": null,
   "id": "a8d0ed03",
   "metadata": {},
   "outputs": [],
   "source": []
  },
  {
   "cell_type": "code",
   "execution_count": null,
   "id": "ee676cd1",
   "metadata": {},
   "outputs": [],
   "source": []
  },
  {
   "cell_type": "code",
   "execution_count": null,
   "id": "a56c8f62",
   "metadata": {},
   "outputs": [],
   "source": []
  },
  {
   "cell_type": "code",
   "execution_count": null,
   "id": "0e0c4543",
   "metadata": {},
   "outputs": [],
   "source": []
  },
  {
   "cell_type": "code",
   "execution_count": null,
   "id": "8d93ad84",
   "metadata": {},
   "outputs": [],
   "source": []
  },
  {
   "cell_type": "code",
   "execution_count": null,
   "id": "f85f6a57",
   "metadata": {},
   "outputs": [],
   "source": []
  },
  {
   "cell_type": "code",
   "execution_count": null,
   "id": "e2da0a2f",
   "metadata": {},
   "outputs": [],
   "source": []
  },
  {
   "cell_type": "code",
   "execution_count": null,
   "id": "0991d4ea",
   "metadata": {},
   "outputs": [],
   "source": []
  },
  {
   "cell_type": "code",
   "execution_count": null,
   "id": "4f798958",
   "metadata": {},
   "outputs": [],
   "source": []
  },
  {
   "cell_type": "code",
   "execution_count": null,
   "id": "a1cb4fe6",
   "metadata": {},
   "outputs": [],
   "source": []
  },
  {
   "cell_type": "code",
   "execution_count": null,
   "id": "c26bf05d",
   "metadata": {},
   "outputs": [],
   "source": []
  },
  {
   "cell_type": "code",
   "execution_count": null,
   "id": "28de2804",
   "metadata": {},
   "outputs": [],
   "source": [
    "act_index"
   ]
  },
  {
   "cell_type": "code",
   "execution_count": null,
   "id": "ca660ce9",
   "metadata": {},
   "outputs": [],
   "source": [
    "interesting_results_dict"
   ]
  },
  {
   "cell_type": "code",
   "execution_count": null,
   "id": "8ebf8704",
   "metadata": {},
   "outputs": [],
   "source": [
    "my_nms = NMSPostprocess(match_threshold=0.7, sort_metric=\"scores\", match_metric=\"IOU\")"
   ]
  },
  {
   "cell_type": "code",
   "execution_count": null,
   "id": "47a065ad",
   "metadata": {},
   "outputs": [],
   "source": [
    "with tqdm(total=len(interesting_results_dict)) as pbar:\n",
    "    \n",
    "    for cur_frame, results_frame in interesting_results_dict.items():\n",
    "        \n",
    "        if results_frame is not None and results_frame.shape[0] > 1:\n",
    "            "
   ]
  },
  {
   "cell_type": "code",
   "execution_count": null,
   "id": "3161c336",
   "metadata": {},
   "outputs": [],
   "source": []
  },
  {
   "cell_type": "code",
   "execution_count": null,
   "id": "7e8a393d",
   "metadata": {},
   "outputs": [],
   "source": []
  },
  {
   "cell_type": "code",
   "execution_count": null,
   "id": "1c8d423a",
   "metadata": {},
   "outputs": [],
   "source": []
  },
  {
   "cell_type": "code",
   "execution_count": null,
   "id": "f68c9872",
   "metadata": {},
   "outputs": [],
   "source": []
  },
  {
   "cell_type": "code",
   "execution_count": null,
   "id": "9341e176",
   "metadata": {},
   "outputs": [],
   "source": []
  },
  {
   "cell_type": "code",
   "execution_count": null,
   "id": "7af4aa59",
   "metadata": {},
   "outputs": [],
   "source": []
  },
  {
   "cell_type": "code",
   "execution_count": null,
   "id": "cd24454a",
   "metadata": {},
   "outputs": [],
   "source": []
  },
  {
   "cell_type": "code",
   "execution_count": null,
   "id": "4f4d2f0d",
   "metadata": {},
   "outputs": [],
   "source": []
  },
  {
   "cell_type": "code",
   "execution_count": null,
   "id": "5b683859",
   "metadata": {},
   "outputs": [],
   "source": []
  },
  {
   "cell_type": "code",
   "execution_count": null,
   "id": "6adb12eb",
   "metadata": {},
   "outputs": [],
   "source": []
  },
  {
   "cell_type": "code",
   "execution_count": null,
   "id": "a603a01b",
   "metadata": {},
   "outputs": [],
   "source": []
  },
  {
   "cell_type": "code",
   "execution_count": null,
   "id": "371e014c",
   "metadata": {},
   "outputs": [],
   "source": [
    "json_path = '../output_dir/markt2_fight/VMAEv2/patch_batch/exp_1/result.json'"
   ]
  },
  {
   "cell_type": "code",
   "execution_count": null,
   "id": "2ccf039c",
   "metadata": {},
   "outputs": [],
   "source": [
    "with open(json_path, 'r') as f:\n",
    "    results_dict = json.load(f)"
   ]
  },
  {
   "cell_type": "code",
   "execution_count": null,
   "id": "d01eba20",
   "metadata": {},
   "outputs": [],
   "source": [
    "len(results_dict['25'])"
   ]
  },
  {
   "cell_type": "code",
   "execution_count": null,
   "id": "cc189892",
   "metadata": {},
   "outputs": [],
   "source": [
    "results_np = np.concatenate(results_dict['25'], axis=0)"
   ]
  },
  {
   "cell_type": "code",
   "execution_count": null,
   "id": "721fdebf",
   "metadata": {},
   "outputs": [],
   "source": [
    "results_np2 = np.concatenate(results_dict['25'], axis=0)"
   ]
  },
  {
   "cell_type": "code",
   "execution_count": null,
   "id": "2cebe958",
   "metadata": {},
   "outputs": [],
   "source": [
    "results_np.shape"
   ]
  },
  {
   "cell_type": "code",
   "execution_count": null,
   "id": "39826041",
   "metadata": {},
   "outputs": [],
   "source": [
    "results_torch = torch.from_numpy(results_np)"
   ]
  },
  {
   "cell_type": "code",
   "execution_count": null,
   "id": "0706910e",
   "metadata": {},
   "outputs": [],
   "source": [
    "def nms(\n",
    "    predictions: torch.tensor,\n",
    "    match_metric: str = \"IOU\",\n",
    "    match_threshold: float = 0.5,\n",
    "):\n",
    "    \"\"\"\n",
    "    Apply non-maximum suppression to avoid detecting too many\n",
    "    overlapping bounding boxes for a given object.\n",
    "    Args:\n",
    "        predictions: (tensor) The location preds for the image\n",
    "            along with the class predscores, Shape: [num_boxes,5].\n",
    "        match_metric: (str) IOU or IOS\n",
    "        match_threshold: (float) The overlap thresh for\n",
    "            match metric.\n",
    "    Returns:\n",
    "        A list of filtered indexes, Shape: [ ,]\n",
    "    \"\"\"\n",
    "\n",
    "    # we extract coordinates for every\n",
    "    # prediction box present in P\n",
    "    x1 = predictions[:, 1]\n",
    "    y1 = predictions[:, 2]\n",
    "    x2 = predictions[:, 3]\n",
    "    y2 = predictions[:, 4]\n",
    "\n",
    "    # we extract the confidence scores as well\n",
    "    scores = predictions[:, 0]\n",
    "\n",
    "    # calculate area of every block in P\n",
    "    areas = (x2 - x1) * (y2 - y1)\n",
    "    print(areas.shape)\n",
    "    print(scores.shape)\n",
    "\n",
    "    # sort the prediction boxes in P\n",
    "    # according to their confidence scores\n",
    "    order = scores.argsort()\n",
    "\n",
    "    # initialise an empty list for\n",
    "    # filtered prediction boxes\n",
    "    keep = []\n",
    "\n",
    "    while len(order) > 0:\n",
    "        # extract the index of the\n",
    "        # prediction with highest score\n",
    "        # we call this prediction S\n",
    "        idx = order[-1]\n",
    "\n",
    "        # push S in filtered predictions list\n",
    "        keep.append(idx.tolist())\n",
    "\n",
    "        # remove S from P\n",
    "        order = order[:-1]\n",
    "\n",
    "        # sanity check\n",
    "        if len(order) == 0:\n",
    "            break\n",
    "\n",
    "        # select coordinates of BBoxes according to\n",
    "        # the indices in order\n",
    "        xx1 = torch.index_select(x1, dim=0, index=order)\n",
    "        xx2 = torch.index_select(x2, dim=0, index=order)\n",
    "        yy1 = torch.index_select(y1, dim=0, index=order)\n",
    "        yy2 = torch.index_select(y2, dim=0, index=order)\n",
    "\n",
    "        # find the coordinates of the intersection boxes\n",
    "        xx1 = torch.max(xx1, x1[idx])\n",
    "        yy1 = torch.max(yy1, y1[idx])\n",
    "        xx2 = torch.min(xx2, x2[idx])\n",
    "        yy2 = torch.min(yy2, y2[idx])\n",
    "\n",
    "        # find height and width of the intersection boxes\n",
    "        w = xx2 - xx1\n",
    "        h = yy2 - yy1\n",
    "\n",
    "        # take max with 0.0 to avoid negative w and h\n",
    "        # due to non-overlapping boxes\n",
    "        w = torch.clamp(w, min=0.0)\n",
    "        h = torch.clamp(h, min=0.0)\n",
    "\n",
    "        # find the intersection area\n",
    "        inter = w * h\n",
    "\n",
    "        # find the areas of BBoxes according the indices in order\n",
    "        rem_areas = torch.index_select(areas, dim=0, index=order)\n",
    "\n",
    "        if match_metric == \"IOU\":\n",
    "            # find the union of every prediction T in P\n",
    "            # with the prediction S\n",
    "            # Note that areas[idx] represents area of S\n",
    "            union = (rem_areas - inter) + areas[idx]\n",
    "            # find the IoU of every prediction in P with S\n",
    "            match_metric_value = inter / union\n",
    "\n",
    "        elif match_metric == \"IOS\":\n",
    "            # find the smaller area of every prediction T in P\n",
    "            # with the prediction S\n",
    "            # Note that areas[idx] represents area of S\n",
    "            smaller = torch.min(rem_areas, areas[idx])\n",
    "            # find the IoU of every prediction in P with S\n",
    "            match_metric_value = inter / smaller\n",
    "        else:\n",
    "            raise ValueError()\n",
    "\n",
    "        # keep the boxes with IoU less than thresh_iou\n",
    "        mask = match_metric_value < match_threshold\n",
    "        order = order[mask]\n",
    "    return keep"
   ]
  },
  {
   "cell_type": "code",
   "execution_count": null,
   "id": "f63fc3a0",
   "metadata": {},
   "outputs": [],
   "source": [
    "keep = nms(results_torch, match_metric='IOS')"
   ]
  },
  {
   "cell_type": "code",
   "execution_count": null,
   "id": "0b63c99a",
   "metadata": {},
   "outputs": [],
   "source": [
    "len(keep)"
   ]
  },
  {
   "cell_type": "code",
   "execution_count": null,
   "id": "0da138f7",
   "metadata": {},
   "outputs": [],
   "source": [
    "results_pp = results_torch[keep]"
   ]
  },
  {
   "cell_type": "code",
   "execution_count": null,
   "id": "83fb343a",
   "metadata": {},
   "outputs": [],
   "source": [
    "results_pp_np = results_pp.numpy()"
   ]
  },
  {
   "cell_type": "code",
   "execution_count": null,
   "id": "3c936ef2",
   "metadata": {},
   "outputs": [],
   "source": [
    "results_pp_np.shape"
   ]
  },
  {
   "cell_type": "code",
   "execution_count": null,
   "id": "44e42647",
   "metadata": {},
   "outputs": [],
   "source": [
    "results_np.shape"
   ]
  },
  {
   "cell_type": "code",
   "execution_count": null,
   "id": "eb79d410",
   "metadata": {},
   "outputs": [],
   "source": [
    "output_nms, new_keep = my_nms(results_np2)"
   ]
  },
  {
   "cell_type": "code",
   "execution_count": null,
   "id": "820c33a8",
   "metadata": {},
   "outputs": [],
   "source": [
    "output_nms.shape"
   ]
  },
  {
   "cell_type": "code",
   "execution_count": null,
   "id": "52e24d05",
   "metadata": {},
   "outputs": [],
   "source": [
    "new_keep"
   ]
  },
  {
   "cell_type": "code",
   "execution_count": null,
   "id": "8ecaa332",
   "metadata": {},
   "outputs": [],
   "source": []
  },
  {
   "cell_type": "code",
   "execution_count": null,
   "id": "be4a0e64",
   "metadata": {},
   "outputs": [],
   "source": []
  },
  {
   "cell_type": "code",
   "execution_count": null,
   "id": "192a2209",
   "metadata": {},
   "outputs": [],
   "source": []
  },
  {
   "cell_type": "code",
   "execution_count": null,
   "id": "a0c60af7",
   "metadata": {},
   "outputs": [],
   "source": []
  },
  {
   "cell_type": "code",
   "execution_count": null,
   "id": "6644bed4",
   "metadata": {},
   "outputs": [],
   "source": [
    "results_pp_np = results_pp.numpy()\n",
    "\n"
   ]
  },
  {
   "cell_type": "code",
   "execution_count": null,
   "id": "8a0f64b1",
   "metadata": {},
   "outputs": [],
   "source": [
    "obj_scores_frame = results_pp_np[:, :1]\n",
    "bboxes_frame = results_pp_np[:, 1:5]\n",
    "top_indices_frame = results_pp_np[:, 5:10]\n",
    "top_values_frame = results_pp_np[:, 10:]\n",
    "        \n"
   ]
  },
  {
   "cell_type": "code",
   "execution_count": null,
   "id": "3d933974",
   "metadata": {},
   "outputs": [],
   "source": [
    "from my_utils.video_processing import get_frame_from_video\n"
   ]
  },
  {
   "cell_type": "code",
   "execution_count": null,
   "id": "5fb0a494",
   "metadata": {},
   "outputs": [],
   "source": [
    "frame = get_frame_from_video('../input_dir/markt2_fight.mp4', 25)\n",
    "        \n",
    "vis_frame = cv2.cvtColor(frame.copy(), cv2.COLOR_BGR2RGB)"
   ]
  },
  {
   "cell_type": "code",
   "execution_count": null,
   "id": "3605184b",
   "metadata": {},
   "outputs": [],
   "source": [
    "for object_score, bbox, top_action_indices, top_action_scores in zip(obj_scores_frame, bboxes_frame, top_indices_frame, top_values_frame):\n",
    "    x1, y1, x2, y2 = bbox.astype(int)\n",
    "            \n",
    "    cv2.rectangle(vis_frame, (x1, y1), (x2, y2), (0, 255, 0), 2)\n",
    "            "
   ]
  },
  {
   "cell_type": "code",
   "execution_count": null,
   "id": "75627bd7",
   "metadata": {},
   "outputs": [],
   "source": [
    "import matplotlib.pyplot as plt"
   ]
  },
  {
   "cell_type": "code",
   "execution_count": null,
   "id": "f7ed0242",
   "metadata": {},
   "outputs": [],
   "source": [
    "plt.imshow(vis_frame)"
   ]
  },
  {
   "cell_type": "code",
   "execution_count": null,
   "id": "c266fe49",
   "metadata": {},
   "outputs": [],
   "source": [
    "frame = get_frame_from_video('../input_dir/markt2_fight.mp4', 110)\n",
    "        \n",
    "vis_frame = cv2.cvtColor(frame.copy(), cv2.COLOR_BGR2RGB)\n",
    "\n",
    "plt.imshow(vis_frame)"
   ]
  },
  {
   "cell_type": "code",
   "execution_count": null,
   "id": "c8df8968",
   "metadata": {},
   "outputs": [],
   "source": [
    "cv2.imwrite(\"../output_dir/mark2_fight_110.jpg\", cv2.cvtColor(vis_frame, cv2.COLOR_BGR2RGB))"
   ]
  },
  {
   "cell_type": "code",
   "execution_count": null,
   "id": "1451f2e3",
   "metadata": {},
   "outputs": [],
   "source": []
  }
 ],
 "metadata": {
  "kernelspec": {
   "display_name": "Python 3 (ipykernel)",
   "language": "python",
   "name": "python3"
  },
  "language_info": {
   "codemirror_mode": {
    "name": "ipython",
    "version": 3
   },
   "file_extension": ".py",
   "mimetype": "text/x-python",
   "name": "python",
   "nbconvert_exporter": "python",
   "pygments_lexer": "ipython3",
   "version": "3.8.10"
  }
 },
 "nbformat": 4,
 "nbformat_minor": 5
}
