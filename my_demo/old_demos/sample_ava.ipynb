{
 "cells": [
  {
   "cell_type": "markdown",
   "id": "5ff6ff7d",
   "metadata": {},
   "source": [
    "This notebook creates a minimal ava_v_2.2 dataset. We choose '-5KQ66BBWC4' sample video:\n",
    "   * this video belongs to the training part.\n",
    "  "
   ]
  },
  {
   "cell_type": "code",
   "execution_count": null,
   "id": "ee716ef2",
   "metadata": {},
   "outputs": [],
   "source": [
    "import pandas as pd\n",
    "from iopath.common.file_io import g_pathmgr as pathmgr\n",
    "import csv\n"
   ]
  },
  {
   "cell_type": "markdown",
   "id": "f35d4b94",
   "metadata": {},
   "source": [
    "### create sample_fame_lists"
   ]
  },
  {
   "cell_type": "code",
   "execution_count": null,
   "id": "e5fa97a6",
   "metadata": {},
   "outputs": [],
   "source": [
    "frame_lists_train_path = '../ava/frame_lists/train.csv'\n",
    "frame_lists_sample_path = '../ava/frame_lists/sample.csv'"
   ]
  },
  {
   "cell_type": "code",
   "execution_count": null,
   "id": "33e0bd0e",
   "metadata": {},
   "outputs": [],
   "source": [
    "df = pd.read_csv(frame_lists_train_path)"
   ]
  },
  {
   "cell_type": "code",
   "execution_count": null,
   "id": "26f1ea9e",
   "metadata": {},
   "outputs": [],
   "source": [
    "df.columns"
   ]
  },
  {
   "cell_type": "code",
   "execution_count": null,
   "id": "b5ef4f05",
   "metadata": {},
   "outputs": [],
   "source": [
    "df['original_vido_id video_id frame_id path labels'][0]"
   ]
  },
  {
   "cell_type": "code",
   "execution_count": null,
   "id": "7c129d18",
   "metadata": {},
   "outputs": [],
   "source": [
    "with pathmgr.open(frame_lists_train_path, \"r\") as f:\n",
    "    f.readline()\n",
    "    for line in f:\n",
    "        row = line.split()\n",
    "        print(row)\n",
    "        print(row[0])\n",
    "        break"
   ]
  },
  {
   "cell_type": "code",
   "execution_count": null,
   "id": "991d5d62",
   "metadata": {},
   "outputs": [],
   "source": [
    "filtered_df = df[df['original_vido_id video_id frame_id path labels'].str.contains('5KQ66BBWC4')]"
   ]
  },
  {
   "cell_type": "code",
   "execution_count": null,
   "id": "02223a8e",
   "metadata": {},
   "outputs": [],
   "source": [
    "filtered_df['original_vido_id video_id frame_id path labels'][0]"
   ]
  },
  {
   "cell_type": "code",
   "execution_count": null,
   "id": "cca31a4f",
   "metadata": {},
   "outputs": [],
   "source": [
    "filtered_df.shape[0]"
   ]
  },
  {
   "cell_type": "code",
   "execution_count": null,
   "id": "34ff7002",
   "metadata": {},
   "outputs": [],
   "source": [
    "# quoting=csv.QUOTE_NONE is important. If not, we get extra \"\"s in row.\n",
    "\n",
    "filtered_df.to_csv(frame_lists_sample_path, index=False, quoting=csv.QUOTE_NONE)\n"
   ]
  },
  {
   "cell_type": "code",
   "execution_count": null,
   "id": "25155a29",
   "metadata": {},
   "outputs": [],
   "source": [
    "# we check if we will have the same format with original csv file\n",
    "with pathmgr.open(frame_lists_sample_path, \"r\") as f:\n",
    "    f.readline()\n",
    "    for line in f:\n",
    "        row = line.split()\n",
    "        print(row)\n",
    "        print(row[0])\n",
    "        break"
   ]
  },
  {
   "cell_type": "markdown",
   "id": "d9a118eb",
   "metadata": {},
   "source": [
    "### annotations\n",
    "\n",
    "Note that since the chosen sample belgons to training part, we will create annotaions from training files. "
   ]
  },
  {
   "cell_type": "code",
   "execution_count": null,
   "id": "7c5a262d",
   "metadata": {},
   "outputs": [],
   "source": [
    "annotation_train_path = '../ava/annotations/ava_train_v2.2.csv'\n",
    "annotation_sample_path = '../ava/annotations/ava_sample_v2.2.csv'"
   ]
  },
  {
   "cell_type": "code",
   "execution_count": null,
   "id": "f70235f6",
   "metadata": {},
   "outputs": [],
   "source": [
    "df = pd.read_csv(annotatation_train_path)"
   ]
  },
  {
   "cell_type": "code",
   "execution_count": null,
   "id": "189f7eaa",
   "metadata": {},
   "outputs": [],
   "source": [
    "df.columns"
   ]
  },
  {
   "cell_type": "code",
   "execution_count": null,
   "id": "8076bea4",
   "metadata": {},
   "outputs": [],
   "source": [
    "df"
   ]
  },
  {
   "cell_type": "code",
   "execution_count": null,
   "id": "fb353a45",
   "metadata": {},
   "outputs": [],
   "source": [
    "with pathmgr.open(annotation_train_path, \"r\") as f:\n",
    "    f.readline()\n",
    "    for line in f:\n",
    "        row = line.split()\n",
    "        print(row)\n",
    "        break"
   ]
  },
  {
   "cell_type": "code",
   "execution_count": null,
   "id": "c045d853",
   "metadata": {},
   "outputs": [],
   "source": [
    "filtered_df = df[df['-5KQ66BBWC4'] == '-5KQ66BBWC4']"
   ]
  },
  {
   "cell_type": "code",
   "execution_count": null,
   "id": "de840d83",
   "metadata": {},
   "outputs": [],
   "source": [
    "filtered_df.shape[0]"
   ]
  },
  {
   "cell_type": "code",
   "execution_count": null,
   "id": "cc09ddfa",
   "metadata": {},
   "outputs": [],
   "source": [
    "filtered_df.to_csv(annotation_sample_path, index=False)"
   ]
  },
  {
   "cell_type": "code",
   "execution_count": null,
   "id": "a9c090e1",
   "metadata": {},
   "outputs": [],
   "source": [
    "df = pd.read_csv(annotation_sample_path)\n",
    "df.columns"
   ]
  },
  {
   "cell_type": "code",
   "execution_count": null,
   "id": "39eccd74",
   "metadata": {},
   "outputs": [],
   "source": [
    "df"
   ]
  },
  {
   "cell_type": "code",
   "execution_count": null,
   "id": "e5e88da6",
   "metadata": {},
   "outputs": [],
   "source": [
    "with pathmgr.open(annotation_sample_path, \"r\") as f:\n",
    "    f.readline()\n",
    "    for line in f:\n",
    "        row = line.split()\n",
    "        print(row)\n",
    "        break"
   ]
  },
  {
   "cell_type": "markdown",
   "id": "5a7cbcd5",
   "metadata": {},
   "source": [
    "### predicted_bbox"
   ]
  },
  {
   "cell_type": "code",
   "execution_count": null,
   "id": "f164b469",
   "metadata": {},
   "outputs": [],
   "source": [
    "annotation_train_bbox_path = '../ava/annotations/ava_train_predicted_boxes.csv'\n",
    "annotation_sample_bbox_path = '../ava/annotations/ava_sample_predicted_boxes.csv'"
   ]
  },
  {
   "cell_type": "code",
   "execution_count": null,
   "id": "bf81a5f1",
   "metadata": {},
   "outputs": [],
   "source": [
    "df = pd.read_csv(annotation_train_bbox_path)"
   ]
  },
  {
   "cell_type": "code",
   "execution_count": null,
   "id": "8684693f",
   "metadata": {},
   "outputs": [],
   "source": [
    "with pathmgr.open(annotation_train_bbox_path, \"r\") as f:\n",
    "    f.readline()\n",
    "    for line in f:\n",
    "        row = line.split()\n",
    "        print(row)\n",
    "        break"
   ]
  },
  {
   "cell_type": "code",
   "execution_count": null,
   "id": "56ef6061",
   "metadata": {},
   "outputs": [],
   "source": [
    "df.columns"
   ]
  },
  {
   "cell_type": "code",
   "execution_count": null,
   "id": "03c0abfa",
   "metadata": {},
   "outputs": [],
   "source": [
    "df.shape[0]"
   ]
  },
  {
   "cell_type": "code",
   "execution_count": null,
   "id": "711f8a0d",
   "metadata": {},
   "outputs": [],
   "source": [
    "df"
   ]
  },
  {
   "cell_type": "code",
   "execution_count": null,
   "id": "8359521a",
   "metadata": {},
   "outputs": [],
   "source": [
    "filtered_df = df[df['-5KQ66BBWC4'] == '-5KQ66BBWC4']"
   ]
  },
  {
   "cell_type": "code",
   "execution_count": null,
   "id": "52db4647",
   "metadata": {},
   "outputs": [],
   "source": [
    "filtered_df"
   ]
  },
  {
   "cell_type": "code",
   "execution_count": null,
   "id": "886cefc3",
   "metadata": {},
   "outputs": [],
   "source": [
    "filtered_df.to_csv(annotation_sample_bbox_path, index=False)"
   ]
  },
  {
   "cell_type": "code",
   "execution_count": null,
   "id": "6e7989e8",
   "metadata": {},
   "outputs": [],
   "source": [
    "with pathmgr.open(annotation_sample_bbox_path, \"r\") as f:\n",
    "    f.readline()\n",
    "    for line in f:\n",
    "        row = line.split()\n",
    "        print(row)\n",
    "        break"
   ]
  },
  {
   "cell_type": "markdown",
   "id": "eeb9092d",
   "metadata": {},
   "source": [
    "### excluded_timestamps"
   ]
  },
  {
   "cell_type": "code",
   "execution_count": null,
   "id": "68123f14",
   "metadata": {},
   "outputs": [],
   "source": [
    "annotation_train_exc_path = '../ava/annotations/ava_train_excluded_timestamps_v2.2.csv'\n",
    "annotation_sample_train_exc_path = '../ava/annotations/ava_sample_train_excluded_timestamps_v2.2.csv'"
   ]
  },
  {
   "cell_type": "code",
   "execution_count": null,
   "id": "d9bb72ad",
   "metadata": {},
   "outputs": [],
   "source": [
    "df = pd.read_csv(annotation_train_exc_path)"
   ]
  },
  {
   "cell_type": "code",
   "execution_count": null,
   "id": "c7f41752",
   "metadata": {},
   "outputs": [],
   "source": [
    "df"
   ]
  },
  {
   "cell_type": "code",
   "execution_count": null,
   "id": "911e30c7",
   "metadata": {},
   "outputs": [],
   "source": [
    "filtered_df = df[df['0f39OWEqJ24'] == '-5KQ66BBWC4']"
   ]
  },
  {
   "cell_type": "code",
   "execution_count": null,
   "id": "0f75c1c7",
   "metadata": {},
   "outputs": [],
   "source": [
    "filtered_df"
   ]
  },
  {
   "cell_type": "code",
   "execution_count": null,
   "id": "5989ba93",
   "metadata": {},
   "outputs": [],
   "source": [
    "filtered_df.to_csv(annotation_sample_train_exc_path, index=False)"
   ]
  },
  {
   "cell_type": "code",
   "execution_count": null,
   "id": "32625fc8",
   "metadata": {},
   "outputs": [],
   "source": [
    "annotation_val_exc_path = '../ava/annotations/ava_val_excluded_timestamps_v2.2.csv'\n",
    "annotation_sample_val_exc_path = '../ava/annotations/ava_sample_val_excluded_timestamps_v2.2.csv'"
   ]
  },
  {
   "cell_type": "code",
   "execution_count": null,
   "id": "ae32c795",
   "metadata": {},
   "outputs": [],
   "source": [
    "df = pd.read_csv(annotation_val_exc_path)"
   ]
  },
  {
   "cell_type": "code",
   "execution_count": null,
   "id": "0c443831",
   "metadata": {},
   "outputs": [],
   "source": [
    "df"
   ]
  },
  {
   "cell_type": "code",
   "execution_count": null,
   "id": "dcfc74b1",
   "metadata": {},
   "outputs": [],
   "source": [
    "filtered_df = df[df['5BDj0ow5hnA'] == '-5KQ66BBWC4']"
   ]
  },
  {
   "cell_type": "code",
   "execution_count": null,
   "id": "23e893f4",
   "metadata": {},
   "outputs": [],
   "source": [
    "filtered_df"
   ]
  },
  {
   "cell_type": "code",
   "execution_count": null,
   "id": "98ae0d0d",
   "metadata": {},
   "outputs": [],
   "source": [
    "filtered_df.to_csv(annotation_sample_val_exc_path, index=False)"
   ]
  },
  {
   "cell_type": "code",
   "execution_count": null,
   "id": "25468059",
   "metadata": {},
   "outputs": [],
   "source": []
  }
 ],
 "metadata": {
  "kernelspec": {
   "display_name": "Python 3 (ipykernel)",
   "language": "python",
   "name": "python3"
  },
  "language_info": {
   "codemirror_mode": {
    "name": "ipython",
    "version": 3
   },
   "file_extension": ".py",
   "mimetype": "text/x-python",
   "name": "python",
   "nbconvert_exporter": "python",
   "pygments_lexer": "ipython3",
   "version": "3.8.10"
  }
 },
 "nbformat": 4,
 "nbformat_minor": 5
}
