{
 "cells": [
  {
   "cell_type": "code",
   "execution_count": 1,
   "id": "8d265637",
   "metadata": {},
   "outputs": [],
   "source": [
    "import argparse\n",
    "import os\n",
    "\n",
    "import cv2\n",
    "import math\n",
    "import numpy as np\n",
    "import moviepy \n",
    "from matplotlib import pyplot as plt\n",
    "\n",
    "\n",
    "import torch\n",
    "\n",
    "from alphaction.config import cfg\n",
    "from alphaction.dataset import make_data_loader\n",
    "from alphaction.engine.inference import inference\n",
    "from alphaction.modeling.detector import build_detection_model\n",
    "from alphaction.utils.checkpoint import ActionCheckpointer\n",
    "from torch.utils.collect_env import get_pretty_env_info\n",
    "from alphaction.utils.comm import synchronize, get_rank\n",
    "from alphaction.utils.logger import setup_logger\n",
    "#pytorch issuse #973\n",
    "import resource\n",
    "\n",
    "\n",
    "from my_utils.gen_utils import create_experiment_folder\n"
   ]
  },
  {
   "cell_type": "markdown",
   "id": "d286e416",
   "metadata": {},
   "source": [
    "### 1. CONFIG"
   ]
  },
  {
   "cell_type": "code",
   "execution_count": 2,
   "id": "ff6f73c3",
   "metadata": {},
   "outputs": [],
   "source": [
    "model_name = 'VMAEv2'\n",
    "video_path = '../input_dir/markt2_fight.mp4'\n",
    "\n",
    "\n",
    "person_threshold = 0.8 # confidence threshold on actor. 0.6 is the defualt\n",
    "sampling_rate = 3 # sampling rate: 4 is the defualt\n",
    "top_k = 5 # number of actions per person\n",
    "\n",
    "if model_name == 'VMAEv2':\n",
    "    config_file = '../config_files/VMAEv2-ViTB-16x4.yaml'\n",
    "    model_checkpoint = '../checkpoints/VMAEv2_ViTB_16x4.pth'\n",
    "if model_name == 'VMAE':\n",
    "    config_file = '../config_files/VMAE-ViTB-16x4.yaml'\n",
    "    model_checkpoint = '../checkpoints/VMAE_ViTB_16x4.pth'\n",
    "\n",
    "    "
   ]
  },
  {
   "cell_type": "code",
   "execution_count": 3,
   "id": "ebf6641a",
   "metadata": {},
   "outputs": [
    {
     "data": {
      "text/plain": [
       "'../output_dir/markt2_fight/VMAEv2/single_patch/exp_1'"
      ]
     },
     "execution_count": 3,
     "metadata": {},
     "output_type": "execute_result"
    }
   ],
   "source": [
    "video_name = os.path.basename(video_path).split('.')[0]\n",
    "output_directory = f'../output_dir/{video_name}/{model_name}/single_patch/' \n",
    "output_directory = create_experiment_folder(output_directory, 'exp')\n",
    "output_directory"
   ]
  },
  {
   "cell_type": "markdown",
   "id": "cb41bec8",
   "metadata": {},
   "source": [
    "#### 1.1 Config construction"
   ]
  },
  {
   "cell_type": "code",
   "execution_count": 4,
   "id": "13bb1541",
   "metadata": {},
   "outputs": [],
   "source": [
    "cfg.merge_from_file(config_file)"
   ]
  },
  {
   "cell_type": "code",
   "execution_count": 5,
   "id": "83aabfa5",
   "metadata": {},
   "outputs": [],
   "source": [
    "# change model weight path\n",
    "cfg.merge_from_list([\"MODEL.WEIGHT\", \"../checkpoints/VMAEv2_ViTB_16x4.pth\"])\n",
    "\n",
    "# change output dir\n",
    "cfg.merge_from_list([\"OUTPUT_DIR\", \"../output_dir/\"])\n",
    "\n",
    "# change person threshold\n",
    "cfg.merge_from_list([\"MODEL.STM.PERSON_THRESHOLD\", person_threshold])\n",
    "\n",
    "# change sampling rate\n",
    "cfg.merge_from_list([\"DATA.SAMPLING_RATE\", sampling_rate])\n",
    "\n",
    "# change path for data_dir\n",
    "cfg.merge_from_list([\"DATA.PATH_TO_DATA_DIR\", \"/work/ava\"])\n",
    "\n",
    "# folder name of annotations\n",
    "cfg.merge_from_list([\"AVA.ANNOTATION_DIR\", \"annotations/\"])\n",
    "\n",
    "# file name of  frame_lists\n",
    "cfg.merge_from_list([\"AVA.TRAIN_LISTS\", ['sample.csv']])\n",
    "cfg.merge_from_list([\"AVA.TEST_LISTS\", ['sample.csv']])\n",
    "\n",
    "# file name of predicted_bboxes\n",
    "cfg.merge_from_list([\"AVA.TRAIN_GT_BOX_LISTS\", ['ava_sample_predicted_boxes.csv']])\n",
    "cfg.merge_from_list([\"AVA.TEST_GT_BOX_LISTS\", ['ava_sample_predicted_boxes.csv']])\n",
    "\n",
    "# file name of exlusions\n",
    "cfg.merge_from_list([\"AVA.EXCLUSION_FILE\", 'ava_sample_train_excluded_timestamps_v2.2.csv'])\n",
    "\n",
    "# number of batches in test scenario\n",
    "cfg.merge_from_list([\"TEST.VIDEOS_PER_BATCH\", 1])\n",
    "\n",
    "# number of workers\n",
    "cfg.merge_from_list([\"DATALOADER.NUM_WORKERS\", 1])\n"
   ]
  },
  {
   "cell_type": "markdown",
   "id": "141c42da",
   "metadata": {},
   "source": [
    "### 2. ARGS"
   ]
  },
  {
   "cell_type": "code",
   "execution_count": 6,
   "id": "a1d2b7c0",
   "metadata": {},
   "outputs": [
    {
     "name": "stdout",
     "output_type": "stream",
     "text": [
      "cfg.DATALOADER.SIZE_DIVISIBILITY:  32\n",
      "cfg.DATA.SAMPLING_RATE:  3\n",
      "cfg.DATA.NUM_FRAMES:  16\n",
      "self_seq_len:  48\n",
      "cfg.MODEL.STM.ACTION_CLASSES:  80\n",
      "Augmentation params:  [0.45, 0.45, 0.45] [0.225, 0.225, 0.225] False\n",
      "scale and flip params [256] 1333 False\n"
     ]
    }
   ],
   "source": [
    "debug = True\n",
    "if debug:\n",
    "    \n",
    "    # The shape of model input should be divisible into this. Otherwise, padding 0 to left and bottum. \n",
    "    print(\"cfg.DATALOADER.SIZE_DIVISIBILITY: \", cfg.DATALOADER.SIZE_DIVISIBILITY)\n",
    "    \n",
    "    # Sampling rate in constructing the clips.\n",
    "    self_sample_rate =  cfg.DATA.SAMPLING_RATE\n",
    "    print(\"cfg.DATA.SAMPLING_RATE: \", cfg.DATA.SAMPLING_RATE)\n",
    "    \n",
    "    # Length of clip\n",
    "    self_video_length = cfg.DATA.NUM_FRAMES\n",
    "    print(\"cfg.DATA.NUM_FRAMES: \", cfg.DATA.NUM_FRAMES)\n",
    "    \n",
    "    # Length of sequence frames from which a clip is constructed.\n",
    "    self_seq_len = self_video_length * self_sample_rate\n",
    "    print(\"self_seq_len: \", self_seq_len)\n",
    "    \n",
    "    self_num_classes = cfg.MODEL.STM.ACTION_CLASSES\n",
    "    print(\"cfg.MODEL.STM.ACTION_CLASSES: \", self_num_classes)\n",
    "    \n",
    "    # Augmentation params.\n",
    "    self_data_mean = cfg.DATA.MEAN\n",
    "    self_data_std = cfg.DATA.STD\n",
    "    self_use_bgr = cfg.AVA.BGR\n",
    "    print(\"Augmentation params: \", self_data_mean, self_data_std, self_use_bgr)\n",
    "    \n",
    "    self_jitter_min_scale = cfg.DATA.TEST_MIN_SCALES\n",
    "    self_jitter_max_scale = cfg.DATA.TEST_MAX_SCALE\n",
    "    self_test_force_flip = cfg.AVA.TEST_FORCE_FLIP\n",
    "\n",
    "    print(\"scale and flip params\", self_jitter_min_scale, self_jitter_max_scale, self_test_force_flip)"
   ]
  },
  {
   "cell_type": "code",
   "execution_count": 7,
   "id": "52f7798b",
   "metadata": {},
   "outputs": [
    {
     "name": "stdout",
     "output_type": "stream",
     "text": [
      "48\n"
     ]
    }
   ],
   "source": [
    "seq_len = cfg.DATA.NUM_FRAMES * cfg.DATA.SAMPLING_RATE\n",
    "print(seq_len)"
   ]
  },
  {
   "cell_type": "markdown",
   "id": "b03aefd4",
   "metadata": {},
   "source": [
    "### 3. VIDEO\n",
    "\n",
    "This section of code is to:\n",
    "   * extract the video properties\n",
    "   * visualizing a sample frame\n",
    "   * visualizing cropped frame"
   ]
  },
  {
   "cell_type": "code",
   "execution_count": 8,
   "id": "40d63617",
   "metadata": {},
   "outputs": [],
   "source": [
    "from my_utils.video_processing import get_video_info\n",
    "from my_utils.video_processing import visualize_crop_on_frames, segment_crop_video\n",
    "\n",
    "from moviepy.editor import ImageSequenceClip\n",
    "\n",
    "from IPython.display import display, HTML"
   ]
  },
  {
   "cell_type": "code",
   "execution_count": 9,
   "id": "0a2287fe",
   "metadata": {},
   "outputs": [],
   "source": [
    "video_path = '../input_dir/markt2_fight.mp4'"
   ]
  },
  {
   "cell_type": "code",
   "execution_count": 10,
   "id": "b1539d2c",
   "metadata": {},
   "outputs": [],
   "source": [
    "video_info = get_video_info(video_path)"
   ]
  },
  {
   "cell_type": "markdown",
   "id": "a8a567c2",
   "metadata": {},
   "source": [
    "Getting info from video"
   ]
  },
  {
   "cell_type": "code",
   "execution_count": 11,
   "id": "9252bd27",
   "metadata": {},
   "outputs": [
    {
     "data": {
      "text/plain": [
       "{'frame_count': 368,\n",
       " 'frame_rate': 16.999,\n",
       " 'width': 2592,\n",
       " 'height': 1944,\n",
       " 'fps': 16.999}"
      ]
     },
     "execution_count": 11,
     "metadata": {},
     "output_type": "execute_result"
    }
   ],
   "source": [
    "video_info"
   ]
  },
  {
   "cell_type": "code",
   "execution_count": 12,
   "id": "412b4eef",
   "metadata": {},
   "outputs": [],
   "source": [
    "original_height = video_info['height']\n",
    "original_width = video_info['width']"
   ]
  },
  {
   "cell_type": "markdown",
   "id": "4e62b045",
   "metadata": {},
   "source": [
    "#### 3.1 Sample Frame\n",
    "\n",
    "We choose a sample frame and show the selected crop using following params:"
   ]
  },
  {
   "cell_type": "code",
   "execution_count": 13,
   "id": "43a13249",
   "metadata": {},
   "outputs": [],
   "source": [
    "if True:\n",
    "    frame_index = 0\n",
    "    length = 1\n",
    "    crop_box = [0, 1300, 800, 1900]\n",
    "    \n",
    "if False: # fight in markt2_fight\n",
    "    frame_index = 150\n",
    "    length = 1\n",
    "    crop_box = [1350, 700, 2200, 1500]\n",
    "if False: # prison\n",
    "    frame_index = 100\n",
    "    length = 1\n",
    "    crop_box = [200, 200, 800, 600]\n",
    "if False: # Brent\n",
    "    frame_index = 650\n",
    "    length = 1\n",
    "    crop_box = [0, 600, 700, 1080]\n",
    "    "
   ]
  },
  {
   "cell_type": "code",
   "execution_count": 14,
   "id": "c43bc40e",
   "metadata": {},
   "outputs": [],
   "source": [
    "sample_frame = visualize_crop_on_frames(video_path, \n",
    "                                        frame_index=frame_index, \n",
    "                                        length=length, \n",
    "                                        crop=crop_box)"
   ]
  },
  {
   "cell_type": "code",
   "execution_count": 15,
   "id": "523f53bf",
   "metadata": {},
   "outputs": [
    {
     "data": {
      "image/png": "[encoded data removed]",
      "text/plain": [
       "<Figure size 640x480 with 1 Axes>"
      ]
     },
     "metadata": {},
     "output_type": "display_data"
    }
   ],
   "source": [
    "plt.imshow(sample_frame[0])\n",
    "plt.show()"
   ]
  },
  {
   "cell_type": "markdown",
   "id": "1e64908f",
   "metadata": {},
   "source": [
    "#### 3.2 Sample clip\n",
    "\n",
    "Visualize the spatial cropping and temporal segmentation of the video"
   ]
  },
  {
   "cell_type": "code",
   "execution_count": 16,
   "id": "069f4815",
   "metadata": {},
   "outputs": [],
   "source": [
    "frame_index = 0 # starting frame index\n",
    "length = 300 # number of frames to construct the clip\n",
    "crop_box = [0, 1300, 800, 1900]# xyxyx coordinates of crop\n",
    "\n",
    "crop_x1, crop_y1, crop_x2, crop_y2 = crop_box"
   ]
  },
  {
   "cell_type": "code",
   "execution_count": 17,
   "id": "cb44c50a",
   "metadata": {},
   "outputs": [],
   "source": [
    "sample_clip = visualize_crop_on_frames(video_path, \n",
    "                                       frame_index=frame_index, \n",
    "                                       length=length, \n",
    "                                       crop=crop_box)\n",
    "vis_clip = ImageSequenceClip(sample_clip, fps=round(video_info['frame_rate']))"
   ]
  },
  {
   "cell_type": "code",
   "execution_count": 18,
   "id": "e214b662",
   "metadata": {},
   "outputs": [
    {
     "data": {
      "text/plain": [
       "(1944, 2592, 3)"
      ]
     },
     "execution_count": 18,
     "metadata": {},
     "output_type": "execute_result"
    }
   ],
   "source": [
    "sample_clip[0].shape"
   ]
  },
  {
   "cell_type": "code",
   "execution_count": 19,
   "id": "27c80d25",
   "metadata": {},
   "outputs": [],
   "source": [
    "#display(vis_clip.ipython_display(fps=round(video_info['frame_rate']), autoplay=True, loop=True))"
   ]
  },
  {
   "cell_type": "markdown",
   "id": "d9d1d5e6",
   "metadata": {},
   "source": [
    "### 4. Constructing sample video\n",
    "Here we crop spatially (crop_box) and temporally (frame_index and length) the input video"
   ]
  },
  {
   "cell_type": "code",
   "execution_count": 20,
   "id": "0cfd182b",
   "metadata": {},
   "outputs": [],
   "source": [
    "copped_video = segment_crop_video(video_path, \n",
    "                                  frame_index=frame_index, \n",
    "                                  length=length, \n",
    "                                  crop=crop_box)"
   ]
  },
  {
   "cell_type": "code",
   "execution_count": 21,
   "id": "0726e18c",
   "metadata": {},
   "outputs": [
    {
     "data": {
      "text/plain": [
       "(300, (600, 800, 3))"
      ]
     },
     "execution_count": 21,
     "metadata": {},
     "output_type": "execute_result"
    }
   ],
   "source": [
    "len(copped_video), copped_video[0].shape"
   ]
  },
  {
   "cell_type": "code",
   "execution_count": 22,
   "id": "53b09d8d",
   "metadata": {},
   "outputs": [],
   "source": [
    "crop_height, crop_width = copped_video[0].shape[:2]"
   ]
  },
  {
   "cell_type": "code",
   "execution_count": 23,
   "id": "ae18c930",
   "metadata": {},
   "outputs": [
    {
     "data": {
      "text/plain": [
       "(600, 800)"
      ]
     },
     "execution_count": 23,
     "metadata": {},
     "output_type": "execute_result"
    }
   ],
   "source": [
    "crop_height, crop_width"
   ]
  },
  {
   "cell_type": "markdown",
   "id": "33774ebf",
   "metadata": {},
   "source": [
    "### 5. Pre-Processing\n",
    "\n",
    "We pre-process the whole copped video."
   ]
  },
  {
   "cell_type": "code",
   "execution_count": 24,
   "id": "eac9b368",
   "metadata": {},
   "outputs": [],
   "source": [
    "from alphaction.dataset.datasets import cv2_transform as cv2_transform\n"
   ]
  },
  {
   "cell_type": "code",
   "execution_count": 25,
   "id": "ab336590",
   "metadata": {},
   "outputs": [],
   "source": [
    "def ava_preprocessing_cv2(sample_cropped_clip, cfg):\n",
    "    \n",
    "    \n",
    "    height, width, _ = sample_cropped_clip[0].shape\n",
    "    \n",
    "    imgs, boxes = cv2_transform.random_short_side_scale_jitter(\n",
    "        sample_cropped_clip,\n",
    "        min_sizes=cfg.DATA.TEST_MIN_SCALES,\n",
    "        max_size=cfg.DATA.TEST_MAX_SCALE,\n",
    "        boxes=None,\n",
    "    )\n",
    "    ### imgs: (list, 144, (256, 320, 3))\n",
    "    ### boxes: None\n",
    "    \n",
    "    # Convert image to CHW keeping BGR order.\n",
    "    imgs = [cv2_transform.HWC2CHW(img) for img in imgs]\n",
    "    ### imgs: (list, 144, (3, 256, 320))\n",
    "    \n",
    "    # Image [0, 255] -> [0, 1].\n",
    "    imgs = [img / 255.0 for img in imgs]\n",
    "    \n",
    "    imgs = [np.ascontiguousarray(\n",
    "        # img.reshape((3, self._crop_size, self._crop_size))\n",
    "        img.reshape((3, imgs[0].shape[1], imgs[0].shape[2]))\n",
    "    ).astype(np.float32) for img in imgs]\n",
    "    ### imgs: list, 144, (3, 256, 320)\n",
    "    \n",
    "    imgs = [\n",
    "        cv2_transform.color_normalization(\n",
    "            img,\n",
    "            np.array(cfg.DATA.MEAN, dtype=np.float32),\n",
    "            np.array(cfg.DATA.STD, dtype=np.float32),\n",
    "        )\n",
    "        for img in imgs\n",
    "    ]\n",
    "    ### imgs: list,144, (3, 256, 320), array([-2.,2.4444447, -2.], dtype=float32)    \n",
    "    \n",
    "    imgs = np.concatenate([np.expand_dims(img, axis=1) for img in imgs], axis=1)\n",
    "    ### imgs: numpy.ndarray, (3, 144, 256, 320)\n",
    "    \n",
    "    # Convert image format from BGR to RGB.\n",
    "    if not cfg.AVA.BGR:\n",
    "        imgs = imgs[::-1, ...]\n",
    "    ### (3, 144, 256, 320)\n",
    "    \n",
    "    imgs = np.ascontiguousarray(imgs)\n",
    "    \n",
    "    imgs = torch.from_numpy(imgs)\n",
    "    ### torch.Size([3, 144, 256, 320])\n",
    "    \n",
    "    return imgs\n",
    "    "
   ]
  },
  {
   "cell_type": "code",
   "execution_count": 26,
   "id": "219fb2a6",
   "metadata": {},
   "outputs": [],
   "source": [
    "prep_video = ava_preprocessing_cv2(copped_video, cfg)"
   ]
  },
  {
   "cell_type": "code",
   "execution_count": 27,
   "id": "08e2c6b3",
   "metadata": {},
   "outputs": [
    {
     "data": {
      "text/plain": [
       "torch.Size([3, 300, 256, 341])"
      ]
     },
     "execution_count": 27,
     "metadata": {},
     "output_type": "execute_result"
    }
   ],
   "source": [
    "prep_video.shape"
   ]
  },
  {
   "cell_type": "code",
   "execution_count": 28,
   "id": "c2704b4a",
   "metadata": {},
   "outputs": [
    {
     "data": {
      "text/plain": [
       "(256, 341)"
      ]
     },
     "execution_count": 28,
     "metadata": {},
     "output_type": "execute_result"
    }
   ],
   "source": [
    "prep_height, prep_width = prep_video.shape[-2:]\n",
    "prep_height, prep_width"
   ]
  },
  {
   "cell_type": "markdown",
   "id": "1045df8c",
   "metadata": {},
   "source": [
    "### 6. Constructing clips\n",
    "We construct the clips using `rate_sample`, and `num_frames`, where `rate_sample` is the sample rate used in constructing the clip and `num_frames` is the length of clip."
   ]
  },
  {
   "cell_type": "code",
   "execution_count": 29,
   "id": "dd8f1a2c",
   "metadata": {},
   "outputs": [],
   "source": [
    "def clip_constructor(tensor, rate_sample, num_frames):\n",
    "    \"\"\"\n",
    "    Sample frames from a given tensor with all possible combinations.\n",
    "\n",
    "    Args:\n",
    "        tensor (torch.Tensor): Input tensor of shape 3xNxHxW.\n",
    "        rate_sample (int): Sampling rate.\n",
    "        num_frames (int): Number of frames in each sampled tensor.\n",
    "\n",
    "    Returns:\n",
    "        Tuple: List of sampled tensors, each with shape 3xnum_framesxHxW,\n",
    "               and list of corresponding center frame indices.\n",
    "    \"\"\"\n",
    "    sampled_tensors = []\n",
    "    sampled_center_frames = []\n",
    "\n",
    "    # Calculate the maximum possible starting index\n",
    "    max_start_index = tensor.size(1) - num_frames * rate_sample + 1\n",
    "    \n",
    "    # Iterate over all possible starting indices\n",
    "    for start_index in range(max_start_index):\n",
    "        # Extract frames using the specified sampling rate and number of frames\n",
    "        \n",
    "        sampled_center_frames.append(int(start_index + rate_sample * num_frames/2))\n",
    "        \n",
    "        sampled_frames = tensor[:, start_index:start_index+rate_sample*num_frames:rate_sample, :, :]\n",
    "        sampled_tensors.append(sampled_frames)\n",
    "        \n",
    "    \n",
    "    return sampled_tensors, sampled_center_frames\n"
   ]
  },
  {
   "cell_type": "code",
   "execution_count": 30,
   "id": "e4578703",
   "metadata": {},
   "outputs": [],
   "source": [
    "prep_clips, center_frames = clip_constructor(prep_video, \n",
    "                                             rate_sample=cfg.DATA.SAMPLING_RATE, \n",
    "                                             num_frames=cfg.DATA.NUM_FRAMES)"
   ]
  },
  {
   "cell_type": "code",
   "execution_count": 31,
   "id": "7154b943",
   "metadata": {},
   "outputs": [
    {
     "data": {
      "text/plain": [
       "(253, torch.Size([3, 16, 256, 341]))"
      ]
     },
     "execution_count": 31,
     "metadata": {},
     "output_type": "execute_result"
    }
   ],
   "source": [
    "len(prep_clips), prep_clips[0].shape"
   ]
  },
  {
   "cell_type": "code",
   "execution_count": 32,
   "id": "7e62c2ce",
   "metadata": {},
   "outputs": [
    {
     "data": {
      "text/plain": [
       "(256, 341)"
      ]
     },
     "execution_count": 32,
     "metadata": {},
     "output_type": "execute_result"
    }
   ],
   "source": [
    "prep_height, prep_width = prep_clips[0].shape[-2:]\n",
    "prep_height, prep_width"
   ]
  },
  {
   "cell_type": "code",
   "execution_count": 33,
   "id": "bace2787",
   "metadata": {},
   "outputs": [
    {
     "data": {
      "text/plain": [
       "(253, 24)"
      ]
     },
     "execution_count": 33,
     "metadata": {},
     "output_type": "execute_result"
    }
   ],
   "source": [
    "len(center_frames), center_frames[0]"
   ]
  },
  {
   "cell_type": "markdown",
   "id": "73adebcd",
   "metadata": {},
   "source": [
    "### 7. Constructing batches"
   ]
  },
  {
   "cell_type": "code",
   "execution_count": 34,
   "id": "81102f43",
   "metadata": {},
   "outputs": [
    {
     "data": {
      "text/plain": [
       "1"
      ]
     },
     "execution_count": 34,
     "metadata": {},
     "output_type": "execute_result"
    }
   ],
   "source": [
    "from alphaction.dataset.datasets.utils import pack_pathway_output\n",
    "pathways = cfg.MODEL.BACKBONE.PATHWAYS\n",
    "pathways"
   ]
  },
  {
   "cell_type": "code",
   "execution_count": 35,
   "id": "14c5dbef",
   "metadata": {},
   "outputs": [],
   "source": [
    "def batch_different_videos(videos, size_divisible=0):\n",
    "    '''\n",
    "    :param videos: a list of video tensors\n",
    "    :param size_divisible: output_size(width and height) should be divisble by this param\n",
    "    :return: batched videos as a single tensor\n",
    "    '''\n",
    "    assert isinstance(videos, (tuple, list))\n",
    "    max_size = tuple(max(s) for s in zip(*[clip.shape for clip in videos]))\n",
    "\n",
    "    if size_divisible > 0:\n",
    "        stride = size_divisible\n",
    "        max_size = list(max_size)\n",
    "        max_size[2] = int(math.ceil(max_size[2] / stride) * stride)\n",
    "        max_size[3] = int(math.ceil(max_size[3] / stride) * stride)\n",
    "        max_size = tuple(max_size)\n",
    "\n",
    "    batch_shape = (len(videos),) + max_size\n",
    "    batched_clips = videos[0].new(*batch_shape).zero_()\n",
    "    for clip, pad_clip in zip(videos, batched_clips):\n",
    "        pad_clip[:clip.shape[0], :clip.shape[1], :clip.shape[2], :clip.shape[3]].copy_(clip)\n",
    "\n",
    "    return batched_clips\n"
   ]
  },
  {
   "cell_type": "code",
   "execution_count": 36,
   "id": "d26c3e6d",
   "metadata": {},
   "outputs": [],
   "source": [
    "if False: # we instead write the rest of dataloader and adding functionality of batch_collator\n",
    "    from alphaction.dataset.collate_batch import BatchCollator\n",
    "    batch_collator = BatchCollator(cfg.DATALOADER.SIZE_DIVISIBILITY)"
   ]
  },
  {
   "cell_type": "code",
   "execution_count": 37,
   "id": "36f9a6bd",
   "metadata": {},
   "outputs": [],
   "source": [
    "list_collated_batches = []\n",
    "\n",
    "for idx, clip in enumerate(prep_clips):\n",
    "    clip_pathways = pack_pathway_output(cfg, clip, pathways=pathways)\n",
    "    \n",
    "    if pathways == 1:\n",
    "        slow, fast = clip_pathways[0], None\n",
    "    else:\n",
    "        slow, fast = clip_pathways[0], clip_pathways[1]\n",
    "\n",
    "    \n",
    "    h, w = slow.shape[-2:]\n",
    "    whwh = torch.tensor([w, h, w, h], dtype=torch.float32)\n",
    "    whwh = whwh.unsqueeze(0)\n",
    "    \n",
    "    metadata = ([0, center_frames[idx]], )\n",
    "    boxes = (None,)\n",
    "    label_arrs = (None,)\n",
    "    \n",
    "    if pathways == 1:\n",
    "        slow_clip = batch_different_videos([slow], cfg.DATALOADER.SIZE_DIVISIBILITY)\n",
    "        fast_clip = None\n",
    "    else:\n",
    "        slow_clip = batch_different_videos([slow], cfg.DATALOADER.SIZE_DIVISIBILITY)\n",
    "        fast_clip = batch_different_videos([fast], cfg.DATALOADER.SIZE_DIVISIBILITY)\n",
    "    \n",
    "    clip_idx = (idx, )\n",
    "    list_collated_batches.append([slow_clip, fast_clip, whwh, boxes, label_arrs, metadata, clip_idx])\n",
    "    \n",
    "    \n",
    "    "
   ]
  },
  {
   "cell_type": "markdown",
   "id": "aa17f716",
   "metadata": {},
   "source": [
    "### 8. Sample Batch"
   ]
  },
  {
   "cell_type": "code",
   "execution_count": 38,
   "id": "1d4de5b9",
   "metadata": {},
   "outputs": [],
   "source": [
    "batch = list_collated_batches[0]"
   ]
  },
  {
   "cell_type": "code",
   "execution_count": 39,
   "id": "4c81eab7",
   "metadata": {},
   "outputs": [],
   "source": [
    "slow_clips, fast_clips, whwh, boxes, label_arrs, metadata, clip_ids = batch"
   ]
  },
  {
   "cell_type": "code",
   "execution_count": 1,
   "id": "dd9f69cd",
   "metadata": {},
   "outputs": [
    {
     "ename": "NameError",
     "evalue": "name 'slow_clips' is not defined",
     "output_type": "error",
     "traceback": [
      "\u001b[0;31m---------------------------------------------------------------------------\u001b[0m",
      "\u001b[0;31mNameError\u001b[0m                                 Traceback (most recent call last)",
      "Cell \u001b[0;32mIn[1], line 1\u001b[0m\n\u001b[0;32m----> 1\u001b[0m \u001b[43mslow_clips\u001b[49m\u001b[38;5;241m.\u001b[39mshape\n",
      "\u001b[0;31mNameError\u001b[0m: name 'slow_clips' is not defined"
     ]
    }
   ],
   "source": [
    "slow_clips.shape"
   ]
  },
  {
   "cell_type": "code",
   "execution_count": 40,
   "id": "f208512b",
   "metadata": {},
   "outputs": [
    {
     "data": {
      "text/plain": [
       "(256, 352)"
      ]
     },
     "execution_count": 40,
     "metadata": {},
     "output_type": "execute_result"
    }
   ],
   "source": [
    "clips_height, clips_width = slow_clips.shape[-2:]\n",
    "clips_height, clips_width \n"
   ]
  },
  {
   "cell_type": "code",
   "execution_count": 41,
   "id": "5a2b6802",
   "metadata": {},
   "outputs": [
    {
     "data": {
      "text/plain": [
       "(torch.Size([1, 3, 16, 256, 352]), torch.float32, device(type='cpu'), False)"
      ]
     },
     "execution_count": 41,
     "metadata": {},
     "output_type": "execute_result"
    }
   ],
   "source": [
    "slow_clips.shape, slow_clips.dtype, slow_clips.device, slow_clips.requires_grad"
   ]
  },
  {
   "cell_type": "code",
   "execution_count": 42,
   "id": "11b2b315",
   "metadata": {},
   "outputs": [
    {
     "name": "stdout",
     "output_type": "stream",
     "text": [
      "fast_clips is None for this config: ../config_files/VMAEv2-ViTB-16x4.yaml\n"
     ]
    }
   ],
   "source": [
    "if fast_clips:\n",
    "    print(fast_clips.shape, fast_clips.dtype, fast_clips.device, fast_clips.requires_grad)\n",
    "else:\n",
    "    print(f\"fast_clips is None for this config: {config_file}\")"
   ]
  },
  {
   "cell_type": "code",
   "execution_count": 43,
   "id": "ec3f7170",
   "metadata": {},
   "outputs": [
    {
     "data": {
      "text/plain": [
       "tensor([[341., 256., 341., 256.]])"
      ]
     },
     "execution_count": 43,
     "metadata": {},
     "output_type": "execute_result"
    }
   ],
   "source": [
    "whwh"
   ]
  },
  {
   "cell_type": "code",
   "execution_count": 44,
   "id": "5f8a247f",
   "metadata": {},
   "outputs": [
    {
     "data": {
      "text/plain": [
       "(torch.Size([1, 4]), torch.float32, device(type='cpu'), False)"
      ]
     },
     "execution_count": 44,
     "metadata": {},
     "output_type": "execute_result"
    }
   ],
   "source": [
    "whwh.shape, whwh.dtype, whwh.device, whwh.requires_grad\n"
   ]
  },
  {
   "cell_type": "code",
   "execution_count": 45,
   "id": "985823c3",
   "metadata": {},
   "outputs": [
    {
     "data": {
      "text/plain": [
       "(tuple, 1)"
      ]
     },
     "execution_count": 45,
     "metadata": {},
     "output_type": "execute_result"
    }
   ],
   "source": [
    "type(boxes), len(boxes)"
   ]
  },
  {
   "cell_type": "code",
   "execution_count": 46,
   "id": "b6746b46",
   "metadata": {},
   "outputs": [
    {
     "data": {
      "text/plain": [
       "(tuple, 1)"
      ]
     },
     "execution_count": 46,
     "metadata": {},
     "output_type": "execute_result"
    }
   ],
   "source": [
    "type(label_arrs), len(label_arrs)"
   ]
  },
  {
   "cell_type": "code",
   "execution_count": 47,
   "id": "c62f8a0c",
   "metadata": {},
   "outputs": [
    {
     "data": {
      "text/plain": [
       "([0, 24],)"
      ]
     },
     "execution_count": 47,
     "metadata": {},
     "output_type": "execute_result"
    }
   ],
   "source": [
    "metadata"
   ]
  },
  {
   "cell_type": "code",
   "execution_count": 48,
   "id": "eddca2b7",
   "metadata": {},
   "outputs": [
    {
     "data": {
      "text/plain": [
       "(0,)"
      ]
     },
     "execution_count": 48,
     "metadata": {},
     "output_type": "execute_result"
    }
   ],
   "source": [
    "clip_ids"
   ]
  },
  {
   "cell_type": "markdown",
   "id": "0c813186",
   "metadata": {},
   "source": [
    "### 9. building model"
   ]
  },
  {
   "cell_type": "code",
   "execution_count": 49,
   "id": "cc4bfd9b",
   "metadata": {},
   "outputs": [],
   "source": [
    "model = build_detection_model(cfg)"
   ]
  },
  {
   "cell_type": "code",
   "execution_count": 50,
   "id": "82915a2d",
   "metadata": {},
   "outputs": [
    {
     "data": {
      "text/plain": [
       "STMDetector(\n",
       "  (backbone): ViT(\n",
       "    (patch_embed): PatchEmbed(\n",
       "      (proj): Conv3d(3, 768, kernel_size=(2, 16, 16), stride=(2, 16, 16))\n",
       "    )\n",
       "    (pos_drop): Dropout(p=0.0, inplace=False)\n",
       "    (blocks): ModuleList(\n",
       "      (0): Block(\n",
       "        (norm1): LayerNorm((768,), eps=1e-06, elementwise_affine=True)\n",
       "        (attn): Attention(\n",
       "          (qkv): Linear(in_features=768, out_features=2304, bias=False)\n",
       "          (attn_drop): Dropout(p=0.0, inplace=False)\n",
       "          (proj): Linear(in_features=768, out_features=768, bias=True)\n",
       "          (proj_drop): Dropout(p=0.0, inplace=False)\n",
       "        )\n",
       "        (drop_path): Identity()\n",
       "        (norm2): LayerNorm((768,), eps=1e-06, elementwise_affine=True)\n",
       "        (mlp): Mlp(\n",
       "          (fc1): Linear(in_features=768, out_features=3072, bias=True)\n",
       "          (act): GELU(approximate='none')\n",
       "          (fc2): Linear(in_features=3072, out_features=768, bias=True)\n",
       "          (drop): Dropout(p=0.0, inplace=False)\n",
       "        )\n",
       "      )\n",
       "      (1): Block(\n",
       "        (norm1): LayerNorm((768,), eps=1e-06, elementwise_affine=True)\n",
       "        (attn): Attention(\n",
       "          (qkv): Linear(in_features=768, out_features=2304, bias=False)\n",
       "          (attn_drop): Dropout(p=0.0, inplace=False)\n",
       "          (proj): Linear(in_features=768, out_features=768, bias=True)\n",
       "          (proj_drop): Dropout(p=0.0, inplace=False)\n",
       "        )\n",
       "        (drop_path): DropPath(p=0.0181818176060915)\n",
       "        (norm2): LayerNorm((768,), eps=1e-06, elementwise_affine=True)\n",
       "        (mlp): Mlp(\n",
       "          (fc1): Linear(in_features=768, out_features=3072, bias=True)\n",
       "          (act): GELU(approximate='none')\n",
       "          (fc2): Linear(in_features=3072, out_features=768, bias=True)\n",
       "          (drop): Dropout(p=0.0, inplace=False)\n",
       "        )\n",
       "      )\n",
       "      (2): Block(\n",
       "        (norm1): LayerNorm((768,), eps=1e-06, elementwise_affine=True)\n",
       "        (attn): Attention(\n",
       "          (qkv): Linear(in_features=768, out_features=2304, bias=False)\n",
       "          (attn_drop): Dropout(p=0.0, inplace=False)\n",
       "          (proj): Linear(in_features=768, out_features=768, bias=True)\n",
       "          (proj_drop): Dropout(p=0.0, inplace=False)\n",
       "        )\n",
       "        (drop_path): DropPath(p=0.036363635212183)\n",
       "        (norm2): LayerNorm((768,), eps=1e-06, elementwise_affine=True)\n",
       "        (mlp): Mlp(\n",
       "          (fc1): Linear(in_features=768, out_features=3072, bias=True)\n",
       "          (act): GELU(approximate='none')\n",
       "          (fc2): Linear(in_features=3072, out_features=768, bias=True)\n",
       "          (drop): Dropout(p=0.0, inplace=False)\n",
       "        )\n",
       "      )\n",
       "      (3): Block(\n",
       "        (norm1): LayerNorm((768,), eps=1e-06, elementwise_affine=True)\n",
       "        (attn): Attention(\n",
       "          (qkv): Linear(in_features=768, out_features=2304, bias=False)\n",
       "          (attn_drop): Dropout(p=0.0, inplace=False)\n",
       "          (proj): Linear(in_features=768, out_features=768, bias=True)\n",
       "          (proj_drop): Dropout(p=0.0, inplace=False)\n",
       "        )\n",
       "        (drop_path): DropPath(p=0.05454545468091965)\n",
       "        (norm2): LayerNorm((768,), eps=1e-06, elementwise_affine=True)\n",
       "        (mlp): Mlp(\n",
       "          (fc1): Linear(in_features=768, out_features=3072, bias=True)\n",
       "          (act): GELU(approximate='none')\n",
       "          (fc2): Linear(in_features=3072, out_features=768, bias=True)\n",
       "          (drop): Dropout(p=0.0, inplace=False)\n",
       "        )\n",
       "      )\n",
       "      (4): Block(\n",
       "        (norm1): LayerNorm((768,), eps=1e-06, elementwise_affine=True)\n",
       "        (attn): Attention(\n",
       "          (qkv): Linear(in_features=768, out_features=2304, bias=False)\n",
       "          (attn_drop): Dropout(p=0.0, inplace=False)\n",
       "          (proj): Linear(in_features=768, out_features=768, bias=True)\n",
       "          (proj_drop): Dropout(p=0.0, inplace=False)\n",
       "        )\n",
       "        (drop_path): DropPath(p=0.072727270424366)\n",
       "        (norm2): LayerNorm((768,), eps=1e-06, elementwise_affine=True)\n",
       "        (mlp): Mlp(\n",
       "          (fc1): Linear(in_features=768, out_features=3072, bias=True)\n",
       "          (act): GELU(approximate='none')\n",
       "          (fc2): Linear(in_features=3072, out_features=768, bias=True)\n",
       "          (drop): Dropout(p=0.0, inplace=False)\n",
       "        )\n",
       "      )\n",
       "      (5): Block(\n",
       "        (norm1): LayerNorm((768,), eps=1e-06, elementwise_affine=True)\n",
       "        (attn): Attention(\n",
       "          (qkv): Linear(in_features=768, out_features=2304, bias=False)\n",
       "          (attn_drop): Dropout(p=0.0, inplace=False)\n",
       "          (proj): Linear(in_features=768, out_features=768, bias=True)\n",
       "          (proj_drop): Dropout(p=0.0, inplace=False)\n",
       "        )\n",
       "        (drop_path): DropPath(p=0.09090908616781235)\n",
       "        (norm2): LayerNorm((768,), eps=1e-06, elementwise_affine=True)\n",
       "        (mlp): Mlp(\n",
       "          (fc1): Linear(in_features=768, out_features=3072, bias=True)\n",
       "          (act): GELU(approximate='none')\n",
       "          (fc2): Linear(in_features=3072, out_features=768, bias=True)\n",
       "          (drop): Dropout(p=0.0, inplace=False)\n",
       "        )\n",
       "      )\n",
       "      (6): Block(\n",
       "        (norm1): LayerNorm((768,), eps=1e-06, elementwise_affine=True)\n",
       "        (attn): Attention(\n",
       "          (qkv): Linear(in_features=768, out_features=2304, bias=False)\n",
       "          (attn_drop): Dropout(p=0.0, inplace=False)\n",
       "          (proj): Linear(in_features=768, out_features=768, bias=True)\n",
       "          (proj_drop): Dropout(p=0.0, inplace=False)\n",
       "        )\n",
       "        (drop_path): DropPath(p=0.10909091681241989)\n",
       "        (norm2): LayerNorm((768,), eps=1e-06, elementwise_affine=True)\n",
       "        (mlp): Mlp(\n",
       "          (fc1): Linear(in_features=768, out_features=3072, bias=True)\n",
       "          (act): GELU(approximate='none')\n",
       "          (fc2): Linear(in_features=3072, out_features=768, bias=True)\n",
       "          (drop): Dropout(p=0.0, inplace=False)\n",
       "        )\n",
       "      )\n",
       "      (7): Block(\n",
       "        (norm1): LayerNorm((768,), eps=1e-06, elementwise_affine=True)\n",
       "        (attn): Attention(\n",
       "          (qkv): Linear(in_features=768, out_features=2304, bias=False)\n",
       "          (attn_drop): Dropout(p=0.0, inplace=False)\n",
       "          (proj): Linear(in_features=768, out_features=768, bias=True)\n",
       "          (proj_drop): Dropout(p=0.0, inplace=False)\n",
       "        )\n",
       "        (drop_path): DropPath(p=0.12727272510528564)\n",
       "        (norm2): LayerNorm((768,), eps=1e-06, elementwise_affine=True)\n",
       "        (mlp): Mlp(\n",
       "          (fc1): Linear(in_features=768, out_features=3072, bias=True)\n",
       "          (act): GELU(approximate='none')\n",
       "          (fc2): Linear(in_features=3072, out_features=768, bias=True)\n",
       "          (drop): Dropout(p=0.0, inplace=False)\n",
       "        )\n",
       "      )\n",
       "      (8): Block(\n",
       "        (norm1): LayerNorm((768,), eps=1e-06, elementwise_affine=True)\n",
       "        (attn): Attention(\n",
       "          (qkv): Linear(in_features=768, out_features=2304, bias=False)\n",
       "          (attn_drop): Dropout(p=0.0, inplace=False)\n",
       "          (proj): Linear(in_features=768, out_features=768, bias=True)\n",
       "          (proj_drop): Dropout(p=0.0, inplace=False)\n",
       "        )\n",
       "        (drop_path): DropPath(p=0.1454545557498932)\n",
       "        (norm2): LayerNorm((768,), eps=1e-06, elementwise_affine=True)\n",
       "        (mlp): Mlp(\n",
       "          (fc1): Linear(in_features=768, out_features=3072, bias=True)\n",
       "          (act): GELU(approximate='none')\n",
       "          (fc2): Linear(in_features=3072, out_features=768, bias=True)\n",
       "          (drop): Dropout(p=0.0, inplace=False)\n",
       "        )\n",
       "      )\n",
       "      (9): Block(\n",
       "        (norm1): LayerNorm((768,), eps=1e-06, elementwise_affine=True)\n",
       "        (attn): Attention(\n",
       "          (qkv): Linear(in_features=768, out_features=2304, bias=False)\n",
       "          (attn_drop): Dropout(p=0.0, inplace=False)\n",
       "          (proj): Linear(in_features=768, out_features=768, bias=True)\n",
       "          (proj_drop): Dropout(p=0.0, inplace=False)\n",
       "        )\n",
       "        (drop_path): DropPath(p=0.16363637149333954)\n",
       "        (norm2): LayerNorm((768,), eps=1e-06, elementwise_affine=True)\n",
       "        (mlp): Mlp(\n",
       "          (fc1): Linear(in_features=768, out_features=3072, bias=True)\n",
       "          (act): GELU(approximate='none')\n",
       "          (fc2): Linear(in_features=3072, out_features=768, bias=True)\n",
       "          (drop): Dropout(p=0.0, inplace=False)\n",
       "        )\n",
       "      )\n",
       "      (10): Block(\n",
       "        (norm1): LayerNorm((768,), eps=1e-06, elementwise_affine=True)\n",
       "        (attn): Attention(\n",
       "          (qkv): Linear(in_features=768, out_features=2304, bias=False)\n",
       "          (attn_drop): Dropout(p=0.0, inplace=False)\n",
       "          (proj): Linear(in_features=768, out_features=768, bias=True)\n",
       "          (proj_drop): Dropout(p=0.0, inplace=False)\n",
       "        )\n",
       "        (drop_path): DropPath(p=0.1818181872367859)\n",
       "        (norm2): LayerNorm((768,), eps=1e-06, elementwise_affine=True)\n",
       "        (mlp): Mlp(\n",
       "          (fc1): Linear(in_features=768, out_features=3072, bias=True)\n",
       "          (act): GELU(approximate='none')\n",
       "          (fc2): Linear(in_features=3072, out_features=768, bias=True)\n",
       "          (drop): Dropout(p=0.0, inplace=False)\n",
       "        )\n",
       "      )\n",
       "      (11): Block(\n",
       "        (norm1): LayerNorm((768,), eps=1e-06, elementwise_affine=True)\n",
       "        (attn): Attention(\n",
       "          (qkv): Linear(in_features=768, out_features=2304, bias=False)\n",
       "          (attn_drop): Dropout(p=0.0, inplace=False)\n",
       "          (proj): Linear(in_features=768, out_features=768, bias=True)\n",
       "          (proj_drop): Dropout(p=0.0, inplace=False)\n",
       "        )\n",
       "        (drop_path): DropPath(p=0.20000000298023224)\n",
       "        (norm2): LayerNorm((768,), eps=1e-06, elementwise_affine=True)\n",
       "        (mlp): Mlp(\n",
       "          (fc1): Linear(in_features=768, out_features=3072, bias=True)\n",
       "          (act): GELU(approximate='none')\n",
       "          (fc2): Linear(in_features=3072, out_features=768, bias=True)\n",
       "          (drop): Dropout(p=0.0, inplace=False)\n",
       "        )\n",
       "      )\n",
       "    )\n",
       "    (norm): LayerNorm((768,), eps=1e-06, elementwise_affine=True)\n",
       "  )\n",
       "  (lateral_convs): ModuleList(\n",
       "    (0): Sequential(\n",
       "      (0): ConvTranspose3d(768, 384, kernel_size=(1, 2, 2), stride=(1, 2, 2))\n",
       "      (1): LayerNorm()\n",
       "      (2): GELU(approximate='none')\n",
       "      (3): ConvTranspose3d(384, 192, kernel_size=(1, 2, 2), stride=(1, 2, 2))\n",
       "      (4): Conv3d(192, 256, kernel_size=(1, 1, 1), stride=(1, 1, 1), bias=False)\n",
       "      (5): LayerNorm()\n",
       "      (6): Conv3d(256, 256, kernel_size=(3, 3, 3), stride=(1, 1, 1), padding=(1, 1, 1), bias=False)\n",
       "    )\n",
       "    (1): Sequential(\n",
       "      (0): ConvTranspose3d(768, 384, kernel_size=(1, 2, 2), stride=(1, 2, 2))\n",
       "      (1): Conv3d(384, 256, kernel_size=(1, 1, 1), stride=(1, 1, 1), bias=False)\n",
       "      (2): LayerNorm()\n",
       "      (3): Conv3d(256, 256, kernel_size=(3, 3, 3), stride=(1, 1, 1), padding=(1, 1, 1), bias=False)\n",
       "    )\n",
       "    (2): Sequential(\n",
       "      (0): Conv3d(768, 256, kernel_size=(1, 1, 1), stride=(1, 1, 1), bias=False)\n",
       "      (1): LayerNorm()\n",
       "      (2): Conv3d(256, 256, kernel_size=(3, 3, 3), stride=(1, 1, 1), padding=(1, 1, 1), bias=False)\n",
       "    )\n",
       "    (3): Sequential(\n",
       "      (0): MaxPool3d(kernel_size=[1, 2, 2], stride=[1, 2, 2], padding=0, dilation=1, ceil_mode=False)\n",
       "      (1): Conv3d(768, 256, kernel_size=(1, 1, 1), stride=(1, 1, 1), bias=False)\n",
       "      (2): LayerNorm()\n",
       "      (3): Conv3d(256, 256, kernel_size=(3, 3, 3), stride=(1, 1, 1), padding=(1, 1, 1), bias=False)\n",
       "    )\n",
       "  )\n",
       "  (stm_head): STMDecoder(\n",
       "    (init_spatial_queries): Embedding(100, 256)\n",
       "    (init_temporal_queries): Embedding(100, 256)\n",
       "    (decoder_stages): ModuleList(\n",
       "      (0): AMStage(\n",
       "        (attention_s): MultiheadAttention(\n",
       "          (attn): MultiheadAttention(\n",
       "            (out_proj): NonDynamicallyQuantizableLinear(in_features=256, out_features=256, bias=True)\n",
       "          )\n",
       "          (proj_drop): Dropout(p=0.0, inplace=False)\n",
       "          (dropout_layer): Dropout(p=0.0, inplace=False)\n",
       "        )\n",
       "        (attention_norm_s): LayerNorm((256,), eps=1e-05, elementwise_affine=True)\n",
       "        (ffn_s): FFN(\n",
       "          (activate): ReLU(inplace=True)\n",
       "          (layers): Sequential(\n",
       "            (0): Sequential(\n",
       "              (0): Linear(in_features=256, out_features=2048, bias=True)\n",
       "              (1): ReLU(inplace=True)\n",
       "              (2): Dropout(p=0.0, inplace=False)\n",
       "            )\n",
       "            (1): Linear(in_features=2048, out_features=256, bias=True)\n",
       "            (2): Dropout(p=0.0, inplace=False)\n",
       "          )\n",
       "          (dropout_layer): Identity()\n",
       "        )\n",
       "        (ffn_norm_s): LayerNorm((256,), eps=1e-05, elementwise_affine=True)\n",
       "        (attention_t): MultiheadAttention(\n",
       "          (attn): MultiheadAttention(\n",
       "            (out_proj): NonDynamicallyQuantizableLinear(in_features=256, out_features=256, bias=True)\n",
       "          )\n",
       "          (proj_drop): Dropout(p=0.0, inplace=False)\n",
       "          (dropout_layer): Dropout(p=0.0, inplace=False)\n",
       "        )\n",
       "        (attention_norm_t): LayerNorm((256,), eps=1e-05, elementwise_affine=True)\n",
       "        (ffn_t): FFN(\n",
       "          (activate): ReLU(inplace=True)\n",
       "          (layers): Sequential(\n",
       "            (0): Sequential(\n",
       "              (0): Linear(in_features=256, out_features=2048, bias=True)\n",
       "              (1): ReLU(inplace=True)\n",
       "              (2): Dropout(p=0.0, inplace=False)\n",
       "            )\n",
       "            (1): Linear(in_features=2048, out_features=256, bias=True)\n",
       "            (2): Dropout(p=0.0, inplace=False)\n",
       "          )\n",
       "          (dropout_layer): Identity()\n",
       "        )\n",
       "        (ffn_norm_t): LayerNorm((256,), eps=1e-05, elementwise_affine=True)\n",
       "        (samplingmixing): AdaptiveSTSamplingMixing(\n",
       "          (offset_generator): Sequential(\n",
       "            (0): Linear(in_features=256, out_features=384, bias=True)\n",
       "          )\n",
       "          (norm_s): LayerNorm((256,), eps=1e-05, elementwise_affine=True)\n",
       "          (norm_t): LayerNorm((256,), eps=1e-05, elementwise_affine=True)\n",
       "          (adaptive_mixing_s): AdaptiveMixing(\n",
       "            (parameter_generator): Sequential(\n",
       "              (0): Linear(in_features=256, out_features=32768, bias=True)\n",
       "            )\n",
       "            (out_proj): Linear(in_features=32768, out_features=256, bias=True)\n",
       "            (act): ReLU(inplace=True)\n",
       "          )\n",
       "          (adaptive_mixing_t): AdaptiveMixing(\n",
       "            (parameter_generator): Sequential(\n",
       "              (0): Linear(in_features=256, out_features=17408, bias=True)\n",
       "            )\n",
       "            (out_proj): Linear(in_features=8192, out_features=256, bias=True)\n",
       "            (act): ReLU(inplace=True)\n",
       "          )\n",
       "        )\n",
       "        (human_cls_fcs): ModuleList(\n",
       "          (0): Linear(in_features=256, out_features=256, bias=True)\n",
       "          (1): LayerNorm((256,), eps=1e-05, elementwise_affine=True)\n",
       "          (2): ReLU(inplace=True)\n",
       "        )\n",
       "        (human_fc_cls): Linear(in_features=256, out_features=2, bias=True)\n",
       "        (reg_fcs): ModuleList(\n",
       "          (0): Linear(in_features=256, out_features=256, bias=True)\n",
       "          (1): LayerNorm((256,), eps=1e-05, elementwise_affine=True)\n",
       "          (2): ReLU(inplace=True)\n",
       "        )\n",
       "        (fc_reg): Linear(in_features=256, out_features=4, bias=True)\n",
       "        (action_cls_fcs): ModuleList(\n",
       "          (0): Linear(in_features=512, out_features=512, bias=True)\n",
       "          (1): LayerNorm((512,), eps=1e-05, elementwise_affine=True)\n",
       "          (2): ReLU(inplace=True)\n",
       "        )\n",
       "        (fc_action): Linear(in_features=512, out_features=80, bias=True)\n",
       "      )\n",
       "      (1): AMStage(\n",
       "        (attention_s): MultiheadAttention(\n",
       "          (attn): MultiheadAttention(\n",
       "            (out_proj): NonDynamicallyQuantizableLinear(in_features=256, out_features=256, bias=True)\n",
       "          )\n",
       "          (proj_drop): Dropout(p=0.0, inplace=False)\n",
       "          (dropout_layer): Dropout(p=0.0, inplace=False)\n",
       "        )\n",
       "        (attention_norm_s): LayerNorm((256,), eps=1e-05, elementwise_affine=True)\n",
       "        (ffn_s): FFN(\n",
       "          (activate): ReLU(inplace=True)\n",
       "          (layers): Sequential(\n",
       "            (0): Sequential(\n",
       "              (0): Linear(in_features=256, out_features=2048, bias=True)\n",
       "              (1): ReLU(inplace=True)\n",
       "              (2): Dropout(p=0.0, inplace=False)\n",
       "            )\n",
       "            (1): Linear(in_features=2048, out_features=256, bias=True)\n",
       "            (2): Dropout(p=0.0, inplace=False)\n",
       "          )\n",
       "          (dropout_layer): Identity()\n",
       "        )\n",
       "        (ffn_norm_s): LayerNorm((256,), eps=1e-05, elementwise_affine=True)\n",
       "        (attention_t): MultiheadAttention(\n",
       "          (attn): MultiheadAttention(\n",
       "            (out_proj): NonDynamicallyQuantizableLinear(in_features=256, out_features=256, bias=True)\n",
       "          )\n",
       "          (proj_drop): Dropout(p=0.0, inplace=False)\n",
       "          (dropout_layer): Dropout(p=0.0, inplace=False)\n",
       "        )\n",
       "        (attention_norm_t): LayerNorm((256,), eps=1e-05, elementwise_affine=True)\n",
       "        (ffn_t): FFN(\n",
       "          (activate): ReLU(inplace=True)\n",
       "          (layers): Sequential(\n",
       "            (0): Sequential(\n",
       "              (0): Linear(in_features=256, out_features=2048, bias=True)\n",
       "              (1): ReLU(inplace=True)\n",
       "              (2): Dropout(p=0.0, inplace=False)\n",
       "            )\n",
       "            (1): Linear(in_features=2048, out_features=256, bias=True)\n",
       "            (2): Dropout(p=0.0, inplace=False)\n",
       "          )\n",
       "          (dropout_layer): Identity()\n",
       "        )\n",
       "        (ffn_norm_t): LayerNorm((256,), eps=1e-05, elementwise_affine=True)\n",
       "        (samplingmixing): AdaptiveSTSamplingMixing(\n",
       "          (offset_generator): Sequential(\n",
       "            (0): Linear(in_features=256, out_features=384, bias=True)\n",
       "          )\n",
       "          (norm_s): LayerNorm((256,), eps=1e-05, elementwise_affine=True)\n",
       "          (norm_t): LayerNorm((256,), eps=1e-05, elementwise_affine=True)\n",
       "          (adaptive_mixing_s): AdaptiveMixing(\n",
       "            (parameter_generator): Sequential(\n",
       "              (0): Linear(in_features=256, out_features=32768, bias=True)\n",
       "            )\n",
       "            (out_proj): Linear(in_features=32768, out_features=256, bias=True)\n",
       "            (act): ReLU(inplace=True)\n",
       "          )\n",
       "          (adaptive_mixing_t): AdaptiveMixing(\n",
       "            (parameter_generator): Sequential(\n",
       "              (0): Linear(in_features=256, out_features=17408, bias=True)\n",
       "            )\n",
       "            (out_proj): Linear(in_features=8192, out_features=256, bias=True)\n",
       "            (act): ReLU(inplace=True)\n",
       "          )\n",
       "        )\n",
       "        (human_cls_fcs): ModuleList(\n",
       "          (0): Linear(in_features=256, out_features=256, bias=True)\n",
       "          (1): LayerNorm((256,), eps=1e-05, elementwise_affine=True)\n",
       "          (2): ReLU(inplace=True)\n",
       "        )\n",
       "        (human_fc_cls): Linear(in_features=256, out_features=2, bias=True)\n",
       "        (reg_fcs): ModuleList(\n",
       "          (0): Linear(in_features=256, out_features=256, bias=True)\n",
       "          (1): LayerNorm((256,), eps=1e-05, elementwise_affine=True)\n",
       "          (2): ReLU(inplace=True)\n",
       "        )\n",
       "        (fc_reg): Linear(in_features=256, out_features=4, bias=True)\n",
       "        (action_cls_fcs): ModuleList(\n",
       "          (0): Linear(in_features=512, out_features=512, bias=True)\n",
       "          (1): LayerNorm((512,), eps=1e-05, elementwise_affine=True)\n",
       "          (2): ReLU(inplace=True)\n",
       "        )\n",
       "        (fc_action): Linear(in_features=512, out_features=80, bias=True)\n",
       "      )\n",
       "      (2): AMStage(\n",
       "        (attention_s): MultiheadAttention(\n",
       "          (attn): MultiheadAttention(\n",
       "            (out_proj): NonDynamicallyQuantizableLinear(in_features=256, out_features=256, bias=True)\n",
       "          )\n",
       "          (proj_drop): Dropout(p=0.0, inplace=False)\n",
       "          (dropout_layer): Dropout(p=0.0, inplace=False)\n",
       "        )\n",
       "        (attention_norm_s): LayerNorm((256,), eps=1e-05, elementwise_affine=True)\n",
       "        (ffn_s): FFN(\n",
       "          (activate): ReLU(inplace=True)\n",
       "          (layers): Sequential(\n",
       "            (0): Sequential(\n",
       "              (0): Linear(in_features=256, out_features=2048, bias=True)\n",
       "              (1): ReLU(inplace=True)\n",
       "              (2): Dropout(p=0.0, inplace=False)\n",
       "            )\n",
       "            (1): Linear(in_features=2048, out_features=256, bias=True)\n",
       "            (2): Dropout(p=0.0, inplace=False)\n",
       "          )\n",
       "          (dropout_layer): Identity()\n",
       "        )\n",
       "        (ffn_norm_s): LayerNorm((256,), eps=1e-05, elementwise_affine=True)\n",
       "        (attention_t): MultiheadAttention(\n",
       "          (attn): MultiheadAttention(\n",
       "            (out_proj): NonDynamicallyQuantizableLinear(in_features=256, out_features=256, bias=True)\n",
       "          )\n",
       "          (proj_drop): Dropout(p=0.0, inplace=False)\n",
       "          (dropout_layer): Dropout(p=0.0, inplace=False)\n",
       "        )\n",
       "        (attention_norm_t): LayerNorm((256,), eps=1e-05, elementwise_affine=True)\n",
       "        (ffn_t): FFN(\n",
       "          (activate): ReLU(inplace=True)\n",
       "          (layers): Sequential(\n",
       "            (0): Sequential(\n",
       "              (0): Linear(in_features=256, out_features=2048, bias=True)\n",
       "              (1): ReLU(inplace=True)\n",
       "              (2): Dropout(p=0.0, inplace=False)\n",
       "            )\n",
       "            (1): Linear(in_features=2048, out_features=256, bias=True)\n",
       "            (2): Dropout(p=0.0, inplace=False)\n",
       "          )\n",
       "          (dropout_layer): Identity()\n",
       "        )\n",
       "        (ffn_norm_t): LayerNorm((256,), eps=1e-05, elementwise_affine=True)\n",
       "        (samplingmixing): AdaptiveSTSamplingMixing(\n",
       "          (offset_generator): Sequential(\n",
       "            (0): Linear(in_features=256, out_features=384, bias=True)\n",
       "          )\n",
       "          (norm_s): LayerNorm((256,), eps=1e-05, elementwise_affine=True)\n",
       "          (norm_t): LayerNorm((256,), eps=1e-05, elementwise_affine=True)\n",
       "          (adaptive_mixing_s): AdaptiveMixing(\n",
       "            (parameter_generator): Sequential(\n",
       "              (0): Linear(in_features=256, out_features=32768, bias=True)\n",
       "            )\n",
       "            (out_proj): Linear(in_features=32768, out_features=256, bias=True)\n",
       "            (act): ReLU(inplace=True)\n",
       "          )\n",
       "          (adaptive_mixing_t): AdaptiveMixing(\n",
       "            (parameter_generator): Sequential(\n",
       "              (0): Linear(in_features=256, out_features=17408, bias=True)\n",
       "            )\n",
       "            (out_proj): Linear(in_features=8192, out_features=256, bias=True)\n",
       "            (act): ReLU(inplace=True)\n",
       "          )\n",
       "        )\n",
       "        (human_cls_fcs): ModuleList(\n",
       "          (0): Linear(in_features=256, out_features=256, bias=True)\n",
       "          (1): LayerNorm((256,), eps=1e-05, elementwise_affine=True)\n",
       "          (2): ReLU(inplace=True)\n",
       "        )\n",
       "        (human_fc_cls): Linear(in_features=256, out_features=2, bias=True)\n",
       "        (reg_fcs): ModuleList(\n",
       "          (0): Linear(in_features=256, out_features=256, bias=True)\n",
       "          (1): LayerNorm((256,), eps=1e-05, elementwise_affine=True)\n",
       "          (2): ReLU(inplace=True)\n",
       "        )\n",
       "        (fc_reg): Linear(in_features=256, out_features=4, bias=True)\n",
       "        (action_cls_fcs): ModuleList(\n",
       "          (0): Linear(in_features=512, out_features=512, bias=True)\n",
       "          (1): LayerNorm((512,), eps=1e-05, elementwise_affine=True)\n",
       "          (2): ReLU(inplace=True)\n",
       "        )\n",
       "        (fc_action): Linear(in_features=512, out_features=80, bias=True)\n",
       "      )\n",
       "      (3): AMStage(\n",
       "        (attention_s): MultiheadAttention(\n",
       "          (attn): MultiheadAttention(\n",
       "            (out_proj): NonDynamicallyQuantizableLinear(in_features=256, out_features=256, bias=True)\n",
       "          )\n",
       "          (proj_drop): Dropout(p=0.0, inplace=False)\n",
       "          (dropout_layer): Dropout(p=0.0, inplace=False)\n",
       "        )\n",
       "        (attention_norm_s): LayerNorm((256,), eps=1e-05, elementwise_affine=True)\n",
       "        (ffn_s): FFN(\n",
       "          (activate): ReLU(inplace=True)\n",
       "          (layers): Sequential(\n",
       "            (0): Sequential(\n",
       "              (0): Linear(in_features=256, out_features=2048, bias=True)\n",
       "              (1): ReLU(inplace=True)\n",
       "              (2): Dropout(p=0.0, inplace=False)\n",
       "            )\n",
       "            (1): Linear(in_features=2048, out_features=256, bias=True)\n",
       "            (2): Dropout(p=0.0, inplace=False)\n",
       "          )\n",
       "          (dropout_layer): Identity()\n",
       "        )\n",
       "        (ffn_norm_s): LayerNorm((256,), eps=1e-05, elementwise_affine=True)\n",
       "        (attention_t): MultiheadAttention(\n",
       "          (attn): MultiheadAttention(\n",
       "            (out_proj): NonDynamicallyQuantizableLinear(in_features=256, out_features=256, bias=True)\n",
       "          )\n",
       "          (proj_drop): Dropout(p=0.0, inplace=False)\n",
       "          (dropout_layer): Dropout(p=0.0, inplace=False)\n",
       "        )\n",
       "        (attention_norm_t): LayerNorm((256,), eps=1e-05, elementwise_affine=True)\n",
       "        (ffn_t): FFN(\n",
       "          (activate): ReLU(inplace=True)\n",
       "          (layers): Sequential(\n",
       "            (0): Sequential(\n",
       "              (0): Linear(in_features=256, out_features=2048, bias=True)\n",
       "              (1): ReLU(inplace=True)\n",
       "              (2): Dropout(p=0.0, inplace=False)\n",
       "            )\n",
       "            (1): Linear(in_features=2048, out_features=256, bias=True)\n",
       "            (2): Dropout(p=0.0, inplace=False)\n",
       "          )\n",
       "          (dropout_layer): Identity()\n",
       "        )\n",
       "        (ffn_norm_t): LayerNorm((256,), eps=1e-05, elementwise_affine=True)\n",
       "        (samplingmixing): AdaptiveSTSamplingMixing(\n",
       "          (offset_generator): Sequential(\n",
       "            (0): Linear(in_features=256, out_features=384, bias=True)\n",
       "          )\n",
       "          (norm_s): LayerNorm((256,), eps=1e-05, elementwise_affine=True)\n",
       "          (norm_t): LayerNorm((256,), eps=1e-05, elementwise_affine=True)\n",
       "          (adaptive_mixing_s): AdaptiveMixing(\n",
       "            (parameter_generator): Sequential(\n",
       "              (0): Linear(in_features=256, out_features=32768, bias=True)\n",
       "            )\n",
       "            (out_proj): Linear(in_features=32768, out_features=256, bias=True)\n",
       "            (act): ReLU(inplace=True)\n",
       "          )\n",
       "          (adaptive_mixing_t): AdaptiveMixing(\n",
       "            (parameter_generator): Sequential(\n",
       "              (0): Linear(in_features=256, out_features=17408, bias=True)\n",
       "            )\n",
       "            (out_proj): Linear(in_features=8192, out_features=256, bias=True)\n",
       "            (act): ReLU(inplace=True)\n",
       "          )\n",
       "        )\n",
       "        (human_cls_fcs): ModuleList(\n",
       "          (0): Linear(in_features=256, out_features=256, bias=True)\n",
       "          (1): LayerNorm((256,), eps=1e-05, elementwise_affine=True)\n",
       "          (2): ReLU(inplace=True)\n",
       "        )\n",
       "        (human_fc_cls): Linear(in_features=256, out_features=2, bias=True)\n",
       "        (reg_fcs): ModuleList(\n",
       "          (0): Linear(in_features=256, out_features=256, bias=True)\n",
       "          (1): LayerNorm((256,), eps=1e-05, elementwise_affine=True)\n",
       "          (2): ReLU(inplace=True)\n",
       "        )\n",
       "        (fc_reg): Linear(in_features=256, out_features=4, bias=True)\n",
       "        (action_cls_fcs): ModuleList(\n",
       "          (0): Linear(in_features=512, out_features=512, bias=True)\n",
       "          (1): LayerNorm((512,), eps=1e-05, elementwise_affine=True)\n",
       "          (2): ReLU(inplace=True)\n",
       "        )\n",
       "        (fc_action): Linear(in_features=512, out_features=80, bias=True)\n",
       "      )\n",
       "      (4): AMStage(\n",
       "        (attention_s): MultiheadAttention(\n",
       "          (attn): MultiheadAttention(\n",
       "            (out_proj): NonDynamicallyQuantizableLinear(in_features=256, out_features=256, bias=True)\n",
       "          )\n",
       "          (proj_drop): Dropout(p=0.0, inplace=False)\n",
       "          (dropout_layer): Dropout(p=0.0, inplace=False)\n",
       "        )\n",
       "        (attention_norm_s): LayerNorm((256,), eps=1e-05, elementwise_affine=True)\n",
       "        (ffn_s): FFN(\n",
       "          (activate): ReLU(inplace=True)\n",
       "          (layers): Sequential(\n",
       "            (0): Sequential(\n",
       "              (0): Linear(in_features=256, out_features=2048, bias=True)\n",
       "              (1): ReLU(inplace=True)\n",
       "              (2): Dropout(p=0.0, inplace=False)\n",
       "            )\n",
       "            (1): Linear(in_features=2048, out_features=256, bias=True)\n",
       "            (2): Dropout(p=0.0, inplace=False)\n",
       "          )\n",
       "          (dropout_layer): Identity()\n",
       "        )\n",
       "        (ffn_norm_s): LayerNorm((256,), eps=1e-05, elementwise_affine=True)\n",
       "        (attention_t): MultiheadAttention(\n",
       "          (attn): MultiheadAttention(\n",
       "            (out_proj): NonDynamicallyQuantizableLinear(in_features=256, out_features=256, bias=True)\n",
       "          )\n",
       "          (proj_drop): Dropout(p=0.0, inplace=False)\n",
       "          (dropout_layer): Dropout(p=0.0, inplace=False)\n",
       "        )\n",
       "        (attention_norm_t): LayerNorm((256,), eps=1e-05, elementwise_affine=True)\n",
       "        (ffn_t): FFN(\n",
       "          (activate): ReLU(inplace=True)\n",
       "          (layers): Sequential(\n",
       "            (0): Sequential(\n",
       "              (0): Linear(in_features=256, out_features=2048, bias=True)\n",
       "              (1): ReLU(inplace=True)\n",
       "              (2): Dropout(p=0.0, inplace=False)\n",
       "            )\n",
       "            (1): Linear(in_features=2048, out_features=256, bias=True)\n",
       "            (2): Dropout(p=0.0, inplace=False)\n",
       "          )\n",
       "          (dropout_layer): Identity()\n",
       "        )\n",
       "        (ffn_norm_t): LayerNorm((256,), eps=1e-05, elementwise_affine=True)\n",
       "        (samplingmixing): AdaptiveSTSamplingMixing(\n",
       "          (offset_generator): Sequential(\n",
       "            (0): Linear(in_features=256, out_features=384, bias=True)\n",
       "          )\n",
       "          (norm_s): LayerNorm((256,), eps=1e-05, elementwise_affine=True)\n",
       "          (norm_t): LayerNorm((256,), eps=1e-05, elementwise_affine=True)\n",
       "          (adaptive_mixing_s): AdaptiveMixing(\n",
       "            (parameter_generator): Sequential(\n",
       "              (0): Linear(in_features=256, out_features=32768, bias=True)\n",
       "            )\n",
       "            (out_proj): Linear(in_features=32768, out_features=256, bias=True)\n",
       "            (act): ReLU(inplace=True)\n",
       "          )\n",
       "          (adaptive_mixing_t): AdaptiveMixing(\n",
       "            (parameter_generator): Sequential(\n",
       "              (0): Linear(in_features=256, out_features=17408, bias=True)\n",
       "            )\n",
       "            (out_proj): Linear(in_features=8192, out_features=256, bias=True)\n",
       "            (act): ReLU(inplace=True)\n",
       "          )\n",
       "        )\n",
       "        (human_cls_fcs): ModuleList(\n",
       "          (0): Linear(in_features=256, out_features=256, bias=True)\n",
       "          (1): LayerNorm((256,), eps=1e-05, elementwise_affine=True)\n",
       "          (2): ReLU(inplace=True)\n",
       "        )\n",
       "        (human_fc_cls): Linear(in_features=256, out_features=2, bias=True)\n",
       "        (reg_fcs): ModuleList(\n",
       "          (0): Linear(in_features=256, out_features=256, bias=True)\n",
       "          (1): LayerNorm((256,), eps=1e-05, elementwise_affine=True)\n",
       "          (2): ReLU(inplace=True)\n",
       "        )\n",
       "        (fc_reg): Linear(in_features=256, out_features=4, bias=True)\n",
       "        (action_cls_fcs): ModuleList(\n",
       "          (0): Linear(in_features=512, out_features=512, bias=True)\n",
       "          (1): LayerNorm((512,), eps=1e-05, elementwise_affine=True)\n",
       "          (2): ReLU(inplace=True)\n",
       "        )\n",
       "        (fc_action): Linear(in_features=512, out_features=80, bias=True)\n",
       "      )\n",
       "      (5): AMStage(\n",
       "        (attention_s): MultiheadAttention(\n",
       "          (attn): MultiheadAttention(\n",
       "            (out_proj): NonDynamicallyQuantizableLinear(in_features=256, out_features=256, bias=True)\n",
       "          )\n",
       "          (proj_drop): Dropout(p=0.0, inplace=False)\n",
       "          (dropout_layer): Dropout(p=0.0, inplace=False)\n",
       "        )\n",
       "        (attention_norm_s): LayerNorm((256,), eps=1e-05, elementwise_affine=True)\n",
       "        (ffn_s): FFN(\n",
       "          (activate): ReLU(inplace=True)\n",
       "          (layers): Sequential(\n",
       "            (0): Sequential(\n",
       "              (0): Linear(in_features=256, out_features=2048, bias=True)\n",
       "              (1): ReLU(inplace=True)\n",
       "              (2): Dropout(p=0.0, inplace=False)\n",
       "            )\n",
       "            (1): Linear(in_features=2048, out_features=256, bias=True)\n",
       "            (2): Dropout(p=0.0, inplace=False)\n",
       "          )\n",
       "          (dropout_layer): Identity()\n",
       "        )\n",
       "        (ffn_norm_s): LayerNorm((256,), eps=1e-05, elementwise_affine=True)\n",
       "        (attention_t): MultiheadAttention(\n",
       "          (attn): MultiheadAttention(\n",
       "            (out_proj): NonDynamicallyQuantizableLinear(in_features=256, out_features=256, bias=True)\n",
       "          )\n",
       "          (proj_drop): Dropout(p=0.0, inplace=False)\n",
       "          (dropout_layer): Dropout(p=0.0, inplace=False)\n",
       "        )\n",
       "        (attention_norm_t): LayerNorm((256,), eps=1e-05, elementwise_affine=True)\n",
       "        (ffn_t): FFN(\n",
       "          (activate): ReLU(inplace=True)\n",
       "          (layers): Sequential(\n",
       "            (0): Sequential(\n",
       "              (0): Linear(in_features=256, out_features=2048, bias=True)\n",
       "              (1): ReLU(inplace=True)\n",
       "              (2): Dropout(p=0.0, inplace=False)\n",
       "            )\n",
       "            (1): Linear(in_features=2048, out_features=256, bias=True)\n",
       "            (2): Dropout(p=0.0, inplace=False)\n",
       "          )\n",
       "          (dropout_layer): Identity()\n",
       "        )\n",
       "        (ffn_norm_t): LayerNorm((256,), eps=1e-05, elementwise_affine=True)\n",
       "        (samplingmixing): AdaptiveSTSamplingMixing(\n",
       "          (offset_generator): Sequential(\n",
       "            (0): Linear(in_features=256, out_features=384, bias=True)\n",
       "          )\n",
       "          (norm_s): LayerNorm((256,), eps=1e-05, elementwise_affine=True)\n",
       "          (norm_t): LayerNorm((256,), eps=1e-05, elementwise_affine=True)\n",
       "          (adaptive_mixing_s): AdaptiveMixing(\n",
       "            (parameter_generator): Sequential(\n",
       "              (0): Linear(in_features=256, out_features=32768, bias=True)\n",
       "            )\n",
       "            (out_proj): Linear(in_features=32768, out_features=256, bias=True)\n",
       "            (act): ReLU(inplace=True)\n",
       "          )\n",
       "          (adaptive_mixing_t): AdaptiveMixing(\n",
       "            (parameter_generator): Sequential(\n",
       "              (0): Linear(in_features=256, out_features=17408, bias=True)\n",
       "            )\n",
       "            (out_proj): Linear(in_features=8192, out_features=256, bias=True)\n",
       "            (act): ReLU(inplace=True)\n",
       "          )\n",
       "        )\n",
       "        (human_cls_fcs): ModuleList(\n",
       "          (0): Linear(in_features=256, out_features=256, bias=True)\n",
       "          (1): LayerNorm((256,), eps=1e-05, elementwise_affine=True)\n",
       "          (2): ReLU(inplace=True)\n",
       "        )\n",
       "        (human_fc_cls): Linear(in_features=256, out_features=2, bias=True)\n",
       "        (reg_fcs): ModuleList(\n",
       "          (0): Linear(in_features=256, out_features=256, bias=True)\n",
       "          (1): LayerNorm((256,), eps=1e-05, elementwise_affine=True)\n",
       "          (2): ReLU(inplace=True)\n",
       "        )\n",
       "        (fc_reg): Linear(in_features=256, out_features=4, bias=True)\n",
       "        (action_cls_fcs): ModuleList(\n",
       "          (0): Linear(in_features=512, out_features=512, bias=True)\n",
       "          (1): LayerNorm((512,), eps=1e-05, elementwise_affine=True)\n",
       "          (2): ReLU(inplace=True)\n",
       "        )\n",
       "        (fc_action): Linear(in_features=512, out_features=80, bias=True)\n",
       "      )\n",
       "    )\n",
       "    (criterion): SetCriterion(\n",
       "      (matcher): HungarianMatcher()\n",
       "    )\n",
       "  )\n",
       ")"
      ]
     },
     "execution_count": 50,
     "metadata": {},
     "output_type": "execute_result"
    }
   ],
   "source": [
    "model.to(\"cuda\")"
   ]
  },
  {
   "cell_type": "markdown",
   "id": "052bfb86",
   "metadata": {},
   "source": [
    "### 10. loading weight"
   ]
  },
  {
   "cell_type": "code",
   "execution_count": 51,
   "id": "5f9a2654",
   "metadata": {},
   "outputs": [
    {
     "data": {
      "text/plain": [
       "'../output_dir/'"
      ]
     },
     "execution_count": 51,
     "metadata": {},
     "output_type": "execute_result"
    }
   ],
   "source": [
    "output_dir = cfg.OUTPUT_DIR\n",
    "output_dir"
   ]
  },
  {
   "cell_type": "code",
   "execution_count": 52,
   "id": "d902255d",
   "metadata": {},
   "outputs": [
    {
     "data": {
      "text/plain": [
       "{}"
      ]
     },
     "execution_count": 52,
     "metadata": {},
     "output_type": "execute_result"
    }
   ],
   "source": [
    "checkpointer = ActionCheckpointer(cfg, model, save_dir=output_dir)\n",
    "checkpointer.load(cfg.MODEL.WEIGHT)"
   ]
  },
  {
   "cell_type": "code",
   "execution_count": 53,
   "id": "f4ea1bb7",
   "metadata": {},
   "outputs": [
    {
     "data": {
      "text/plain": [
       "1"
      ]
     },
     "execution_count": 53,
     "metadata": {},
     "output_type": "execute_result"
    }
   ],
   "source": [
    "num_gpus = int(os.environ[\"WORLD_SIZE\"]) if \"WORLD_SIZE\" in os.environ else 1\n",
    "num_gpus"
   ]
  },
  {
   "cell_type": "code",
   "execution_count": 54,
   "id": "62e6c51d",
   "metadata": {},
   "outputs": [
    {
     "data": {
      "text/plain": [
       "False"
      ]
     },
     "execution_count": 54,
     "metadata": {},
     "output_type": "execute_result"
    }
   ],
   "source": [
    "mem_active = cfg.MODEL.STM.MEM_ACTIVE\n",
    "mem_active  "
   ]
  },
  {
   "cell_type": "code",
   "execution_count": 55,
   "id": "4b5c2b09",
   "metadata": {},
   "outputs": [],
   "source": [
    "import logging\n",
    "import os\n",
    "\n",
    "import torch\n",
    "from tqdm import tqdm\n",
    "import time\n",
    "import datetime\n",
    "\n",
    "from alphaction.dataset.datasets.evaluation import evaluate\n",
    "from alphaction.utils.comm import get_rank, is_main_process, all_gather, gather, synchronize, get_world_size\n",
    "from alphaction.structures.memory_pool import MemoryPool\n"
   ]
  },
  {
   "cell_type": "code",
   "execution_count": 56,
   "id": "75cec69a",
   "metadata": {},
   "outputs": [],
   "source": [
    "device = torch.device(\"cuda\")"
   ]
  },
  {
   "cell_type": "code",
   "execution_count": 57,
   "id": "2386c86b",
   "metadata": {},
   "outputs": [
    {
     "data": {
      "text/plain": [
       "1"
      ]
     },
     "execution_count": 57,
     "metadata": {},
     "output_type": "execute_result"
    }
   ],
   "source": [
    "num_devices = get_world_size()\n",
    "num_devices"
   ]
  },
  {
   "cell_type": "code",
   "execution_count": 58,
   "id": "f83251b0",
   "metadata": {},
   "outputs": [
    {
     "data": {
      "text/plain": [
       "STMDetector(\n",
       "  (backbone): ViT(\n",
       "    (patch_embed): PatchEmbed(\n",
       "      (proj): Conv3d(3, 768, kernel_size=(2, 16, 16), stride=(2, 16, 16))\n",
       "    )\n",
       "    (pos_drop): Dropout(p=0.0, inplace=False)\n",
       "    (blocks): ModuleList(\n",
       "      (0): Block(\n",
       "        (norm1): LayerNorm((768,), eps=1e-06, elementwise_affine=True)\n",
       "        (attn): Attention(\n",
       "          (qkv): Linear(in_features=768, out_features=2304, bias=False)\n",
       "          (attn_drop): Dropout(p=0.0, inplace=False)\n",
       "          (proj): Linear(in_features=768, out_features=768, bias=True)\n",
       "          (proj_drop): Dropout(p=0.0, inplace=False)\n",
       "        )\n",
       "        (drop_path): Identity()\n",
       "        (norm2): LayerNorm((768,), eps=1e-06, elementwise_affine=True)\n",
       "        (mlp): Mlp(\n",
       "          (fc1): Linear(in_features=768, out_features=3072, bias=True)\n",
       "          (act): GELU(approximate='none')\n",
       "          (fc2): Linear(in_features=3072, out_features=768, bias=True)\n",
       "          (drop): Dropout(p=0.0, inplace=False)\n",
       "        )\n",
       "      )\n",
       "      (1): Block(\n",
       "        (norm1): LayerNorm((768,), eps=1e-06, elementwise_affine=True)\n",
       "        (attn): Attention(\n",
       "          (qkv): Linear(in_features=768, out_features=2304, bias=False)\n",
       "          (attn_drop): Dropout(p=0.0, inplace=False)\n",
       "          (proj): Linear(in_features=768, out_features=768, bias=True)\n",
       "          (proj_drop): Dropout(p=0.0, inplace=False)\n",
       "        )\n",
       "        (drop_path): DropPath(p=0.0181818176060915)\n",
       "        (norm2): LayerNorm((768,), eps=1e-06, elementwise_affine=True)\n",
       "        (mlp): Mlp(\n",
       "          (fc1): Linear(in_features=768, out_features=3072, bias=True)\n",
       "          (act): GELU(approximate='none')\n",
       "          (fc2): Linear(in_features=3072, out_features=768, bias=True)\n",
       "          (drop): Dropout(p=0.0, inplace=False)\n",
       "        )\n",
       "      )\n",
       "      (2): Block(\n",
       "        (norm1): LayerNorm((768,), eps=1e-06, elementwise_affine=True)\n",
       "        (attn): Attention(\n",
       "          (qkv): Linear(in_features=768, out_features=2304, bias=False)\n",
       "          (attn_drop): Dropout(p=0.0, inplace=False)\n",
       "          (proj): Linear(in_features=768, out_features=768, bias=True)\n",
       "          (proj_drop): Dropout(p=0.0, inplace=False)\n",
       "        )\n",
       "        (drop_path): DropPath(p=0.036363635212183)\n",
       "        (norm2): LayerNorm((768,), eps=1e-06, elementwise_affine=True)\n",
       "        (mlp): Mlp(\n",
       "          (fc1): Linear(in_features=768, out_features=3072, bias=True)\n",
       "          (act): GELU(approximate='none')\n",
       "          (fc2): Linear(in_features=3072, out_features=768, bias=True)\n",
       "          (drop): Dropout(p=0.0, inplace=False)\n",
       "        )\n",
       "      )\n",
       "      (3): Block(\n",
       "        (norm1): LayerNorm((768,), eps=1e-06, elementwise_affine=True)\n",
       "        (attn): Attention(\n",
       "          (qkv): Linear(in_features=768, out_features=2304, bias=False)\n",
       "          (attn_drop): Dropout(p=0.0, inplace=False)\n",
       "          (proj): Linear(in_features=768, out_features=768, bias=True)\n",
       "          (proj_drop): Dropout(p=0.0, inplace=False)\n",
       "        )\n",
       "        (drop_path): DropPath(p=0.05454545468091965)\n",
       "        (norm2): LayerNorm((768,), eps=1e-06, elementwise_affine=True)\n",
       "        (mlp): Mlp(\n",
       "          (fc1): Linear(in_features=768, out_features=3072, bias=True)\n",
       "          (act): GELU(approximate='none')\n",
       "          (fc2): Linear(in_features=3072, out_features=768, bias=True)\n",
       "          (drop): Dropout(p=0.0, inplace=False)\n",
       "        )\n",
       "      )\n",
       "      (4): Block(\n",
       "        (norm1): LayerNorm((768,), eps=1e-06, elementwise_affine=True)\n",
       "        (attn): Attention(\n",
       "          (qkv): Linear(in_features=768, out_features=2304, bias=False)\n",
       "          (attn_drop): Dropout(p=0.0, inplace=False)\n",
       "          (proj): Linear(in_features=768, out_features=768, bias=True)\n",
       "          (proj_drop): Dropout(p=0.0, inplace=False)\n",
       "        )\n",
       "        (drop_path): DropPath(p=0.072727270424366)\n",
       "        (norm2): LayerNorm((768,), eps=1e-06, elementwise_affine=True)\n",
       "        (mlp): Mlp(\n",
       "          (fc1): Linear(in_features=768, out_features=3072, bias=True)\n",
       "          (act): GELU(approximate='none')\n",
       "          (fc2): Linear(in_features=3072, out_features=768, bias=True)\n",
       "          (drop): Dropout(p=0.0, inplace=False)\n",
       "        )\n",
       "      )\n",
       "      (5): Block(\n",
       "        (norm1): LayerNorm((768,), eps=1e-06, elementwise_affine=True)\n",
       "        (attn): Attention(\n",
       "          (qkv): Linear(in_features=768, out_features=2304, bias=False)\n",
       "          (attn_drop): Dropout(p=0.0, inplace=False)\n",
       "          (proj): Linear(in_features=768, out_features=768, bias=True)\n",
       "          (proj_drop): Dropout(p=0.0, inplace=False)\n",
       "        )\n",
       "        (drop_path): DropPath(p=0.09090908616781235)\n",
       "        (norm2): LayerNorm((768,), eps=1e-06, elementwise_affine=True)\n",
       "        (mlp): Mlp(\n",
       "          (fc1): Linear(in_features=768, out_features=3072, bias=True)\n",
       "          (act): GELU(approximate='none')\n",
       "          (fc2): Linear(in_features=3072, out_features=768, bias=True)\n",
       "          (drop): Dropout(p=0.0, inplace=False)\n",
       "        )\n",
       "      )\n",
       "      (6): Block(\n",
       "        (norm1): LayerNorm((768,), eps=1e-06, elementwise_affine=True)\n",
       "        (attn): Attention(\n",
       "          (qkv): Linear(in_features=768, out_features=2304, bias=False)\n",
       "          (attn_drop): Dropout(p=0.0, inplace=False)\n",
       "          (proj): Linear(in_features=768, out_features=768, bias=True)\n",
       "          (proj_drop): Dropout(p=0.0, inplace=False)\n",
       "        )\n",
       "        (drop_path): DropPath(p=0.10909091681241989)\n",
       "        (norm2): LayerNorm((768,), eps=1e-06, elementwise_affine=True)\n",
       "        (mlp): Mlp(\n",
       "          (fc1): Linear(in_features=768, out_features=3072, bias=True)\n",
       "          (act): GELU(approximate='none')\n",
       "          (fc2): Linear(in_features=3072, out_features=768, bias=True)\n",
       "          (drop): Dropout(p=0.0, inplace=False)\n",
       "        )\n",
       "      )\n",
       "      (7): Block(\n",
       "        (norm1): LayerNorm((768,), eps=1e-06, elementwise_affine=True)\n",
       "        (attn): Attention(\n",
       "          (qkv): Linear(in_features=768, out_features=2304, bias=False)\n",
       "          (attn_drop): Dropout(p=0.0, inplace=False)\n",
       "          (proj): Linear(in_features=768, out_features=768, bias=True)\n",
       "          (proj_drop): Dropout(p=0.0, inplace=False)\n",
       "        )\n",
       "        (drop_path): DropPath(p=0.12727272510528564)\n",
       "        (norm2): LayerNorm((768,), eps=1e-06, elementwise_affine=True)\n",
       "        (mlp): Mlp(\n",
       "          (fc1): Linear(in_features=768, out_features=3072, bias=True)\n",
       "          (act): GELU(approximate='none')\n",
       "          (fc2): Linear(in_features=3072, out_features=768, bias=True)\n",
       "          (drop): Dropout(p=0.0, inplace=False)\n",
       "        )\n",
       "      )\n",
       "      (8): Block(\n",
       "        (norm1): LayerNorm((768,), eps=1e-06, elementwise_affine=True)\n",
       "        (attn): Attention(\n",
       "          (qkv): Linear(in_features=768, out_features=2304, bias=False)\n",
       "          (attn_drop): Dropout(p=0.0, inplace=False)\n",
       "          (proj): Linear(in_features=768, out_features=768, bias=True)\n",
       "          (proj_drop): Dropout(p=0.0, inplace=False)\n",
       "        )\n",
       "        (drop_path): DropPath(p=0.1454545557498932)\n",
       "        (norm2): LayerNorm((768,), eps=1e-06, elementwise_affine=True)\n",
       "        (mlp): Mlp(\n",
       "          (fc1): Linear(in_features=768, out_features=3072, bias=True)\n",
       "          (act): GELU(approximate='none')\n",
       "          (fc2): Linear(in_features=3072, out_features=768, bias=True)\n",
       "          (drop): Dropout(p=0.0, inplace=False)\n",
       "        )\n",
       "      )\n",
       "      (9): Block(\n",
       "        (norm1): LayerNorm((768,), eps=1e-06, elementwise_affine=True)\n",
       "        (attn): Attention(\n",
       "          (qkv): Linear(in_features=768, out_features=2304, bias=False)\n",
       "          (attn_drop): Dropout(p=0.0, inplace=False)\n",
       "          (proj): Linear(in_features=768, out_features=768, bias=True)\n",
       "          (proj_drop): Dropout(p=0.0, inplace=False)\n",
       "        )\n",
       "        (drop_path): DropPath(p=0.16363637149333954)\n",
       "        (norm2): LayerNorm((768,), eps=1e-06, elementwise_affine=True)\n",
       "        (mlp): Mlp(\n",
       "          (fc1): Linear(in_features=768, out_features=3072, bias=True)\n",
       "          (act): GELU(approximate='none')\n",
       "          (fc2): Linear(in_features=3072, out_features=768, bias=True)\n",
       "          (drop): Dropout(p=0.0, inplace=False)\n",
       "        )\n",
       "      )\n",
       "      (10): Block(\n",
       "        (norm1): LayerNorm((768,), eps=1e-06, elementwise_affine=True)\n",
       "        (attn): Attention(\n",
       "          (qkv): Linear(in_features=768, out_features=2304, bias=False)\n",
       "          (attn_drop): Dropout(p=0.0, inplace=False)\n",
       "          (proj): Linear(in_features=768, out_features=768, bias=True)\n",
       "          (proj_drop): Dropout(p=0.0, inplace=False)\n",
       "        )\n",
       "        (drop_path): DropPath(p=0.1818181872367859)\n",
       "        (norm2): LayerNorm((768,), eps=1e-06, elementwise_affine=True)\n",
       "        (mlp): Mlp(\n",
       "          (fc1): Linear(in_features=768, out_features=3072, bias=True)\n",
       "          (act): GELU(approximate='none')\n",
       "          (fc2): Linear(in_features=3072, out_features=768, bias=True)\n",
       "          (drop): Dropout(p=0.0, inplace=False)\n",
       "        )\n",
       "      )\n",
       "      (11): Block(\n",
       "        (norm1): LayerNorm((768,), eps=1e-06, elementwise_affine=True)\n",
       "        (attn): Attention(\n",
       "          (qkv): Linear(in_features=768, out_features=2304, bias=False)\n",
       "          (attn_drop): Dropout(p=0.0, inplace=False)\n",
       "          (proj): Linear(in_features=768, out_features=768, bias=True)\n",
       "          (proj_drop): Dropout(p=0.0, inplace=False)\n",
       "        )\n",
       "        (drop_path): DropPath(p=0.20000000298023224)\n",
       "        (norm2): LayerNorm((768,), eps=1e-06, elementwise_affine=True)\n",
       "        (mlp): Mlp(\n",
       "          (fc1): Linear(in_features=768, out_features=3072, bias=True)\n",
       "          (act): GELU(approximate='none')\n",
       "          (fc2): Linear(in_features=3072, out_features=768, bias=True)\n",
       "          (drop): Dropout(p=0.0, inplace=False)\n",
       "        )\n",
       "      )\n",
       "    )\n",
       "    (norm): LayerNorm((768,), eps=1e-06, elementwise_affine=True)\n",
       "  )\n",
       "  (lateral_convs): ModuleList(\n",
       "    (0): Sequential(\n",
       "      (0): ConvTranspose3d(768, 384, kernel_size=(1, 2, 2), stride=(1, 2, 2))\n",
       "      (1): LayerNorm()\n",
       "      (2): GELU(approximate='none')\n",
       "      (3): ConvTranspose3d(384, 192, kernel_size=(1, 2, 2), stride=(1, 2, 2))\n",
       "      (4): Conv3d(192, 256, kernel_size=(1, 1, 1), stride=(1, 1, 1), bias=False)\n",
       "      (5): LayerNorm()\n",
       "      (6): Conv3d(256, 256, kernel_size=(3, 3, 3), stride=(1, 1, 1), padding=(1, 1, 1), bias=False)\n",
       "    )\n",
       "    (1): Sequential(\n",
       "      (0): ConvTranspose3d(768, 384, kernel_size=(1, 2, 2), stride=(1, 2, 2))\n",
       "      (1): Conv3d(384, 256, kernel_size=(1, 1, 1), stride=(1, 1, 1), bias=False)\n",
       "      (2): LayerNorm()\n",
       "      (3): Conv3d(256, 256, kernel_size=(3, 3, 3), stride=(1, 1, 1), padding=(1, 1, 1), bias=False)\n",
       "    )\n",
       "    (2): Sequential(\n",
       "      (0): Conv3d(768, 256, kernel_size=(1, 1, 1), stride=(1, 1, 1), bias=False)\n",
       "      (1): LayerNorm()\n",
       "      (2): Conv3d(256, 256, kernel_size=(3, 3, 3), stride=(1, 1, 1), padding=(1, 1, 1), bias=False)\n",
       "    )\n",
       "    (3): Sequential(\n",
       "      (0): MaxPool3d(kernel_size=[1, 2, 2], stride=[1, 2, 2], padding=0, dilation=1, ceil_mode=False)\n",
       "      (1): Conv3d(768, 256, kernel_size=(1, 1, 1), stride=(1, 1, 1), bias=False)\n",
       "      (2): LayerNorm()\n",
       "      (3): Conv3d(256, 256, kernel_size=(3, 3, 3), stride=(1, 1, 1), padding=(1, 1, 1), bias=False)\n",
       "    )\n",
       "  )\n",
       "  (stm_head): STMDecoder(\n",
       "    (init_spatial_queries): Embedding(100, 256)\n",
       "    (init_temporal_queries): Embedding(100, 256)\n",
       "    (decoder_stages): ModuleList(\n",
       "      (0): AMStage(\n",
       "        (attention_s): MultiheadAttention(\n",
       "          (attn): MultiheadAttention(\n",
       "            (out_proj): NonDynamicallyQuantizableLinear(in_features=256, out_features=256, bias=True)\n",
       "          )\n",
       "          (proj_drop): Dropout(p=0.0, inplace=False)\n",
       "          (dropout_layer): Dropout(p=0.0, inplace=False)\n",
       "        )\n",
       "        (attention_norm_s): LayerNorm((256,), eps=1e-05, elementwise_affine=True)\n",
       "        (ffn_s): FFN(\n",
       "          (activate): ReLU(inplace=True)\n",
       "          (layers): Sequential(\n",
       "            (0): Sequential(\n",
       "              (0): Linear(in_features=256, out_features=2048, bias=True)\n",
       "              (1): ReLU(inplace=True)\n",
       "              (2): Dropout(p=0.0, inplace=False)\n",
       "            )\n",
       "            (1): Linear(in_features=2048, out_features=256, bias=True)\n",
       "            (2): Dropout(p=0.0, inplace=False)\n",
       "          )\n",
       "          (dropout_layer): Identity()\n",
       "        )\n",
       "        (ffn_norm_s): LayerNorm((256,), eps=1e-05, elementwise_affine=True)\n",
       "        (attention_t): MultiheadAttention(\n",
       "          (attn): MultiheadAttention(\n",
       "            (out_proj): NonDynamicallyQuantizableLinear(in_features=256, out_features=256, bias=True)\n",
       "          )\n",
       "          (proj_drop): Dropout(p=0.0, inplace=False)\n",
       "          (dropout_layer): Dropout(p=0.0, inplace=False)\n",
       "        )\n",
       "        (attention_norm_t): LayerNorm((256,), eps=1e-05, elementwise_affine=True)\n",
       "        (ffn_t): FFN(\n",
       "          (activate): ReLU(inplace=True)\n",
       "          (layers): Sequential(\n",
       "            (0): Sequential(\n",
       "              (0): Linear(in_features=256, out_features=2048, bias=True)\n",
       "              (1): ReLU(inplace=True)\n",
       "              (2): Dropout(p=0.0, inplace=False)\n",
       "            )\n",
       "            (1): Linear(in_features=2048, out_features=256, bias=True)\n",
       "            (2): Dropout(p=0.0, inplace=False)\n",
       "          )\n",
       "          (dropout_layer): Identity()\n",
       "        )\n",
       "        (ffn_norm_t): LayerNorm((256,), eps=1e-05, elementwise_affine=True)\n",
       "        (samplingmixing): AdaptiveSTSamplingMixing(\n",
       "          (offset_generator): Sequential(\n",
       "            (0): Linear(in_features=256, out_features=384, bias=True)\n",
       "          )\n",
       "          (norm_s): LayerNorm((256,), eps=1e-05, elementwise_affine=True)\n",
       "          (norm_t): LayerNorm((256,), eps=1e-05, elementwise_affine=True)\n",
       "          (adaptive_mixing_s): AdaptiveMixing(\n",
       "            (parameter_generator): Sequential(\n",
       "              (0): Linear(in_features=256, out_features=32768, bias=True)\n",
       "            )\n",
       "            (out_proj): Linear(in_features=32768, out_features=256, bias=True)\n",
       "            (act): ReLU(inplace=True)\n",
       "          )\n",
       "          (adaptive_mixing_t): AdaptiveMixing(\n",
       "            (parameter_generator): Sequential(\n",
       "              (0): Linear(in_features=256, out_features=17408, bias=True)\n",
       "            )\n",
       "            (out_proj): Linear(in_features=8192, out_features=256, bias=True)\n",
       "            (act): ReLU(inplace=True)\n",
       "          )\n",
       "        )\n",
       "        (human_cls_fcs): ModuleList(\n",
       "          (0): Linear(in_features=256, out_features=256, bias=True)\n",
       "          (1): LayerNorm((256,), eps=1e-05, elementwise_affine=True)\n",
       "          (2): ReLU(inplace=True)\n",
       "        )\n",
       "        (human_fc_cls): Linear(in_features=256, out_features=2, bias=True)\n",
       "        (reg_fcs): ModuleList(\n",
       "          (0): Linear(in_features=256, out_features=256, bias=True)\n",
       "          (1): LayerNorm((256,), eps=1e-05, elementwise_affine=True)\n",
       "          (2): ReLU(inplace=True)\n",
       "        )\n",
       "        (fc_reg): Linear(in_features=256, out_features=4, bias=True)\n",
       "        (action_cls_fcs): ModuleList(\n",
       "          (0): Linear(in_features=512, out_features=512, bias=True)\n",
       "          (1): LayerNorm((512,), eps=1e-05, elementwise_affine=True)\n",
       "          (2): ReLU(inplace=True)\n",
       "        )\n",
       "        (fc_action): Linear(in_features=512, out_features=80, bias=True)\n",
       "      )\n",
       "      (1): AMStage(\n",
       "        (attention_s): MultiheadAttention(\n",
       "          (attn): MultiheadAttention(\n",
       "            (out_proj): NonDynamicallyQuantizableLinear(in_features=256, out_features=256, bias=True)\n",
       "          )\n",
       "          (proj_drop): Dropout(p=0.0, inplace=False)\n",
       "          (dropout_layer): Dropout(p=0.0, inplace=False)\n",
       "        )\n",
       "        (attention_norm_s): LayerNorm((256,), eps=1e-05, elementwise_affine=True)\n",
       "        (ffn_s): FFN(\n",
       "          (activate): ReLU(inplace=True)\n",
       "          (layers): Sequential(\n",
       "            (0): Sequential(\n",
       "              (0): Linear(in_features=256, out_features=2048, bias=True)\n",
       "              (1): ReLU(inplace=True)\n",
       "              (2): Dropout(p=0.0, inplace=False)\n",
       "            )\n",
       "            (1): Linear(in_features=2048, out_features=256, bias=True)\n",
       "            (2): Dropout(p=0.0, inplace=False)\n",
       "          )\n",
       "          (dropout_layer): Identity()\n",
       "        )\n",
       "        (ffn_norm_s): LayerNorm((256,), eps=1e-05, elementwise_affine=True)\n",
       "        (attention_t): MultiheadAttention(\n",
       "          (attn): MultiheadAttention(\n",
       "            (out_proj): NonDynamicallyQuantizableLinear(in_features=256, out_features=256, bias=True)\n",
       "          )\n",
       "          (proj_drop): Dropout(p=0.0, inplace=False)\n",
       "          (dropout_layer): Dropout(p=0.0, inplace=False)\n",
       "        )\n",
       "        (attention_norm_t): LayerNorm((256,), eps=1e-05, elementwise_affine=True)\n",
       "        (ffn_t): FFN(\n",
       "          (activate): ReLU(inplace=True)\n",
       "          (layers): Sequential(\n",
       "            (0): Sequential(\n",
       "              (0): Linear(in_features=256, out_features=2048, bias=True)\n",
       "              (1): ReLU(inplace=True)\n",
       "              (2): Dropout(p=0.0, inplace=False)\n",
       "            )\n",
       "            (1): Linear(in_features=2048, out_features=256, bias=True)\n",
       "            (2): Dropout(p=0.0, inplace=False)\n",
       "          )\n",
       "          (dropout_layer): Identity()\n",
       "        )\n",
       "        (ffn_norm_t): LayerNorm((256,), eps=1e-05, elementwise_affine=True)\n",
       "        (samplingmixing): AdaptiveSTSamplingMixing(\n",
       "          (offset_generator): Sequential(\n",
       "            (0): Linear(in_features=256, out_features=384, bias=True)\n",
       "          )\n",
       "          (norm_s): LayerNorm((256,), eps=1e-05, elementwise_affine=True)\n",
       "          (norm_t): LayerNorm((256,), eps=1e-05, elementwise_affine=True)\n",
       "          (adaptive_mixing_s): AdaptiveMixing(\n",
       "            (parameter_generator): Sequential(\n",
       "              (0): Linear(in_features=256, out_features=32768, bias=True)\n",
       "            )\n",
       "            (out_proj): Linear(in_features=32768, out_features=256, bias=True)\n",
       "            (act): ReLU(inplace=True)\n",
       "          )\n",
       "          (adaptive_mixing_t): AdaptiveMixing(\n",
       "            (parameter_generator): Sequential(\n",
       "              (0): Linear(in_features=256, out_features=17408, bias=True)\n",
       "            )\n",
       "            (out_proj): Linear(in_features=8192, out_features=256, bias=True)\n",
       "            (act): ReLU(inplace=True)\n",
       "          )\n",
       "        )\n",
       "        (human_cls_fcs): ModuleList(\n",
       "          (0): Linear(in_features=256, out_features=256, bias=True)\n",
       "          (1): LayerNorm((256,), eps=1e-05, elementwise_affine=True)\n",
       "          (2): ReLU(inplace=True)\n",
       "        )\n",
       "        (human_fc_cls): Linear(in_features=256, out_features=2, bias=True)\n",
       "        (reg_fcs): ModuleList(\n",
       "          (0): Linear(in_features=256, out_features=256, bias=True)\n",
       "          (1): LayerNorm((256,), eps=1e-05, elementwise_affine=True)\n",
       "          (2): ReLU(inplace=True)\n",
       "        )\n",
       "        (fc_reg): Linear(in_features=256, out_features=4, bias=True)\n",
       "        (action_cls_fcs): ModuleList(\n",
       "          (0): Linear(in_features=512, out_features=512, bias=True)\n",
       "          (1): LayerNorm((512,), eps=1e-05, elementwise_affine=True)\n",
       "          (2): ReLU(inplace=True)\n",
       "        )\n",
       "        (fc_action): Linear(in_features=512, out_features=80, bias=True)\n",
       "      )\n",
       "      (2): AMStage(\n",
       "        (attention_s): MultiheadAttention(\n",
       "          (attn): MultiheadAttention(\n",
       "            (out_proj): NonDynamicallyQuantizableLinear(in_features=256, out_features=256, bias=True)\n",
       "          )\n",
       "          (proj_drop): Dropout(p=0.0, inplace=False)\n",
       "          (dropout_layer): Dropout(p=0.0, inplace=False)\n",
       "        )\n",
       "        (attention_norm_s): LayerNorm((256,), eps=1e-05, elementwise_affine=True)\n",
       "        (ffn_s): FFN(\n",
       "          (activate): ReLU(inplace=True)\n",
       "          (layers): Sequential(\n",
       "            (0): Sequential(\n",
       "              (0): Linear(in_features=256, out_features=2048, bias=True)\n",
       "              (1): ReLU(inplace=True)\n",
       "              (2): Dropout(p=0.0, inplace=False)\n",
       "            )\n",
       "            (1): Linear(in_features=2048, out_features=256, bias=True)\n",
       "            (2): Dropout(p=0.0, inplace=False)\n",
       "          )\n",
       "          (dropout_layer): Identity()\n",
       "        )\n",
       "        (ffn_norm_s): LayerNorm((256,), eps=1e-05, elementwise_affine=True)\n",
       "        (attention_t): MultiheadAttention(\n",
       "          (attn): MultiheadAttention(\n",
       "            (out_proj): NonDynamicallyQuantizableLinear(in_features=256, out_features=256, bias=True)\n",
       "          )\n",
       "          (proj_drop): Dropout(p=0.0, inplace=False)\n",
       "          (dropout_layer): Dropout(p=0.0, inplace=False)\n",
       "        )\n",
       "        (attention_norm_t): LayerNorm((256,), eps=1e-05, elementwise_affine=True)\n",
       "        (ffn_t): FFN(\n",
       "          (activate): ReLU(inplace=True)\n",
       "          (layers): Sequential(\n",
       "            (0): Sequential(\n",
       "              (0): Linear(in_features=256, out_features=2048, bias=True)\n",
       "              (1): ReLU(inplace=True)\n",
       "              (2): Dropout(p=0.0, inplace=False)\n",
       "            )\n",
       "            (1): Linear(in_features=2048, out_features=256, bias=True)\n",
       "            (2): Dropout(p=0.0, inplace=False)\n",
       "          )\n",
       "          (dropout_layer): Identity()\n",
       "        )\n",
       "        (ffn_norm_t): LayerNorm((256,), eps=1e-05, elementwise_affine=True)\n",
       "        (samplingmixing): AdaptiveSTSamplingMixing(\n",
       "          (offset_generator): Sequential(\n",
       "            (0): Linear(in_features=256, out_features=384, bias=True)\n",
       "          )\n",
       "          (norm_s): LayerNorm((256,), eps=1e-05, elementwise_affine=True)\n",
       "          (norm_t): LayerNorm((256,), eps=1e-05, elementwise_affine=True)\n",
       "          (adaptive_mixing_s): AdaptiveMixing(\n",
       "            (parameter_generator): Sequential(\n",
       "              (0): Linear(in_features=256, out_features=32768, bias=True)\n",
       "            )\n",
       "            (out_proj): Linear(in_features=32768, out_features=256, bias=True)\n",
       "            (act): ReLU(inplace=True)\n",
       "          )\n",
       "          (adaptive_mixing_t): AdaptiveMixing(\n",
       "            (parameter_generator): Sequential(\n",
       "              (0): Linear(in_features=256, out_features=17408, bias=True)\n",
       "            )\n",
       "            (out_proj): Linear(in_features=8192, out_features=256, bias=True)\n",
       "            (act): ReLU(inplace=True)\n",
       "          )\n",
       "        )\n",
       "        (human_cls_fcs): ModuleList(\n",
       "          (0): Linear(in_features=256, out_features=256, bias=True)\n",
       "          (1): LayerNorm((256,), eps=1e-05, elementwise_affine=True)\n",
       "          (2): ReLU(inplace=True)\n",
       "        )\n",
       "        (human_fc_cls): Linear(in_features=256, out_features=2, bias=True)\n",
       "        (reg_fcs): ModuleList(\n",
       "          (0): Linear(in_features=256, out_features=256, bias=True)\n",
       "          (1): LayerNorm((256,), eps=1e-05, elementwise_affine=True)\n",
       "          (2): ReLU(inplace=True)\n",
       "        )\n",
       "        (fc_reg): Linear(in_features=256, out_features=4, bias=True)\n",
       "        (action_cls_fcs): ModuleList(\n",
       "          (0): Linear(in_features=512, out_features=512, bias=True)\n",
       "          (1): LayerNorm((512,), eps=1e-05, elementwise_affine=True)\n",
       "          (2): ReLU(inplace=True)\n",
       "        )\n",
       "        (fc_action): Linear(in_features=512, out_features=80, bias=True)\n",
       "      )\n",
       "      (3): AMStage(\n",
       "        (attention_s): MultiheadAttention(\n",
       "          (attn): MultiheadAttention(\n",
       "            (out_proj): NonDynamicallyQuantizableLinear(in_features=256, out_features=256, bias=True)\n",
       "          )\n",
       "          (proj_drop): Dropout(p=0.0, inplace=False)\n",
       "          (dropout_layer): Dropout(p=0.0, inplace=False)\n",
       "        )\n",
       "        (attention_norm_s): LayerNorm((256,), eps=1e-05, elementwise_affine=True)\n",
       "        (ffn_s): FFN(\n",
       "          (activate): ReLU(inplace=True)\n",
       "          (layers): Sequential(\n",
       "            (0): Sequential(\n",
       "              (0): Linear(in_features=256, out_features=2048, bias=True)\n",
       "              (1): ReLU(inplace=True)\n",
       "              (2): Dropout(p=0.0, inplace=False)\n",
       "            )\n",
       "            (1): Linear(in_features=2048, out_features=256, bias=True)\n",
       "            (2): Dropout(p=0.0, inplace=False)\n",
       "          )\n",
       "          (dropout_layer): Identity()\n",
       "        )\n",
       "        (ffn_norm_s): LayerNorm((256,), eps=1e-05, elementwise_affine=True)\n",
       "        (attention_t): MultiheadAttention(\n",
       "          (attn): MultiheadAttention(\n",
       "            (out_proj): NonDynamicallyQuantizableLinear(in_features=256, out_features=256, bias=True)\n",
       "          )\n",
       "          (proj_drop): Dropout(p=0.0, inplace=False)\n",
       "          (dropout_layer): Dropout(p=0.0, inplace=False)\n",
       "        )\n",
       "        (attention_norm_t): LayerNorm((256,), eps=1e-05, elementwise_affine=True)\n",
       "        (ffn_t): FFN(\n",
       "          (activate): ReLU(inplace=True)\n",
       "          (layers): Sequential(\n",
       "            (0): Sequential(\n",
       "              (0): Linear(in_features=256, out_features=2048, bias=True)\n",
       "              (1): ReLU(inplace=True)\n",
       "              (2): Dropout(p=0.0, inplace=False)\n",
       "            )\n",
       "            (1): Linear(in_features=2048, out_features=256, bias=True)\n",
       "            (2): Dropout(p=0.0, inplace=False)\n",
       "          )\n",
       "          (dropout_layer): Identity()\n",
       "        )\n",
       "        (ffn_norm_t): LayerNorm((256,), eps=1e-05, elementwise_affine=True)\n",
       "        (samplingmixing): AdaptiveSTSamplingMixing(\n",
       "          (offset_generator): Sequential(\n",
       "            (0): Linear(in_features=256, out_features=384, bias=True)\n",
       "          )\n",
       "          (norm_s): LayerNorm((256,), eps=1e-05, elementwise_affine=True)\n",
       "          (norm_t): LayerNorm((256,), eps=1e-05, elementwise_affine=True)\n",
       "          (adaptive_mixing_s): AdaptiveMixing(\n",
       "            (parameter_generator): Sequential(\n",
       "              (0): Linear(in_features=256, out_features=32768, bias=True)\n",
       "            )\n",
       "            (out_proj): Linear(in_features=32768, out_features=256, bias=True)\n",
       "            (act): ReLU(inplace=True)\n",
       "          )\n",
       "          (adaptive_mixing_t): AdaptiveMixing(\n",
       "            (parameter_generator): Sequential(\n",
       "              (0): Linear(in_features=256, out_features=17408, bias=True)\n",
       "            )\n",
       "            (out_proj): Linear(in_features=8192, out_features=256, bias=True)\n",
       "            (act): ReLU(inplace=True)\n",
       "          )\n",
       "        )\n",
       "        (human_cls_fcs): ModuleList(\n",
       "          (0): Linear(in_features=256, out_features=256, bias=True)\n",
       "          (1): LayerNorm((256,), eps=1e-05, elementwise_affine=True)\n",
       "          (2): ReLU(inplace=True)\n",
       "        )\n",
       "        (human_fc_cls): Linear(in_features=256, out_features=2, bias=True)\n",
       "        (reg_fcs): ModuleList(\n",
       "          (0): Linear(in_features=256, out_features=256, bias=True)\n",
       "          (1): LayerNorm((256,), eps=1e-05, elementwise_affine=True)\n",
       "          (2): ReLU(inplace=True)\n",
       "        )\n",
       "        (fc_reg): Linear(in_features=256, out_features=4, bias=True)\n",
       "        (action_cls_fcs): ModuleList(\n",
       "          (0): Linear(in_features=512, out_features=512, bias=True)\n",
       "          (1): LayerNorm((512,), eps=1e-05, elementwise_affine=True)\n",
       "          (2): ReLU(inplace=True)\n",
       "        )\n",
       "        (fc_action): Linear(in_features=512, out_features=80, bias=True)\n",
       "      )\n",
       "      (4): AMStage(\n",
       "        (attention_s): MultiheadAttention(\n",
       "          (attn): MultiheadAttention(\n",
       "            (out_proj): NonDynamicallyQuantizableLinear(in_features=256, out_features=256, bias=True)\n",
       "          )\n",
       "          (proj_drop): Dropout(p=0.0, inplace=False)\n",
       "          (dropout_layer): Dropout(p=0.0, inplace=False)\n",
       "        )\n",
       "        (attention_norm_s): LayerNorm((256,), eps=1e-05, elementwise_affine=True)\n",
       "        (ffn_s): FFN(\n",
       "          (activate): ReLU(inplace=True)\n",
       "          (layers): Sequential(\n",
       "            (0): Sequential(\n",
       "              (0): Linear(in_features=256, out_features=2048, bias=True)\n",
       "              (1): ReLU(inplace=True)\n",
       "              (2): Dropout(p=0.0, inplace=False)\n",
       "            )\n",
       "            (1): Linear(in_features=2048, out_features=256, bias=True)\n",
       "            (2): Dropout(p=0.0, inplace=False)\n",
       "          )\n",
       "          (dropout_layer): Identity()\n",
       "        )\n",
       "        (ffn_norm_s): LayerNorm((256,), eps=1e-05, elementwise_affine=True)\n",
       "        (attention_t): MultiheadAttention(\n",
       "          (attn): MultiheadAttention(\n",
       "            (out_proj): NonDynamicallyQuantizableLinear(in_features=256, out_features=256, bias=True)\n",
       "          )\n",
       "          (proj_drop): Dropout(p=0.0, inplace=False)\n",
       "          (dropout_layer): Dropout(p=0.0, inplace=False)\n",
       "        )\n",
       "        (attention_norm_t): LayerNorm((256,), eps=1e-05, elementwise_affine=True)\n",
       "        (ffn_t): FFN(\n",
       "          (activate): ReLU(inplace=True)\n",
       "          (layers): Sequential(\n",
       "            (0): Sequential(\n",
       "              (0): Linear(in_features=256, out_features=2048, bias=True)\n",
       "              (1): ReLU(inplace=True)\n",
       "              (2): Dropout(p=0.0, inplace=False)\n",
       "            )\n",
       "            (1): Linear(in_features=2048, out_features=256, bias=True)\n",
       "            (2): Dropout(p=0.0, inplace=False)\n",
       "          )\n",
       "          (dropout_layer): Identity()\n",
       "        )\n",
       "        (ffn_norm_t): LayerNorm((256,), eps=1e-05, elementwise_affine=True)\n",
       "        (samplingmixing): AdaptiveSTSamplingMixing(\n",
       "          (offset_generator): Sequential(\n",
       "            (0): Linear(in_features=256, out_features=384, bias=True)\n",
       "          )\n",
       "          (norm_s): LayerNorm((256,), eps=1e-05, elementwise_affine=True)\n",
       "          (norm_t): LayerNorm((256,), eps=1e-05, elementwise_affine=True)\n",
       "          (adaptive_mixing_s): AdaptiveMixing(\n",
       "            (parameter_generator): Sequential(\n",
       "              (0): Linear(in_features=256, out_features=32768, bias=True)\n",
       "            )\n",
       "            (out_proj): Linear(in_features=32768, out_features=256, bias=True)\n",
       "            (act): ReLU(inplace=True)\n",
       "          )\n",
       "          (adaptive_mixing_t): AdaptiveMixing(\n",
       "            (parameter_generator): Sequential(\n",
       "              (0): Linear(in_features=256, out_features=17408, bias=True)\n",
       "            )\n",
       "            (out_proj): Linear(in_features=8192, out_features=256, bias=True)\n",
       "            (act): ReLU(inplace=True)\n",
       "          )\n",
       "        )\n",
       "        (human_cls_fcs): ModuleList(\n",
       "          (0): Linear(in_features=256, out_features=256, bias=True)\n",
       "          (1): LayerNorm((256,), eps=1e-05, elementwise_affine=True)\n",
       "          (2): ReLU(inplace=True)\n",
       "        )\n",
       "        (human_fc_cls): Linear(in_features=256, out_features=2, bias=True)\n",
       "        (reg_fcs): ModuleList(\n",
       "          (0): Linear(in_features=256, out_features=256, bias=True)\n",
       "          (1): LayerNorm((256,), eps=1e-05, elementwise_affine=True)\n",
       "          (2): ReLU(inplace=True)\n",
       "        )\n",
       "        (fc_reg): Linear(in_features=256, out_features=4, bias=True)\n",
       "        (action_cls_fcs): ModuleList(\n",
       "          (0): Linear(in_features=512, out_features=512, bias=True)\n",
       "          (1): LayerNorm((512,), eps=1e-05, elementwise_affine=True)\n",
       "          (2): ReLU(inplace=True)\n",
       "        )\n",
       "        (fc_action): Linear(in_features=512, out_features=80, bias=True)\n",
       "      )\n",
       "      (5): AMStage(\n",
       "        (attention_s): MultiheadAttention(\n",
       "          (attn): MultiheadAttention(\n",
       "            (out_proj): NonDynamicallyQuantizableLinear(in_features=256, out_features=256, bias=True)\n",
       "          )\n",
       "          (proj_drop): Dropout(p=0.0, inplace=False)\n",
       "          (dropout_layer): Dropout(p=0.0, inplace=False)\n",
       "        )\n",
       "        (attention_norm_s): LayerNorm((256,), eps=1e-05, elementwise_affine=True)\n",
       "        (ffn_s): FFN(\n",
       "          (activate): ReLU(inplace=True)\n",
       "          (layers): Sequential(\n",
       "            (0): Sequential(\n",
       "              (0): Linear(in_features=256, out_features=2048, bias=True)\n",
       "              (1): ReLU(inplace=True)\n",
       "              (2): Dropout(p=0.0, inplace=False)\n",
       "            )\n",
       "            (1): Linear(in_features=2048, out_features=256, bias=True)\n",
       "            (2): Dropout(p=0.0, inplace=False)\n",
       "          )\n",
       "          (dropout_layer): Identity()\n",
       "        )\n",
       "        (ffn_norm_s): LayerNorm((256,), eps=1e-05, elementwise_affine=True)\n",
       "        (attention_t): MultiheadAttention(\n",
       "          (attn): MultiheadAttention(\n",
       "            (out_proj): NonDynamicallyQuantizableLinear(in_features=256, out_features=256, bias=True)\n",
       "          )\n",
       "          (proj_drop): Dropout(p=0.0, inplace=False)\n",
       "          (dropout_layer): Dropout(p=0.0, inplace=False)\n",
       "        )\n",
       "        (attention_norm_t): LayerNorm((256,), eps=1e-05, elementwise_affine=True)\n",
       "        (ffn_t): FFN(\n",
       "          (activate): ReLU(inplace=True)\n",
       "          (layers): Sequential(\n",
       "            (0): Sequential(\n",
       "              (0): Linear(in_features=256, out_features=2048, bias=True)\n",
       "              (1): ReLU(inplace=True)\n",
       "              (2): Dropout(p=0.0, inplace=False)\n",
       "            )\n",
       "            (1): Linear(in_features=2048, out_features=256, bias=True)\n",
       "            (2): Dropout(p=0.0, inplace=False)\n",
       "          )\n",
       "          (dropout_layer): Identity()\n",
       "        )\n",
       "        (ffn_norm_t): LayerNorm((256,), eps=1e-05, elementwise_affine=True)\n",
       "        (samplingmixing): AdaptiveSTSamplingMixing(\n",
       "          (offset_generator): Sequential(\n",
       "            (0): Linear(in_features=256, out_features=384, bias=True)\n",
       "          )\n",
       "          (norm_s): LayerNorm((256,), eps=1e-05, elementwise_affine=True)\n",
       "          (norm_t): LayerNorm((256,), eps=1e-05, elementwise_affine=True)\n",
       "          (adaptive_mixing_s): AdaptiveMixing(\n",
       "            (parameter_generator): Sequential(\n",
       "              (0): Linear(in_features=256, out_features=32768, bias=True)\n",
       "            )\n",
       "            (out_proj): Linear(in_features=32768, out_features=256, bias=True)\n",
       "            (act): ReLU(inplace=True)\n",
       "          )\n",
       "          (adaptive_mixing_t): AdaptiveMixing(\n",
       "            (parameter_generator): Sequential(\n",
       "              (0): Linear(in_features=256, out_features=17408, bias=True)\n",
       "            )\n",
       "            (out_proj): Linear(in_features=8192, out_features=256, bias=True)\n",
       "            (act): ReLU(inplace=True)\n",
       "          )\n",
       "        )\n",
       "        (human_cls_fcs): ModuleList(\n",
       "          (0): Linear(in_features=256, out_features=256, bias=True)\n",
       "          (1): LayerNorm((256,), eps=1e-05, elementwise_affine=True)\n",
       "          (2): ReLU(inplace=True)\n",
       "        )\n",
       "        (human_fc_cls): Linear(in_features=256, out_features=2, bias=True)\n",
       "        (reg_fcs): ModuleList(\n",
       "          (0): Linear(in_features=256, out_features=256, bias=True)\n",
       "          (1): LayerNorm((256,), eps=1e-05, elementwise_affine=True)\n",
       "          (2): ReLU(inplace=True)\n",
       "        )\n",
       "        (fc_reg): Linear(in_features=256, out_features=4, bias=True)\n",
       "        (action_cls_fcs): ModuleList(\n",
       "          (0): Linear(in_features=512, out_features=512, bias=True)\n",
       "          (1): LayerNorm((512,), eps=1e-05, elementwise_affine=True)\n",
       "          (2): ReLU(inplace=True)\n",
       "        )\n",
       "        (fc_action): Linear(in_features=512, out_features=80, bias=True)\n",
       "      )\n",
       "    )\n",
       "    (criterion): SetCriterion(\n",
       "      (matcher): HungarianMatcher()\n",
       "    )\n",
       "  )\n",
       ")"
      ]
     },
     "execution_count": 58,
     "metadata": {},
     "output_type": "execute_result"
    }
   ],
   "source": [
    "model.eval()"
   ]
  },
  {
   "cell_type": "code",
   "execution_count": 59,
   "id": "c57ae16c",
   "metadata": {},
   "outputs": [
    {
     "data": {
      "text/plain": [
       "False"
      ]
     },
     "execution_count": 59,
     "metadata": {},
     "output_type": "execute_result"
    }
   ],
   "source": [
    "mem_active"
   ]
  },
  {
   "cell_type": "markdown",
   "id": "91ac7a81",
   "metadata": {},
   "source": [
    "### 11. Inference"
   ]
  },
  {
   "cell_type": "code",
   "execution_count": 60,
   "id": "66fdfd3c",
   "metadata": {},
   "outputs": [
    {
     "data": {
      "text/plain": [
       "(253, 253)"
      ]
     },
     "execution_count": 60,
     "metadata": {},
     "output_type": "execute_result"
    }
   ],
   "source": [
    "len(list_collated_batches), len(center_frames)"
   ]
  },
  {
   "cell_type": "code",
   "execution_count": 61,
   "id": "434a05a1",
   "metadata": {},
   "outputs": [
    {
     "data": {
      "text/plain": [
       "24"
      ]
     },
     "execution_count": 61,
     "metadata": {},
     "output_type": "execute_result"
    }
   ],
   "source": [
    "batch = list_collated_batches[0]\n",
    "center_frame_index = center_frames[0]\n",
    "center_frame_index"
   ]
  },
  {
   "cell_type": "code",
   "execution_count": 62,
   "id": "2d72289a",
   "metadata": {},
   "outputs": [],
   "source": [
    "def clip_boxes_tensor(boxes, height, width):\n",
    "    boxes[:, [0, 2]] = torch.clamp(boxes[:, [0, 2]], min=0., max=width-1)\n",
    "    boxes[:, [1, 3]] = torch.clamp(boxes[:, [1, 3]], min=0., max=height-1)\n",
    "    return boxes\n",
    "\n",
    "def map_bbox_from_prep_to_crop(bboxes, original_shape, resized_shape):\n",
    "    # Calculate scaling factors\n",
    "    width_scale_factor = original_shape[1] / resized_shape[1]\n",
    "    height_scale_factor = original_shape[0] / resized_shape[0]\n",
    "    \n",
    "    # Map bounding box coordinates to original frame size\n",
    "    mapped_bboxes = torch.zeros_like(bboxes)\n",
    "    mapped_bboxes[:, 0] = (bboxes[:, 0] * width_scale_factor).int()\n",
    "    mapped_bboxes[:, 1] = (bboxes[:, 1] * height_scale_factor).int()\n",
    "    mapped_bboxes[:, 2] = (bboxes[:, 2] * width_scale_factor).int()\n",
    "    mapped_bboxes[:, 3] = (bboxes[:, 3] * height_scale_factor).int()\n",
    "    \n",
    "    return mapped_bboxes\n",
    "\n",
    "def map_bbox_from_crop_to_orig(bboxes, crop_position):\n",
    "    \"\"\"\n",
    "    Maps bounding box coordinates from cropped frame to original frame.\n",
    "    \n",
    "    Args:\n",
    "        bboxes (torch.Tensor): Tensor of shape Nx4 containing bounding box coordinates in the cropped frame.\n",
    "        crop_position (tuple): Tuple containing the (x, y) coordinates of the top-left corner of the cropped frame.\n",
    "        \n",
    "    Returns:\n",
    "        torch.Tensor: Tensor of shape Nx4 containing bounding box coordinates in the original frame.\n",
    "    \"\"\"\n",
    "    # Map bounding box coordinates to original frame size\n",
    "    mapped_bboxes = torch.zeros_like(bboxes)\n",
    "    mapped_bboxes[:, 0] = (bboxes[:, 0] + crop_position[0]).int()\n",
    "    mapped_bboxes[:, 1] = (bboxes[:, 1] + crop_position[1]).int()\n",
    "    mapped_bboxes[:, 2] = (bboxes[:, 2] + crop_position[0]).int()\n",
    "    mapped_bboxes[:, 3] = (bboxes[:, 3] + crop_position[1]).int()\n",
    "    \n",
    "    return mapped_bboxes"
   ]
  },
  {
   "cell_type": "code",
   "execution_count": 63,
   "id": "088425aa",
   "metadata": {},
   "outputs": [],
   "source": [
    "def extract_frame(video_path, frame_index):\n",
    "    # Open the video file\n",
    "    cap = cv2.VideoCapture(video_path)\n",
    "    \n",
    "    # Check if the video file opened successfully\n",
    "    if not cap.isOpened():\n",
    "        print(\"Error: Unable to open video file\")\n",
    "        return None\n",
    "    \n",
    "    # Set the frame index to the desired frame\n",
    "    cap.set(cv2.CAP_PROP_POS_FRAMES, frame_index)\n",
    "    \n",
    "    # Read the frame at the specified frame index\n",
    "    ret, frame = cap.read()\n",
    "    \n",
    "    # Check if frame was read successfully\n",
    "    if not ret:\n",
    "        print(f\"Error: Unable to read frame at index {frame_index}\")\n",
    "        return None\n",
    "    \n",
    "    # Release the video capture object\n",
    "    cap.release()\n",
    "    \n",
    "    return frame"
   ]
  },
  {
   "cell_type": "code",
   "execution_count": 64,
   "id": "44d85c78",
   "metadata": {},
   "outputs": [],
   "source": [
    "def undo_color_normalization(normalized_tensor, mean, std):\n",
    "    \"\"\"\n",
    "    Undo color normalization.\n",
    "\n",
    "    Parameters:\n",
    "    - normalized_tensor: Tensor of shape 3xHxW representing the normalized image.\n",
    "    - mean: List or tuple of length 3 representing the mean for each channel.\n",
    "    - std: List or tuple of length 3 representing the standard deviation for each channel.\n",
    "\n",
    "    Returns:\n",
    "    - Tensor of shape 3xHxW representing the original image.\n",
    "    \"\"\"\n",
    "    original_tensor = normalized_tensor.clone()\n",
    "\n",
    "    for i in range(3):\n",
    "        original_tensor[i, :, :] = (original_tensor[i, :, :] * std[i]) + mean[i]\n",
    "\n",
    "    return original_tensor"
   ]
  },
  {
   "cell_type": "code",
   "execution_count": 65,
   "id": "bc6736a2",
   "metadata": {},
   "outputs": [
    {
     "name": "stdout",
     "output_type": "stream",
     "text": [
      "{1: 'bend/bow (at the waist)', 2: 'crawl', 3: 'crouch/kneel', 4: 'dance', 5: 'fall down', 6: 'get up', 7: 'jump/leap', 8: 'lie/sleep', 9: 'martial art', 10: 'run/jog', 11: 'sit', 12: 'stand', 13: 'swim', 14: 'walk', 15: 'answer phone', 16: 'brush teeth', 17: 'carry/hold (an object)', 18: 'catch (an object)', 19: 'chop', 20: 'climb (e.g., a mountain)', 21: 'clink glass', 22: 'close (e.g., a door, a box)', 23: 'cook', 24: 'cut', 25: 'dig', 26: 'dress/put on clothing', 27: 'drink', 28: 'drive (e.g., a car, a truck)', 29: 'eat', 30: 'enter', 31: 'exit', 32: 'extract', 33: 'fishing', 34: 'hit (an object)', 35: 'kick (an object)', 36: 'lift/pick up', 37: 'listen (e.g., to music)', 38: 'open (e.g., a window, a car door)', 39: 'paint', 40: 'play board game', 41: 'play musical instrument', 42: 'play with pets', 43: 'point to (an object)', 44: 'press', 45: 'pull (an object)', 46: 'push (an object)', 47: 'put down', 48: 'read', 49: 'ride (e.g., a bike, a car, a horse)', 50: 'row boat', 51: 'sail boat', 52: 'shoot', 53: 'shovel', 54: 'smoke', 55: 'stir', 56: 'take a photo', 57: 'text on/look at a cellphone', 58: 'throw', 59: 'touch (an object)', 60: 'turn (e.g., a screwdriver)', 61: 'watch (e.g., TV)', 62: 'work on a computer', 63: 'write', 64: 'fight/hit (a person)', 65: 'give/serve (an object) to (a person)', 66: 'grab (a person)', 67: 'hand clap', 68: 'hand shake', 69: 'hand wave', 70: 'hug (a person)', 71: 'kick (a person)', 72: 'kiss (a person)', 73: 'lift (a person)', 74: 'listen to (a person)', 75: 'play with kids', 76: 'push (another person)', 77: 'sing to (e.g., self, a person, a group)', 78: 'take (an object) from (a person)', 79: 'talk to (e.g., self, a person, a group)', 80: 'watch (a person)'}\n"
     ]
    }
   ],
   "source": [
    "import re\n",
    "\n",
    "def parse_label_file(file_path):\n",
    "    # Initialize an empty dictionary to store label_id and label_name pairs\n",
    "    label_dict = {}\n",
    "\n",
    "    # Read the contents of the file\n",
    "    with open(file_path, 'r') as file:\n",
    "        contents = file.read()\n",
    "\n",
    "    # Use regular expressions to extract label_id and label_name pairs\n",
    "    matches = re.findall(r'label \\{ name: \"(.*?)\" label_id: (\\d+)', contents)\n",
    "\n",
    "    # Iterate over the matches and populate the label dictionary\n",
    "    for label_name, label_id in matches:\n",
    "        label_dict[int(label_id)] = label_name\n",
    "\n",
    "    return label_dict\n",
    "\n",
    "# Example usage:\n",
    "file_path = 'labels.txt'  # Specify the path to your text file\n",
    "label_dict = parse_label_file(file_path)\n",
    "print(label_dict)"
   ]
  },
  {
   "cell_type": "markdown",
   "id": "734fdeac",
   "metadata": {},
   "source": [
    "\n",
    "for batch, center_frame_index in zip(list_collated_batches, center_frames):\n",
    "    \n",
    "    with torch.no_grad():\n",
    "        slow_video, fast_video, whwh, boxes, labels, metadata, idx = batch\n",
    "        slow_video = slow_video.to(device)\n",
    "        if fast_video is not None:\n",
    "            fast_video = fast_video.to(device)\n",
    "        whwh = whwh.to(device)\n",
    "    \n",
    "        # INFERENCE\n",
    "        action_score_list, box_list = model(slow_video, fast_video, whwh, boxes, labels)\n",
    "        \n",
    "    output_bbox = box_list[0]\n",
    "    output_action = action_score_list[0]\n",
    "    \n",
    "    output_bbox_inp = output_bbox.clone()\n",
    "    output_bbox_inp[:, 0] = output_bbox[:, 0] * clips_width\n",
    "    output_bbox_inp[:, 1] = output_bbox[:, 1] * clips_height\n",
    "    output_bbox_inp[:, 2] = output_bbox[:, 2] * clips_width\n",
    "    output_bbox_inp[:, 3] = output_bbox[:, 3] * clips_height\n",
    "\n",
    "    output_bbox_prep = clip_boxes_tensor(output_bbox_inp, \n",
    "                                         height=whwh[0,1], \n",
    "                                         width = whwh[0,0])\n",
    "    \n",
    "    dec_center_frame = undo_color_normalization(center_frame, cfg.DATA.MEAN, cfg.DATA.STD)\n",
    "    \n",
    "    \n",
    "    \n",
    "    \n",
    "    \n",
    "\n"
   ]
  },
  {
   "cell_type": "code",
   "execution_count": 66,
   "id": "696d4c77",
   "metadata": {},
   "outputs": [
    {
     "name": "stdout",
     "output_type": "stream",
     "text": [
      "24\n",
      "25\n",
      "26\n",
      "27\n",
      "28\n",
      "29\n",
      "30\n",
      "31\n",
      "32\n",
      "33\n",
      "34\n",
      "35\n",
      "36\n",
      "37\n",
      "38\n",
      "39\n",
      "40\n",
      "41\n",
      "42\n",
      "43\n",
      "44\n",
      "45\n",
      "46\n",
      "47\n",
      "48\n",
      "49\n",
      "50\n",
      "51\n",
      "52\n",
      "53\n",
      "54\n",
      "55\n",
      "56\n",
      "57\n",
      "58\n",
      "59\n",
      "60\n",
      "61\n",
      "62\n",
      "63\n",
      "64\n",
      "65\n",
      "66\n",
      "67\n",
      "68\n",
      "69\n",
      "70\n",
      "71\n",
      "72\n",
      "73\n",
      "74\n",
      "75\n",
      "76\n",
      "77\n",
      "78\n",
      "79\n",
      "80\n",
      "81\n",
      "82\n",
      "83\n",
      "84\n",
      "85\n",
      "86\n",
      "87\n",
      "88\n",
      "89\n",
      "90\n",
      "91\n",
      "92\n",
      "93\n",
      "94\n",
      "95\n",
      "96\n",
      "97\n",
      "98\n",
      "99\n",
      "100\n",
      "101\n",
      "102\n",
      "103\n",
      "104\n",
      "105\n",
      "106\n",
      "107\n",
      "108\n",
      "109\n",
      "110\n",
      "111\n",
      "112\n",
      "113\n",
      "114\n",
      "115\n",
      "116\n",
      "117\n",
      "118\n",
      "119\n",
      "120\n",
      "121\n",
      "122\n",
      "123\n",
      "124\n",
      "125\n",
      "126\n",
      "127\n",
      "128\n",
      "129\n",
      "130\n",
      "131\n",
      "132\n",
      "133\n",
      "134\n",
      "135\n",
      "136\n",
      "137\n",
      "138\n",
      "139\n",
      "140\n",
      "141\n",
      "142\n",
      "143\n",
      "144\n",
      "145\n",
      "146\n",
      "147\n",
      "148\n",
      "149\n",
      "150\n",
      "151\n",
      "152\n",
      "153\n",
      "154\n",
      "155\n",
      "156\n",
      "157\n",
      "158\n",
      "159\n",
      "160\n",
      "161\n",
      "162\n",
      "163\n",
      "164\n",
      "165\n",
      "166\n",
      "167\n",
      "168\n",
      "169\n",
      "170\n",
      "171\n",
      "172\n",
      "173\n",
      "174\n",
      "175\n",
      "176\n",
      "177\n",
      "178\n",
      "179\n",
      "180\n",
      "181\n",
      "182\n",
      "183\n",
      "184\n",
      "185\n",
      "186\n",
      "187\n",
      "188\n",
      "189\n",
      "190\n",
      "191\n",
      "192\n",
      "193\n",
      "194\n",
      "195\n",
      "196\n",
      "197\n",
      "198\n",
      "199\n",
      "200\n",
      "201\n",
      "202\n",
      "203\n",
      "204\n",
      "205\n",
      "206\n",
      "207\n",
      "208\n",
      "209\n",
      "210\n",
      "211\n",
      "212\n",
      "213\n",
      "214\n",
      "215\n",
      "216\n",
      "217\n",
      "218\n",
      "219\n",
      "220\n",
      "221\n",
      "222\n",
      "223\n",
      "224\n",
      "225\n",
      "226\n",
      "227\n",
      "228\n",
      "229\n",
      "230\n",
      "231\n",
      "232\n",
      "233\n",
      "234\n",
      "235\n",
      "236\n",
      "237\n",
      "238\n",
      "239\n",
      "240\n",
      "241\n",
      "242\n",
      "243\n",
      "244\n",
      "245\n",
      "246\n",
      "247\n",
      "248\n",
      "249\n",
      "250\n",
      "251\n",
      "252\n",
      "253\n",
      "254\n",
      "255\n",
      "256\n",
      "257\n",
      "258\n",
      "259\n",
      "260\n",
      "261\n",
      "262\n",
      "263\n",
      "264\n",
      "265\n",
      "266\n",
      "267\n",
      "268\n",
      "269\n",
      "270\n",
      "271\n",
      "272\n",
      "273\n",
      "274\n",
      "275\n",
      "276\n"
     ]
    }
   ],
   "source": [
    "agg_results_list = []\n",
    "\n",
    "agg_frames_list = []\n",
    "\n",
    "for batch, center_frame_index in zip(list_collated_batches, center_frames):\n",
    "    print(center_frame_index)\n",
    "    \n",
    "    with torch.no_grad():\n",
    "\n",
    "        slow_video, fast_video, whwh, boxes, labels, metadata, idx = batch\n",
    "        slow_video = slow_video.to(device)\n",
    "        if fast_video is not None:\n",
    "            fast_video = fast_video.to(device)\n",
    "        whwh = whwh.to(device)\n",
    "    \n",
    "        # INFERENCE\n",
    "        action_score_list, box_list = model(slow_video, fast_video, whwh, boxes, labels)\n",
    "    \n",
    "    # post-processing\n",
    "    \n",
    "    # Removing batch dimension\n",
    "    output_bbox = box_list[0]\n",
    "    output_action = action_score_list[0]\n",
    "    \n",
    "    # denormalizing bboxes w.r.t. clips shape\n",
    "    output_bbox_inp = output_bbox.clone()\n",
    "\n",
    "    output_bbox_inp[:, 0] = output_bbox[:, 0] * clips_width\n",
    "    output_bbox_inp[:, 1] = output_bbox[:, 1] * clips_height\n",
    "    output_bbox_inp[:, 2] = output_bbox[:, 2] * clips_width\n",
    "    output_bbox_inp[:, 3] = output_bbox[:, 3] * clips_height\n",
    "    \n",
    "    # clipping bbonx coordinates with prep shape because clip shape is right/bottum padded version of prep shape.\n",
    "    output_bbox_prep = clip_boxes_tensor(output_bbox_inp, \n",
    "                                         height=whwh[0,1], \n",
    "                                         width = whwh[0,0])\n",
    "    \n",
    "    # Scaling bboxes from prep shape to crop shape\n",
    "    output_bbox_crop = map_bbox_from_prep_to_crop(output_bbox_prep, \n",
    "                                                  (crop_height, crop_width), \n",
    "                                                  (prep_height, prep_width))\n",
    "    \n",
    "    # mapping from crop to original frame\n",
    "    output_bbox_frame = map_bbox_from_crop_to_orig(output_bbox_crop , crop_box[:2])\n",
    "    top_values, top_indices = torch.topk(output_action, k=top_k, dim=1)\n",
    "    \n",
    "    output_bbox_frame_np = output_bbox_frame.cpu().numpy()\n",
    "    top_values_np = top_values.cpu().numpy()\n",
    "    top_indices_np = top_indices.cpu().numpy()\n",
    "    \n",
    "    agg_resutl = np.concatenate((output_bbox_frame_np, top_indices_np, top_values_np), axis=1)\n",
    "    agg_results_list.append(agg_resutl)\n",
    "    \n",
    "    \n",
    "    cur_frame = extract_frame(video_path, center_frame_index + frame_index)\n",
    "    \n",
    "    agg_frames_list.append(cur_frame)\n",
    "   "
   ]
  },
  {
   "cell_type": "code",
   "execution_count": 67,
   "id": "b4f7570d",
   "metadata": {},
   "outputs": [],
   "source": [
    "interesting_actions_indices = [5, 64, 71, 75]\n",
    "interesting_actions_labels = {5:'fall', 64:'fight', 71:'kick', 75:'push'}\n",
    "\n",
    "vis_frames_list = []\n",
    "vis_iteresting_frames_list = []\n",
    "\n",
    "\n",
    "frame_counter = frame_index + center_frames[0] - 1\n",
    "\n",
    "for sample_result, frame in zip(agg_results_list, agg_frames_list):\n",
    "    frame_counter += 1\n",
    "    sample_bbox = sample_result[:, :4]\n",
    "    sample_top_indices = sample_result[:, 4:9]\n",
    "    sample_top_values = sample_result[:, 9:]\n",
    "    \n",
    "    vis_frame = cv2.cvtColor(frame.copy(), cv2.COLOR_BGR2RGB)\n",
    "    vis_inter_frame = cv2.cvtColor(frame.copy(), cv2.COLOR_BGR2RGB)\n",
    "    id_actor = 0\n",
    "    interesting_frame = False\n",
    "    for bbox, top_action_indices, top_action_scores in zip(sample_bbox, sample_top_indices, sample_top_values):\n",
    "        x1, y1, x2, y2 = bbox.astype(int)\n",
    "        small_text = ''\n",
    "        \n",
    "        interesting_actor = False\n",
    "        for ind, act in enumerate(top_action_indices):\n",
    "            act += 1 # shifting to ava dataset labeling\n",
    "            if act in interesting_actions_indices:\n",
    "                interesting_actor = True\n",
    "                interesting_frame = True\n",
    "                \n",
    "                small_text += '{}_{}'.format(interesting_actions_labels[act], \n",
    "                                             np.round(top_action_scores[ind], 2))\n",
    "        if interesting_actor:\n",
    "            long_text = '{}:'.format(id_actor) # add ID of actor for frame visualization\n",
    "            for act, score in zip(top_action_indices, top_action_scores):\n",
    "                long_text += '{}_{}-'.format(label_dict[act+1].replace('(', '').replace(')', '').split('/')[0], \n",
    "                                             (np.round(score, 2)))\n",
    "                \n",
    "        \n",
    "        if interesting_actor:\n",
    "            # plot the bbox of interesting actor and adding interesting action\n",
    "            cv2.rectangle(vis_frame, (x1, y1), (x2, y2), (255, 0, 0), 2)\n",
    "            cv2.putText(vis_frame, small_text, (x1, y1 - 10), cv2.FONT_HERSHEY_SIMPLEX, 0.5, (0, 255, 0), 2)\n",
    "            \n",
    "            cv2.rectangle(vis_inter_frame, (x1, y1), (x2, y2), (255, 0, 0), 2)\n",
    "            #id_text = '{}:{}'.format(id_actor, small_text)\n",
    "            id_text = '{}'.format(id_actor)\n",
    "            id_actor += 1\n",
    "\n",
    "            cv2.putText(vis_inter_frame, id_text, (x1+10, y1 - 10), cv2.FONT_HERSHEY_SIMPLEX, 0.75, (255, 0, 0), 2)\n",
    "            cv2.putText(vis_inter_frame, str(frame_counter), (40, 40), cv2.FONT_HERSHEY_SIMPLEX, 1, (255, 0, 0), 4)\n",
    "            \n",
    "            # add text containing all actions of interesting actor\n",
    "            if crop_box[1] <= original_height/2:\n",
    "                cv2.putText(vis_inter_frame, \n",
    "                            long_text[:-1], \n",
    "                            (20, original_height - 100 + 20 * id_actor), \n",
    "                            cv2.FONT_HERSHEY_SIMPLEX, 1, (255, 0, 0), 2)\n",
    "            else:\n",
    "                cv2.putText(vis_inter_frame, \n",
    "                            long_text[:-1], \n",
    "                            (20, 100 + 20 * id_actor), \n",
    "                            cv2.FONT_HERSHEY_SIMPLEX, 1, (255, 0, 0), 2)\n",
    "            \n",
    "            \n",
    "        else:\n",
    "            # plot the bbox of other actors\n",
    "            cv2.rectangle(vis_frame, (x1, y1), (x2, y2), (0, 255, 0), 2)\n",
    "            cv2.rectangle(vis_inter_frame, (x1, y1), (x2, y2), (0, 255, 0), 2)\n",
    "        \n",
    "    \n",
    "    cv2.rectangle(vis_frame, (crop_box[0], crop_box[1]), (crop_box[2], crop_box[3]), (255, 255, 0), 2)\n",
    "    cv2.rectangle(vis_inter_frame, (crop_box[0], crop_box[1]), (crop_box[2], crop_box[3]), (255, 255, 0), 2)\n",
    "    \n",
    "    \n",
    "    vis_frames_list.append(vis_frame)\n",
    "    if interesting_frame:\n",
    "        vis_iteresting_frames_list.append(vis_inter_frame)\n",
    "        frame_path = os.path.join(output_directory, f\"frame_{frame_counter}.jpg\")\n",
    "        cv2.imwrite(frame_path, cv2.cvtColor(vis_inter_frame, cv2.COLOR_BGR2RGB))\n",
    "        \n",
    "    \n",
    "        \n",
    "    \n",
    "\n",
    "    \n",
    "\n",
    "    "
   ]
  },
  {
   "cell_type": "code",
   "execution_count": null,
   "id": "8e1e2742",
   "metadata": {},
   "outputs": [],
   "source": [
    "plt.imshow(vis_iteresting_frames_list[-20])"
   ]
  },
  {
   "cell_type": "code",
   "execution_count": null,
   "id": "a8872014",
   "metadata": {},
   "outputs": [],
   "source": [
    "frame_path"
   ]
  },
  {
   "cell_type": "code",
   "execution_count": null,
   "id": "5d41d0f4",
   "metadata": {},
   "outputs": [],
   "source": [
    "vis_clip_output = ImageSequenceClip(vis_frames_list, fps=round(video_info['frame_rate']))"
   ]
  },
  {
   "cell_type": "code",
   "execution_count": null,
   "id": "b5b8662b",
   "metadata": {},
   "outputs": [],
   "source": [
    "display(vis_clip_output.ipython_display(fps=round(video_info['frame_rate']), autoplay=True, loop=True))"
   ]
  },
  {
   "cell_type": "code",
   "execution_count": null,
   "id": "a340ad50",
   "metadata": {},
   "outputs": [],
   "source": []
  },
  {
   "cell_type": "code",
   "execution_count": null,
   "id": "743ff265",
   "metadata": {},
   "outputs": [],
   "source": [
    "sample_frame = agg_frames_list[80]\n",
    "sample_result = agg_results_list[80]\n",
    "\n",
    "\n",
    "\n",
    "sample_bbox = sample_result[:, :4]\n",
    "sample_top_indices = sample_result[:, 4:9]\n",
    "sample_top_values = sample_result[:, 9:]"
   ]
  },
  {
   "cell_type": "code",
   "execution_count": null,
   "id": "5dca1b27",
   "metadata": {},
   "outputs": [],
   "source": []
  },
  {
   "cell_type": "code",
   "execution_count": null,
   "id": "ed171826",
   "metadata": {},
   "outputs": [],
   "source": []
  },
  {
   "cell_type": "code",
   "execution_count": null,
   "id": "9e391f31",
   "metadata": {},
   "outputs": [],
   "source": [
    "interesting_actions_indices = [5, 64, 71, 75]\n",
    "interesting_actions_labels = {5:'fall', 64:'fight', 71:'kick', 75:'push'}\n"
   ]
  },
  {
   "cell_type": "code",
   "execution_count": null,
   "id": "1e153c40",
   "metadata": {},
   "outputs": [],
   "source": [
    "vis_frame = sample_frame.copy()\n",
    "for bbox, top_action_indices, top_action_scores in zip(sample_bbox, sample_top_indices, sample_top_values):\n",
    "    x1, y1, x2, y2 = bbox.astype(int)\n",
    "    text = ''\n",
    "    found = False\n",
    "    for ind, act in enumerate(top_action_indices):\n",
    "        act += 1 # shifting to ava dataset labeling\n",
    "        if act in interesting_actions_indices:\n",
    "            found = True\n",
    "            text += '{}_{}'.format(interesting_actions_labels[act], np.round(top_action_scores[ind], 2))\n",
    "    if found:\n",
    "        cv2.rectangle(vis_frame, (x1, y1), (x2, y2), (0, 255, 0), 2)\n",
    "        cv2.putText(vis_frame, text, (x1, y1 - 10), cv2.FONT_HERSHEY_SIMPLEX, 0.5, (0, 255, 0), 2)\n",
    "        "
   ]
  },
  {
   "cell_type": "code",
   "execution_count": null,
   "id": "f262933a",
   "metadata": {},
   "outputs": [],
   "source": [
    "plt.imshow(vis_frame)"
   ]
  },
  {
   "cell_type": "code",
   "execution_count": null,
   "id": "860d42b1",
   "metadata": {},
   "outputs": [],
   "source": [
    "np.round(top_action_scores[0], 2)"
   ]
  },
  {
   "cell_type": "code",
   "execution_count": null,
   "id": "1c36e316",
   "metadata": {},
   "outputs": [],
   "source": []
  },
  {
   "cell_type": "code",
   "execution_count": null,
   "id": "01510c6f",
   "metadata": {},
   "outputs": [],
   "source": [
    "type(box_list), len(box_list), box_list[0].shape, box_list[0]"
   ]
  },
  {
   "cell_type": "code",
   "execution_count": null,
   "id": "b369d885",
   "metadata": {},
   "outputs": [],
   "source": [
    "type(action_score_list), len(action_score_list), action_score_list[0].shape# action_score_list[0]"
   ]
  },
  {
   "cell_type": "markdown",
   "id": "0558d355",
   "metadata": {},
   "source": [
    "#### 11.1 Removing batch dimension"
   ]
  },
  {
   "cell_type": "code",
   "execution_count": null,
   "id": "f674d257",
   "metadata": {},
   "outputs": [],
   "source": [
    "output_bbox = box_list[0]"
   ]
  },
  {
   "cell_type": "code",
   "execution_count": null,
   "id": "be0ab6ba",
   "metadata": {},
   "outputs": [],
   "source": [
    "output_action = action_score_list[0]"
   ]
  },
  {
   "cell_type": "markdown",
   "id": "219420fa",
   "metadata": {},
   "source": [
    "#### 11.2 Denormalizing bbonx coordinates with clips shape"
   ]
  },
  {
   "cell_type": "code",
   "execution_count": null,
   "id": "befd5649",
   "metadata": {},
   "outputs": [],
   "source": [
    "clips_height, clips_width "
   ]
  },
  {
   "cell_type": "code",
   "execution_count": null,
   "id": "8f624b9b",
   "metadata": {},
   "outputs": [],
   "source": [
    "output_bbox_inp = output_bbox.clone()\n",
    "\n",
    "output_bbox_inp[:, 0] = output_bbox[:, 0] * clips_width\n",
    "output_bbox_inp[:, 1] = output_bbox[:, 1] * clips_height\n",
    "output_bbox_inp[:, 2] = output_bbox[:, 2] * clips_width\n",
    "output_bbox_inp[:, 3] = output_bbox[:, 3] * clips_height\n"
   ]
  },
  {
   "cell_type": "code",
   "execution_count": null,
   "id": "de80c8be",
   "metadata": {},
   "outputs": [],
   "source": [
    "output_bbox_inp"
   ]
  },
  {
   "cell_type": "markdown",
   "id": "174dfcfd",
   "metadata": {},
   "source": [
    "#### 11.3 clipping bbonx coordinates with prep shape\n",
    "\n",
    "Here, we do clipping bbox coordinates with shape of preprocessed frames, i.e., un-padded frame."
   ]
  },
  {
   "cell_type": "code",
   "execution_count": null,
   "id": "79ce2826",
   "metadata": {},
   "outputs": [],
   "source": [
    "whwh"
   ]
  },
  {
   "cell_type": "code",
   "execution_count": null,
   "id": "da36f6b2",
   "metadata": {},
   "outputs": [],
   "source": [
    "def clip_boxes_tensor(boxes, height, width):\n",
    "    boxes[:, [0, 2]] = torch.clamp(boxes[:, [0, 2]], min=0., max=width-1)\n",
    "    boxes[:, [1, 3]] = torch.clamp(boxes[:, [1, 3]], min=0., max=height-1)\n",
    "    return boxes"
   ]
  },
  {
   "cell_type": "code",
   "execution_count": null,
   "id": "c45f4b20",
   "metadata": {},
   "outputs": [],
   "source": [
    "output_bbox_prep = clip_boxes_tensor(output_bbox_inp, \n",
    "                                     height=whwh[0,1], \n",
    "                                     width = whwh[0,0])"
   ]
  },
  {
   "cell_type": "code",
   "execution_count": null,
   "id": "69b46545",
   "metadata": {},
   "outputs": [],
   "source": [
    "output_bbox_prep.shape"
   ]
  },
  {
   "cell_type": "markdown",
   "id": "47d67af9",
   "metadata": {},
   "source": [
    "#### 11.4 Mapping bbox coordinates to crop \n"
   ]
  },
  {
   "cell_type": "code",
   "execution_count": null,
   "id": "d801b2b9",
   "metadata": {},
   "outputs": [],
   "source": [
    "def map_bbox_to_original_frame(bboxes, original_shape, resized_shape):\n",
    "    # Calculate scaling factors\n",
    "    width_scale_factor = original_shape[1] / resized_shape[1]\n",
    "    height_scale_factor = original_shape[0] / resized_shape[0]\n",
    "    \n",
    "    # Map bounding box coordinates to original frame size\n",
    "    mapped_bboxes = torch.zeros_like(bboxes)\n",
    "    mapped_bboxes[:, 0] = (bboxes[:, 0] * width_scale_factor).int()\n",
    "    mapped_bboxes[:, 1] = (bboxes[:, 1] * height_scale_factor).int()\n",
    "    mapped_bboxes[:, 2] = (bboxes[:, 2] * width_scale_factor).int()\n",
    "    mapped_bboxes[:, 3] = (bboxes[:, 3] * height_scale_factor).int()\n",
    "    \n",
    "    return mapped_bboxes"
   ]
  },
  {
   "cell_type": "code",
   "execution_count": null,
   "id": "544871d2",
   "metadata": {},
   "outputs": [],
   "source": [
    "output_bbox_crop = map_bbox_to_original_frame(output_bbox_prep, (crop_height, crop_width), (prep_height, prep_width))"
   ]
  },
  {
   "cell_type": "markdown",
   "id": "87b78024",
   "metadata": {},
   "source": [
    "#### 11.5 Mapping bbox coordinates to original frame shape"
   ]
  },
  {
   "cell_type": "code",
   "execution_count": null,
   "id": "6e1d0739",
   "metadata": {},
   "outputs": [],
   "source": [
    "def map_bbox_to_original_frame(bboxes, crop_position):\n",
    "    \"\"\"\n",
    "    Maps bounding box coordinates from cropped frame to original frame.\n",
    "    \n",
    "    Args:\n",
    "        bboxes (torch.Tensor): Tensor of shape Nx4 containing bounding box coordinates in the cropped frame.\n",
    "        crop_position (tuple): Tuple containing the (x, y) coordinates of the top-left corner of the cropped frame.\n",
    "        \n",
    "    Returns:\n",
    "        torch.Tensor: Tensor of shape Nx4 containing bounding box coordinates in the original frame.\n",
    "    \"\"\"\n",
    "    # Map bounding box coordinates to original frame size\n",
    "    mapped_bboxes = torch.zeros_like(bboxes)\n",
    "    mapped_bboxes[:, 0] = (bboxes[:, 0] + crop_position[0]).int()\n",
    "    mapped_bboxes[:, 1] = (bboxes[:, 1] + crop_position[1]).int()\n",
    "    mapped_bboxes[:, 2] = (bboxes[:, 2] + crop_position[0]).int()\n",
    "    mapped_bboxes[:, 3] = (bboxes[:, 3] + crop_position[1]).int()\n",
    "    \n",
    "    return mapped_bboxes"
   ]
  },
  {
   "cell_type": "code",
   "execution_count": null,
   "id": "47e6d4b5",
   "metadata": {},
   "outputs": [],
   "source": [
    "output_bbox_frame = map_bbox_to_original_frame(output_bbox_crop , crop_box[:2])"
   ]
  },
  {
   "cell_type": "code",
   "execution_count": null,
   "id": "6fe94e57",
   "metadata": {},
   "outputs": [],
   "source": [
    "output_bbox_frame"
   ]
  },
  {
   "cell_type": "code",
   "execution_count": null,
   "id": "0e184856",
   "metadata": {},
   "outputs": [],
   "source": [
    "crop_box"
   ]
  },
  {
   "cell_type": "code",
   "execution_count": null,
   "id": "4aeb20ed",
   "metadata": {},
   "outputs": [],
   "source": [
    "center_frame_index"
   ]
  },
  {
   "cell_type": "code",
   "execution_count": null,
   "id": "246d8934",
   "metadata": {},
   "outputs": [],
   "source": [
    "frame_index"
   ]
  },
  {
   "cell_type": "code",
   "execution_count": null,
   "id": "155e2ccc",
   "metadata": {},
   "outputs": [],
   "source": [
    "center_frame_index + frame_index"
   ]
  },
  {
   "cell_type": "code",
   "execution_count": null,
   "id": "94941608",
   "metadata": {},
   "outputs": [],
   "source": [
    "def extract_frame(video_path, frame_index):\n",
    "    # Open the video file\n",
    "    cap = cv2.VideoCapture(video_path)\n",
    "    \n",
    "    # Check if the video file opened successfully\n",
    "    if not cap.isOpened():\n",
    "        print(\"Error: Unable to open video file\")\n",
    "        return None\n",
    "    \n",
    "    # Set the frame index to the desired frame\n",
    "    cap.set(cv2.CAP_PROP_POS_FRAMES, frame_index)\n",
    "    \n",
    "    # Read the frame at the specified frame index\n",
    "    ret, frame = cap.read()\n",
    "    \n",
    "    # Check if frame was read successfully\n",
    "    if not ret:\n",
    "        print(f\"Error: Unable to read frame at index {frame_index}\")\n",
    "        return None\n",
    "    \n",
    "    # Release the video capture object\n",
    "    cap.release()\n",
    "    \n",
    "    return frame\n",
    "\n",
    "frame = extract_frame(\"../input_dir/fight_prison_youtube.mp4\", center_frame_index + frame_index)"
   ]
  },
  {
   "cell_type": "code",
   "execution_count": null,
   "id": "389f1645",
   "metadata": {},
   "outputs": [],
   "source": [
    "# Transfer data to CPU and convert to NumPy arrays\n",
    "bboxes_cpu = output_bbox_frame.cpu().numpy()\n",
    "vis_frame = frame.copy()\n",
    "\n",
    "# Draw bounding boxes on the image\n",
    "for bbox in bboxes_cpu:\n",
    "    x1, y1, x2, y2 = bbox.astype(int)\n",
    "    print(x1)\n",
    "    cv2.rectangle(vis_frame, (x1, y1), (x2, y2), (0, 255, 0), 2)"
   ]
  },
  {
   "cell_type": "code",
   "execution_count": null,
   "id": "94df8257",
   "metadata": {},
   "outputs": [],
   "source": [
    "plt.imshow(vis_frame)"
   ]
  },
  {
   "cell_type": "code",
   "execution_count": null,
   "id": "c64defbd",
   "metadata": {},
   "outputs": [],
   "source": [
    "# Number of top elements to retrieve\n",
    "top_k = 5\n",
    "\n",
    "# Get the top k values and indices along the last dimension (dimension 1)\n",
    "top_values, top_indices = torch.topk(action_score_list[0], k=top_k, dim=1)"
   ]
  },
  {
   "cell_type": "code",
   "execution_count": null,
   "id": "8a047292",
   "metadata": {},
   "outputs": [],
   "source": [
    "top_values.shape"
   ]
  },
  {
   "cell_type": "code",
   "execution_count": null,
   "id": "0a15f934",
   "metadata": {},
   "outputs": [],
   "source": [
    "interesting_actions_indices = [5, 64, 71, 75]\n",
    "interesting_actions_labels = {5:'fall', 64:'fight', 71:'kick', 75:'push'}\n"
   ]
  },
  {
   "cell_type": "code",
   "execution_count": null,
   "id": "89e60258",
   "metadata": {},
   "outputs": [],
   "source": [
    "# Draw bounding boxes on the image\n",
    "vis_frame = frame.copy()\n",
    "for bbox, top_action_indices, top_action_scores in zip(bboxes_cpu, top_indices, top_values):\n",
    "    x1, y1, x2, y2 = bbox.astype(int)\n",
    "    top_indices_np = top_action_indices.cpu().numpy()\n",
    "    top_values_np = top_action_scores.cpu().numpy()\n",
    "    text = ''\n",
    "    found = False\n",
    "    for ind, act in enumerate(top_indices_np):\n",
    "        act += 1 # shifting to ava dataset labeling\n",
    "        if act in interesting_actions_indices:\n",
    "            found = True\n",
    "            text += '{}'.format(interesting_actions_labels[act])\n",
    "    if found:\n",
    "        cv2.rectangle(vis_frame, (x1, y1), (x2, y2), (0, 255, 0), 2)\n",
    "        cv2.putText(vis_frame, text, (x1, y1 - 10), cv2.FONT_HERSHEY_SIMPLEX, 0.5, (0, 255, 0), 2)\n",
    "        "
   ]
  },
  {
   "cell_type": "code",
   "execution_count": null,
   "id": "7466a8d7",
   "metadata": {},
   "outputs": [],
   "source": [
    "plt.imshow(vis_frame)"
   ]
  },
  {
   "cell_type": "code",
   "execution_count": null,
   "id": "7c9a380a",
   "metadata": {},
   "outputs": [],
   "source": []
  },
  {
   "cell_type": "code",
   "execution_count": null,
   "id": "a2958e4e",
   "metadata": {},
   "outputs": [],
   "source": []
  },
  {
   "cell_type": "code",
   "execution_count": null,
   "id": "6bbb3ae0",
   "metadata": {},
   "outputs": [],
   "source": []
  },
  {
   "cell_type": "code",
   "execution_count": null,
   "id": "7107ef3f",
   "metadata": {},
   "outputs": [],
   "source": []
  },
  {
   "cell_type": "code",
   "execution_count": null,
   "id": "d15561c9",
   "metadata": {},
   "outputs": [],
   "source": [
    "action_score_list[0].shape"
   ]
  },
  {
   "cell_type": "code",
   "execution_count": null,
   "id": "9c5dbc4a",
   "metadata": {},
   "outputs": [],
   "source": [
    "crop_box"
   ]
  },
  {
   "cell_type": "code",
   "execution_count": null,
   "id": "e30ea371",
   "metadata": {},
   "outputs": [],
   "source": []
  },
  {
   "cell_type": "code",
   "execution_count": null,
   "id": "0741fb4b",
   "metadata": {},
   "outputs": [],
   "source": [
    "prep_height"
   ]
  },
  {
   "cell_type": "code",
   "execution_count": null,
   "id": "18400c1f",
   "metadata": {},
   "outputs": [],
   "source": [
    "center_frame = prep_video[:,center_frame_index,:,:]"
   ]
  },
  {
   "cell_type": "code",
   "execution_count": null,
   "id": "3034a4fb",
   "metadata": {},
   "outputs": [],
   "source": [
    "center_frame.dtype"
   ]
  },
  {
   "cell_type": "code",
   "execution_count": null,
   "id": "9c58f76e",
   "metadata": {},
   "outputs": [],
   "source": [
    "center_frame.shape"
   ]
  },
  {
   "cell_type": "code",
   "execution_count": null,
   "id": "f8b7ab6a",
   "metadata": {},
   "outputs": [],
   "source": [
    "center_frame[:,0,0]"
   ]
  },
  {
   "cell_type": "code",
   "execution_count": null,
   "id": "bd618cca",
   "metadata": {},
   "outputs": [],
   "source": [
    "def undo_color_normalization(normalized_tensor, mean, std):\n",
    "    \"\"\"\n",
    "    Undo color normalization.\n",
    "\n",
    "    Parameters:\n",
    "    - normalized_tensor: Tensor of shape 3xHxW representing the normalized image.\n",
    "    - mean: List or tuple of length 3 representing the mean for each channel.\n",
    "    - std: List or tuple of length 3 representing the standard deviation for each channel.\n",
    "\n",
    "    Returns:\n",
    "    - Tensor of shape 3xHxW representing the original image.\n",
    "    \"\"\"\n",
    "    original_tensor = normalized_tensor.clone()\n",
    "\n",
    "    for i in range(3):\n",
    "        original_tensor[i, :, :] = (original_tensor[i, :, :] * std[i]) + mean[i]\n",
    "\n",
    "    return original_tensor"
   ]
  },
  {
   "cell_type": "code",
   "execution_count": null,
   "id": "6afebc8b",
   "metadata": {},
   "outputs": [],
   "source": [
    "dec_center_frame = undo_color_normalization(center_frame, cfg.DATA.MEAN, cfg.DATA.STD)"
   ]
  },
  {
   "cell_type": "code",
   "execution_count": null,
   "id": "e4067fc1",
   "metadata": {},
   "outputs": [],
   "source": [
    "dec_center_frame[:,:,:]"
   ]
  },
  {
   "cell_type": "code",
   "execution_count": null,
   "id": "5c900249",
   "metadata": {},
   "outputs": [],
   "source": [
    "output_bbox_prep.shape"
   ]
  },
  {
   "cell_type": "code",
   "execution_count": null,
   "id": "b1065cb1",
   "metadata": {},
   "outputs": [],
   "source": [
    "# Transfer data to CPU and convert to NumPy arrays\n",
    "image_cpu = dec_center_frame.cpu().numpy().transpose(1, 2, 0)\n",
    "bboxes_cpu = output_bbox_prep.cpu().numpy()\n",
    "\n",
    "# Convert image to uint8\n",
    "# Convert image to uint8\n",
    "image_cpu_uint8 = (image_cpu * 255).astype(np.uint8).copy()\n",
    "# Scale bounding boxes to image size\n",
    "\n",
    "# Draw bounding boxes on the image\n",
    "for bbox in bboxes_cpu:\n",
    "    x1, y1, x2, y2 = bbox.astype(int)\n",
    "    print(x1)\n",
    "    cv2.rectangle(image_cpu_uint8, (x1, y1), (x2, y2), (0, 255, 0), 2)"
   ]
  },
  {
   "cell_type": "code",
   "execution_count": null,
   "id": "4baef0af",
   "metadata": {},
   "outputs": [],
   "source": [
    "plt.imshow(image_cpu_uint8)\n",
    "plt.show()"
   ]
  },
  {
   "cell_type": "code",
   "execution_count": null,
   "id": "6a18e6e6",
   "metadata": {},
   "outputs": [],
   "source": [
    "action_score_list[0]"
   ]
  },
  {
   "cell_type": "code",
   "execution_count": null,
   "id": "2c6e76ee",
   "metadata": {},
   "outputs": [],
   "source": [
    "# Number of top elements to retrieve\n",
    "top_k = 5\n",
    "\n",
    "# Get the top k values and indices along the last dimension (dimension 1)\n",
    "top_values, top_indices = torch.topk(action_score_list[0], k=top_k, dim=1)\n",
    "\n",
    "# Access the values and indices for each row\n",
    "for i in range(action_score_list[0].shape[0]):\n",
    "    row_values = top_values[i].cpu().numpy()\n",
    "    row_indices = top_indices[i].cpu().numpy()\n",
    "    print(f\"Row {i + 1}: Top Values: {row_values}, Top Indices: {row_indices+1}\")\n"
   ]
  },
  {
   "cell_type": "code",
   "execution_count": null,
   "id": "522c51dd",
   "metadata": {},
   "outputs": [],
   "source": [
    "bboxes_cpu.shape"
   ]
  },
  {
   "cell_type": "code",
   "execution_count": null,
   "id": "ae2756de",
   "metadata": {},
   "outputs": [],
   "source": [
    "# Transfer data to CPU and convert to NumPy arrays\n",
    "image_cpu = dec_center_frame.cpu().numpy().transpose(1, 2, 0)\n",
    "bboxes_cpu = output_bbox_prep.cpu().numpy()\n",
    "\n",
    "# Convert image to uint8\n",
    "# Convert image to uint8\n",
    "image_cpu_uint8 = (image_cpu * 255).astype(np.uint8).copy()\n",
    "# Scale bounding boxes to image size\n",
    "\n",
    "interesting_actions_indices = [5, 64, 71, 75]\n",
    "interesting_actions_labels = {5:'fall', 64:'fight', 71:'kick', 75:'push'}\n",
    "\n",
    "\n",
    "\n",
    "# Draw bounding boxes on the image\n",
    "for bbox, top_action_indices, top_action_scores in zip(bboxes_cpu, top_indices, top_values):\n",
    "    x1, y1, x2, y2 = bbox.astype(int)\n",
    "    top_indices_np = top_action_indices.cpu().numpy()\n",
    "    top_values_np = top_action_scores.cpu().numpy()\n",
    "    text = ''\n",
    "    found = False\n",
    "    for ind, act in enumerate(top_indices_np):\n",
    "        act += 1\n",
    "        if act in interesting_actions_indices:\n",
    "            found = True\n",
    "            text += '{}'.format(interesting_actions_labels[act])\n",
    "    if found:\n",
    "        cv2.rectangle(image_cpu_uint8, (x1, y1), (x2, y2), (0, 255, 0), 2)\n",
    "        cv2.putText(image_cpu_uint8, text, (x1, y1 - 10), cv2.FONT_HERSHEY_SIMPLEX, 0.5, (0, 255, 0), 2)\n",
    "        \n",
    "    \n",
    "            \n",
    "        \n",
    "     \n",
    "    #cv2.rectangle(image_cpu_uint8, (x1, y1), (x2, y2), (0, 255, 0), 2)"
   ]
  },
  {
   "cell_type": "code",
   "execution_count": null,
   "id": "cf1856ad",
   "metadata": {},
   "outputs": [],
   "source": [
    "plt.imshow(image_cpu_uint8)\n",
    "plt.show()"
   ]
  },
  {
   "cell_type": "code",
   "execution_count": null,
   "id": "365c2a10",
   "metadata": {},
   "outputs": [],
   "source": [
    "65 in top_action_indices"
   ]
  },
  {
   "cell_type": "markdown",
   "id": "c0b9c262",
   "metadata": {},
   "source": [
    "item { name: \"bend/bow (at the waist)\" id: 1 } \n",
    "item { name: \"crouch/kneel\" id: 3 } \n",
    "item { name: \"dance\" id: 4 } \n",
    "item { name: \"fall down\" id: 5 } \n",
    "item { name: \"get up\" id: 6 } \n",
    "item { name: \"jump/leap\" id: 7 } \n",
    "item { name: \"lie/sleep\" id: 8 } \n",
    "item { name: \"martial art\" id: 9 } \n",
    "item { name: \"run/jog\" id: 10 } \n",
    "item { name: \"sit\" id: 11 } \n",
    "item { name: \"stand\" id: 12 } \n",
    "item { name: \"swim\" id: 13 } \n",
    "item { name: \"walk\" id: 14 } \n",
    "item { name: \"answer phone\" id: 15 } \n",
    "item { name: \"carry/hold (an object)\" id: 17 } \n",
    "item { name: \"climb (e.g., a mountain)\" id: 20 } \n",
    "item { name: \"close (e.g., a door, a box)\" id: 22 } \n",
    "item { name: \"cut\" id: 24 } \n",
    "item { name: \"dress/put on clothing\" id: 26 } \n",
    "item { name: \"drink\" id: 27 } \n",
    "item { name: \"drive (e.g., a car, a truck)\" id: 28 } \n",
    "item { name: \"eat\" id: 29 } \n",
    "item { name: \"enter\" id: 30 } \n",
    "item { name: \"hit (an object)\" id: 34 } \n",
    "item { name: \"lift/pick up\" id: 36 } \n",
    "item { name: \"listen (e.g., to music)\" id: 37 } \n",
    "item { name: \"open (e.g., a window, a car door)\" id: 38 } \n",
    "item { name: \"play musical instrument\" id: 41 } \n",
    "item { name: \"point to (an object)\" id: 43 } \n",
    "item { name: \"pull (an object)\" id: 45 } \n",
    "item { name: \"push (an object)\" id: 46 } \n",
    "item { name: \"put down\" id: 47 } \n",
    "item { name: \"read\" id: 48 } \n",
    "item { name: \"ride (e.g., a bike, a car, a horse)\" id: 49 } \n",
    "item { name: \"sail boat\" id: 51 } \n",
    "item { name: \"shoot\" id: 52 } \n",
    "item { name: \"smoke\" id: 54 } \n",
    "item { name: \"take a photo\" id: 56 } \n",
    "item { name: \"text on/look at a cellphone\" id: 57 } \n",
    "item { name: \"throw\" id: 58 } \n",
    "item { name: \"touch (an object)\" id: 59 } \n",
    "item { name: \"turn (e.g., a screwdriver)\" id: 60 } \n",
    "item { name: \"watch (e.g., TV)\" id: 61 } \n",
    "item { name: \"work on a computer\" id: 62 } \n",
    "item { name: \"write\" id: 63 } \n",
    "item { name: \"fight/hit (a person)\" id: 64 } \n",
    "item { name: \"give/serve (an object) to (a person)\" id: 65 } \n",
    "item { name: \"grab (a person)\" id: 66 } \n",
    "item { name: \"hand clap\" id: 67 } \n",
    "item { name: \"hand shake\" id: 68 } \n",
    "item { name: \"hand wave\" id: 69 } \n",
    "item { name: \"hug (a person)\" id: 70 } \n",
    "item { name: \"kiss (a person)\" id: 72 } \n",
    "item { name: \"lift (a person)\" id: 73 } \n",
    "item { name: \"listen to (a person)\" id: 74 } \n",
    "item { name: \"push (another person)\" id: 76 } \n",
    "item { name: \"sing to (e.g., self, a person, a group)\" id: 77 } \n",
    "item { name: \"take (an object) from (a person)\" id: 78 } \n",
    "item { name: \"talk to (e.g., self, a person, a group)\" id: 79 } \n",
    "item { name: \"watch (a person)\" id: 80 }"
   ]
  },
  {
   "cell_type": "code",
   "execution_count": null,
   "id": "5c5275f0",
   "metadata": {},
   "outputs": [],
   "source": [
    "action_score_list[0][0].shape"
   ]
  },
  {
   "cell_type": "code",
   "execution_count": null,
   "id": "eb2f63c3",
   "metadata": {},
   "outputs": [],
   "source": [
    "import re\n",
    "\n",
    "def parse_label_file(file_path):\n",
    "    # Initialize an empty dictionary to store label_id and label_name pairs\n",
    "    label_dict = {}\n",
    "\n",
    "    # Read the contents of the file\n",
    "    with open(file_path, 'r') as file:\n",
    "        contents = file.read()\n",
    "\n",
    "    # Use regular expressions to extract label_id and label_name pairs\n",
    "    matches = re.findall(r'label \\{ name: \"(.*?)\" label_id: (\\d+)', contents)\n",
    "\n",
    "    # Iterate over the matches and populate the label dictionary\n",
    "    for label_name, label_id in matches:\n",
    "        label_dict[int(label_id)] = label_name\n",
    "\n",
    "    return label_dict\n",
    "\n",
    "# Example usage:\n",
    "file_path = 'labels.txt'  # Specify the path to your text file\n",
    "label_dict = parse_label_file(file_path)\n",
    "print(label_dict)"
   ]
  },
  {
   "cell_type": "code",
   "execution_count": null,
   "id": "68d4137e",
   "metadata": {},
   "outputs": [],
   "source": []
  },
  {
   "cell_type": "code",
   "execution_count": null,
   "id": "48b1245c",
   "metadata": {},
   "outputs": [],
   "source": []
  },
  {
   "cell_type": "code",
   "execution_count": null,
   "id": "e2f3a45e",
   "metadata": {},
   "outputs": [],
   "source": []
  },
  {
   "cell_type": "code",
   "execution_count": null,
   "id": "d1f18ed4",
   "metadata": {},
   "outputs": [],
   "source": []
  },
  {
   "cell_type": "code",
   "execution_count": null,
   "id": "8d653380",
   "metadata": {},
   "outputs": [],
   "source": []
  },
  {
   "cell_type": "code",
   "execution_count": null,
   "id": "7606a1cd",
   "metadata": {},
   "outputs": [],
   "source": []
  },
  {
   "cell_type": "code",
   "execution_count": null,
   "id": "9b783132",
   "metadata": {},
   "outputs": [],
   "source": []
  },
  {
   "cell_type": "code",
   "execution_count": null,
   "id": "e7c3d7d2",
   "metadata": {},
   "outputs": [],
   "source": []
  },
  {
   "cell_type": "code",
   "execution_count": null,
   "id": "83779c93",
   "metadata": {},
   "outputs": [],
   "source": []
  },
  {
   "cell_type": "code",
   "execution_count": null,
   "id": "e6e3d35c",
   "metadata": {},
   "outputs": [],
   "source": [
    "height, width, _ = sample_cropped_clip[0].shape\n",
    "\n",
    "height, width # (360, 486)"
   ]
  },
  {
   "cell_type": "code",
   "execution_count": null,
   "id": "6bd7047a",
   "metadata": {},
   "outputs": [],
   "source": [
    "from alphaction.dataset.datasets import cv2_transform as cv2_transform\n",
    "\n",
    "imgs, boxes = cv2_transform.random_short_side_scale_jitter(\n",
    "    sample_cropped_clip,\n",
    "    min_sizes=self_jitter_min_scale,\n",
    "    max_size=self_jitter_max_scale,\n",
    "    boxes=None,\n",
    ")"
   ]
  },
  {
   "cell_type": "code",
   "execution_count": null,
   "id": "ac100c70",
   "metadata": {},
   "outputs": [],
   "source": [
    "type(imgs), len(imgs), imgs[0].shape"
   ]
  },
  {
   "cell_type": "code",
   "execution_count": null,
   "id": "c5c89a51",
   "metadata": {},
   "outputs": [],
   "source": [
    "boxes"
   ]
  },
  {
   "cell_type": "code",
   "execution_count": null,
   "id": "cc9d9b5c",
   "metadata": {},
   "outputs": [],
   "source": [
    "# Convert image to CHW keeping BGR order.\n",
    "imgs = [cv2_transform.HWC2CHW(img) for img in imgs]"
   ]
  },
  {
   "cell_type": "code",
   "execution_count": null,
   "id": "c17df034",
   "metadata": {},
   "outputs": [],
   "source": [
    "imgs[0].shape # (3, 256, 346)"
   ]
  },
  {
   "cell_type": "code",
   "execution_count": null,
   "id": "60b057c5",
   "metadata": {},
   "outputs": [],
   "source": [
    "# Image [0, 255] -> [0, 1].\n",
    "imgs = [img / 255.0 for img in imgs]"
   ]
  },
  {
   "cell_type": "code",
   "execution_count": null,
   "id": "b4071fee",
   "metadata": {},
   "outputs": [],
   "source": [
    "imgs = [np.ascontiguousarray(\n",
    "    # img.reshape((3, self._crop_size, self._crop_size))\n",
    "    img.reshape((3, imgs[0].shape[1], imgs[0].shape[2]))\n",
    ").astype(np.float32) for img in imgs]"
   ]
  },
  {
   "cell_type": "code",
   "execution_count": null,
   "id": "732a428b",
   "metadata": {},
   "outputs": [],
   "source": [
    "type(imgs), len(imgs), imgs[0].shape # (list, 144, (3, 256, 320))"
   ]
  },
  {
   "cell_type": "code",
   "execution_count": null,
   "id": "a37d5f56",
   "metadata": {},
   "outputs": [],
   "source": [
    "imgs = [\n",
    "            cv2_transform.color_normalization(\n",
    "                img,\n",
    "                np.array(self_data_mean, dtype=np.float32),\n",
    "                np.array(self_data_std, dtype=np.float32),\n",
    "            )\n",
    "            for img in imgs\n",
    "        ]"
   ]
  },
  {
   "cell_type": "code",
   "execution_count": null,
   "id": "75c9cdc7",
   "metadata": {},
   "outputs": [],
   "source": [
    "type(imgs), len(imgs), imgs[0].shape, imgs[0][:,0,0]"
   ]
  },
  {
   "cell_type": "code",
   "execution_count": null,
   "id": "cc8d1b9d",
   "metadata": {},
   "outputs": [],
   "source": [
    "imgs = np.concatenate(\n",
    "            [np.expand_dims(img, axis=1) for img in imgs], axis=1\n",
    "        )\n"
   ]
  },
  {
   "cell_type": "code",
   "execution_count": null,
   "id": "0e7c375b",
   "metadata": {},
   "outputs": [],
   "source": [
    "type(imgs), imgs.shape # (numpy.ndarray, (3, 144, 256, 320)"
   ]
  },
  {
   "cell_type": "code",
   "execution_count": null,
   "id": "b7152679",
   "metadata": {},
   "outputs": [],
   "source": [
    "self_use_bgr"
   ]
  },
  {
   "cell_type": "code",
   "execution_count": null,
   "id": "5e26b82f",
   "metadata": {},
   "outputs": [],
   "source": [
    "if not self_use_bgr:\n",
    "    # Convert image format from BGR to RGB.\n",
    "    imgs = imgs[::-1, ...]"
   ]
  },
  {
   "cell_type": "code",
   "execution_count": null,
   "id": "6265af9e",
   "metadata": {},
   "outputs": [],
   "source": [
    "imgs.shape # (3, 16, 256, 346)"
   ]
  },
  {
   "cell_type": "code",
   "execution_count": null,
   "id": "4c33b38e",
   "metadata": {},
   "outputs": [],
   "source": [
    "imgs = np.ascontiguousarray(imgs)"
   ]
  },
  {
   "cell_type": "code",
   "execution_count": null,
   "id": "8dcb9e44",
   "metadata": {},
   "outputs": [],
   "source": [
    "imgs.shape # (3, 144, 256, 320)"
   ]
  },
  {
   "cell_type": "code",
   "execution_count": null,
   "id": "f28cb856",
   "metadata": {},
   "outputs": [],
   "source": [
    "imgs = torch.from_numpy(imgs)"
   ]
  },
  {
   "cell_type": "code",
   "execution_count": null,
   "id": "1a749514",
   "metadata": {},
   "outputs": [],
   "source": [
    "imgs.shape"
   ]
  },
  {
   "cell_type": "code",
   "execution_count": null,
   "id": "526d21ac",
   "metadata": {},
   "outputs": [],
   "source": [
    "def sample_frames(tensor, rate_sample, num_frames):\n",
    "    \"\"\"\n",
    "    Sample frames from a given tensor with all possible combinations.\n",
    "\n",
    "    Args:\n",
    "        tensor (torch.Tensor): Input tensor of shape 3xNxHxW.\n",
    "        rate_sample (int): Sampling rate.\n",
    "        num_frames (int): Number of frames in each sampled tensor.\n",
    "\n",
    "    Returns:\n",
    "        List of sampled tensors, each with shape 3xnum_framesxHxW.\n",
    "    \"\"\"\n",
    "    sampled_tensors = []\n",
    "\n",
    "    # Calculate the maximum possible starting index\n",
    "    max_start_index = tensor.size(1) - num_frames * rate_sample + 1\n",
    "    \n",
    "    # Iterate over all possible starting indices\n",
    "    for start_index in range(max_start_index):\n",
    "        # Extract frames using the specified sampling rate and number of frames\n",
    "        sampled_frames = tensor[:, start_index:start_index+rate_sample*num_frames:rate_sample, :, :]\n",
    "        sampled_tensors.append(sampled_frames)\n",
    "\n",
    "    return sampled_tensors\n"
   ]
  },
  {
   "cell_type": "code",
   "execution_count": null,
   "id": "92a088c8",
   "metadata": {},
   "outputs": [],
   "source": [
    "sampled_frames = sample_frames(imgs, rate_sample = 3, num_frames = 16)"
   ]
  },
  {
   "cell_type": "code",
   "execution_count": null,
   "id": "c8493978",
   "metadata": {},
   "outputs": [],
   "source": [
    "len(sampled_frames)"
   ]
  },
  {
   "cell_type": "code",
   "execution_count": null,
   "id": "2cf28f56",
   "metadata": {},
   "outputs": [],
   "source": [
    "sampled_frames[0].shape"
   ]
  },
  {
   "cell_type": "code",
   "execution_count": null,
   "id": "b7508f06",
   "metadata": {},
   "outputs": [],
   "source": [
    "from alphaction.dataset.datasets.utils import pack_pathway_output"
   ]
  },
  {
   "cell_type": "code",
   "execution_count": null,
   "id": "b424389a",
   "metadata": {},
   "outputs": [],
   "source": [
    "pathways = cfg.MODEL.BACKBONE.PATHWAYS"
   ]
  },
  {
   "cell_type": "code",
   "execution_count": null,
   "id": "09a73b1d",
   "metadata": {},
   "outputs": [],
   "source": [
    "list_batches = []\n",
    "for idx, clip in enumerate(sampled_frames):\n",
    "    clip_pathways = pack_pathway_output(cfg, clip, pathways=pathways)\n",
    "    if pathways == 1:\n",
    "        slow, fast = clip_pathways[0], None\n",
    "    else:\n",
    "        slow, fast = clip_pathways[0], clip_pathways[1]\n",
    "    \n",
    "    h, w = slow.shape[-2:]\n",
    "    whwh = torch.tensor([w, h, w, h], dtype=torch.float32)\n",
    "    metadata = [0, 0]\n",
    "    boxes = None\n",
    "    label_arrs = None\n",
    "    \n",
    "    batch = [slow, fast, whwh, boxes, label_arrs, metadata, idx]\n",
    "    list_batches.append(batch)\n",
    "    \n",
    "    "
   ]
  },
  {
   "cell_type": "code",
   "execution_count": null,
   "id": "4fa9b42a",
   "metadata": {},
   "outputs": [],
   "source": [
    "batch = list_batches[0]"
   ]
  },
  {
   "cell_type": "code",
   "execution_count": null,
   "id": "59b598d2",
   "metadata": {},
   "outputs": [],
   "source": [
    "transposed_batch = list(zip(*list_batches))"
   ]
  },
  {
   "cell_type": "code",
   "execution_count": null,
   "id": "3f08e171",
   "metadata": {},
   "outputs": [],
   "source": [
    "len(transposed_batch[0])"
   ]
  },
  {
   "cell_type": "code",
   "execution_count": null,
   "id": "275c502d",
   "metadata": {},
   "outputs": [],
   "source": [
    "transposed_batch[0][0].shape"
   ]
  },
  {
   "cell_type": "code",
   "execution_count": null,
   "id": "0cad7c9c",
   "metadata": {},
   "outputs": [],
   "source": [
    "from alphaction.dataset.collate_batch import BatchCollator"
   ]
  },
  {
   "cell_type": "code",
   "execution_count": null,
   "id": "6fd49f05",
   "metadata": {},
   "outputs": [],
   "source": [
    "batch_collator = BatchCollator(cfg.DATALOADER.SIZE_DIVISIBILITY)"
   ]
  },
  {
   "cell_type": "code",
   "execution_count": null,
   "id": "6cee899d",
   "metadata": {},
   "outputs": [],
   "source": [
    "slow_clips, fast_clips, whwh, boxes, label_arrs, metadata, clip_ids = batch_collator(list_batches)"
   ]
  },
  {
   "cell_type": "code",
   "execution_count": null,
   "id": "51bb0ec7",
   "metadata": {},
   "outputs": [],
   "source": [
    "slow_clips[0].shape"
   ]
  },
  {
   "cell_type": "code",
   "execution_count": null,
   "id": "80ed9741",
   "metadata": {},
   "outputs": [],
   "source": [
    "whwh[0]"
   ]
  },
  {
   "cell_type": "code",
   "execution_count": null,
   "id": "8255ab8b",
   "metadata": {},
   "outputs": [],
   "source": []
  },
  {
   "cell_type": "code",
   "execution_count": null,
   "id": "fa96bcf6",
   "metadata": {},
   "outputs": [],
   "source": [
    "from alphaction.dataset.datasets.utils import pack_pathway_output"
   ]
  },
  {
   "cell_type": "code",
   "execution_count": null,
   "id": "8537a038",
   "metadata": {},
   "outputs": [],
   "source": [
    "pathways = cfg.MODEL.BACKBONE.PATHWAYS"
   ]
  },
  {
   "cell_type": "code",
   "execution_count": null,
   "id": "0d28d9ce",
   "metadata": {},
   "outputs": [],
   "source": [
    "pathways"
   ]
  },
  {
   "cell_type": "code",
   "execution_count": null,
   "id": "a48aa402",
   "metadata": {},
   "outputs": [],
   "source": [
    "sampled_frames = pack_pathway_output(cfg, imgs, pathways=pathways)"
   ]
  },
  {
   "cell_type": "code",
   "execution_count": null,
   "id": "3be00294",
   "metadata": {},
   "outputs": [],
   "source": [
    "type(sampled_frames), len(sampled_frames)"
   ]
  },
  {
   "cell_type": "code",
   "execution_count": null,
   "id": "cc7dc7a9",
   "metadata": {},
   "outputs": [],
   "source": [
    "type(sampled_frames[0])"
   ]
  },
  {
   "cell_type": "code",
   "execution_count": null,
   "id": "6a70e291",
   "metadata": {},
   "outputs": [],
   "source": [
    "sampled_frames[0][0]"
   ]
  },
  {
   "cell_type": "code",
   "execution_count": null,
   "id": "e4463791",
   "metadata": {},
   "outputs": [],
   "source": [
    "import torch\n",
    "from torch.utils.data import Dataset, DataLoader\n",
    "\n",
    "class YourDataset(Dataset):\n",
    "    def __init__(self):\n",
    "        # Your dataset initialization here\n",
    "        pass\n",
    "\n",
    "    def __len__(self):\n",
    "        # Return the total number of samples in your dataset\n",
    "        return 1\n",
    "\n",
    "    def __getitem__(self, index):\n",
    "        # Your dataset loading logic here\n",
    "        # For illustration purposes, I'll use random tensors\n",
    "        tensor_shape = (3, 16, 256, 320)\n",
    "        tensor = torch.rand(tensor_shape)\n",
    "        tensor_four = torch.rand(4)\n",
    "        list_of_length_2 = [1, 2]\n",
    "\n",
    "        return tensor, tensor_four, list_of_length_2\n",
    "\n",
    "# Create an instance of your dataset\n",
    "dataset = YourDataset()\n",
    "\n",
    "# Create a DataLoader with batch_size = 1\n",
    "dataloader = DataLoader(dataset, batch_size=1, shuffle=True)\n",
    "\n",
    "# Iterate through the dataloader\n",
    "for batch in dataloader:\n",
    "    print(\"Batch Shape:\", batch)\n"
   ]
  },
  {
   "cell_type": "code",
   "execution_count": null,
   "id": "086d04d5",
   "metadata": {},
   "outputs": [],
   "source": [
    "batch[0].shape"
   ]
  },
  {
   "cell_type": "code",
   "execution_count": null,
   "id": "847a8240",
   "metadata": {},
   "outputs": [],
   "source": [
    "batch[1].shape"
   ]
  },
  {
   "cell_type": "code",
   "execution_count": null,
   "id": "2f11a30e",
   "metadata": {},
   "outputs": [],
   "source": [
    "batch[2][0].shape"
   ]
  },
  {
   "cell_type": "code",
   "execution_count": null,
   "id": "a41df036",
   "metadata": {},
   "outputs": [],
   "source": [
    "selected_idx = scores[0] >= self.person_threshold\n",
    "new_scores = scores[0][selected_idx]"
   ]
  }
 ],
 "metadata": {
  "kernelspec": {
   "display_name": "Python 3 (ipykernel)",
   "language": "python",
   "name": "python3"
  },
  "language_info": {
   "codemirror_mode": {
    "name": "ipython",
    "version": 3
   },
   "file_extension": ".py",
   "mimetype": "text/x-python",
   "name": "python",
   "nbconvert_exporter": "python",
   "pygments_lexer": "ipython3",
   "version": "3.8.10"
  }
 },
 "nbformat": 4,
 "nbformat_minor": 5
}
