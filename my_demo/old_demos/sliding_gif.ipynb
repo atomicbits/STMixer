{
 "cells": [
  {
   "cell_type": "code",
   "execution_count": 27,
   "id": "3e21b8bc",
   "metadata": {},
   "outputs": [
    {
     "name": "stdout",
     "output_type": "stream",
     "text": [
      "MoviePy - Building file output.gif with imageio.\n"
     ]
    },
    {
     "name": "stderr",
     "output_type": "stream",
     "text": [
      "                                                                                                                                                                    \r"
     ]
    }
   ],
   "source": [
    "import cv2\n",
    "import moviepy.editor as mp\n",
    "import numpy as np\n",
    "\n",
    "def visualize_frame_slicing(frame, num_horizontal_slices, num_vertical_slices, overlap_pixels):\n",
    "    # Get frame dimensions\n",
    "    height, width = frame.shape[:2]\n",
    "\n",
    "    # Calculate patch dimensions\n",
    "    patch_width = (width + overlap_pixels) // num_horizontal_slices\n",
    "    patch_height = (height + overlap_pixels) // num_vertical_slices\n",
    "\n",
    "    # Create an array to store the frames\n",
    "    frames = []\n",
    "\n",
    "    for i in range(num_horizontal_slices):\n",
    "        for j in range(num_vertical_slices):\n",
    "            # Calculate patch coordinates\n",
    "            x1 = i * (patch_width - overlap_pixels)\n",
    "            y1 = j * (patch_height - overlap_pixels)\n",
    "            x2 = x1 + patch_width\n",
    "            y2 = y1 + patch_height\n",
    "\n",
    "            # Draw a red box around the patch\n",
    "            frame_copy = frame.copy()\n",
    "            cv2.rectangle(frame_copy, (x1, y1), (x2, y2), (0, 0, 255), 2)\n",
    "\n",
    "            # Append the frame to the frames list\n",
    "            frames.append(frame_copy)\n",
    "\n",
    "    return frames\n",
    "\n",
    "# Example usage\n",
    "video_clip = mp.VideoFileClip(\"../input_dir/markt2_fight.mp4\")\n",
    "\n",
    "# Choose parameters for frame slicing\n",
    "num_horizontal_slices = 4\n",
    "num_vertical_slices = 3\n",
    "overlap_pixels = 20\n",
    "\n",
    "# Extract a specific frame (e.g., frame at time 5 seconds)\n",
    "target_frame_time = 5\n",
    "target_frame = video_clip.get_frame(target_frame_time)\n",
    "\n",
    "# Visualize frame slicing for the target frame\n",
    "frames_with_boxes = visualize_frame_slicing(target_frame, num_horizontal_slices, num_vertical_slices, overlap_pixels)\n",
    "\n",
    "# Create a list of durations for each frame\n",
    "durations = [1 / video_clip.fps] * len(frames_with_boxes)\n",
    "\n",
    "# Create a video clip from the frames with correct durations\n",
    "output_clip = mp.ImageSequenceClip(frames_with_boxes, fps=video_clip.fps, durations=durations)\n",
    "\n",
    "# Save the video clip as a GIF\n",
    "output_clip.write_gif(\"output.gif\", fps=video_clip.fps)\n"
   ]
  },
  {
   "cell_type": "code",
   "execution_count": 28,
   "id": "399b0659",
   "metadata": {},
   "outputs": [
    {
     "data": {
      "text/plain": [
       "(1944, 2592, 3)"
      ]
     },
     "execution_count": 28,
     "metadata": {},
     "output_type": "execute_result"
    }
   ],
   "source": [
    "target_frame.shape"
   ]
  },
  {
   "cell_type": "code",
   "execution_count": 29,
   "id": "f1a46e50",
   "metadata": {},
   "outputs": [],
   "source": [
    "nr_patches = [2, 2]\n",
    "overlaps = [300, 200]\n",
    "\n",
    "model_size = 1280\n",
    "model_half = True\n",
    "\n",
    "\n",
    "conf_thres = 0.2\n",
    "n_val_kpts = -1\n",
    "kpt_thres = 0.65\n",
    "iou_thres = 0.45\n",
    "ios_thres = 0.5"
   ]
  },
  {
   "cell_type": "code",
   "execution_count": 30,
   "id": "bffef31e",
   "metadata": {},
   "outputs": [],
   "source": [
    "import os"
   ]
  },
  {
   "cell_type": "code",
   "execution_count": 31,
   "id": "deecdf55",
   "metadata": {},
   "outputs": [
    {
     "name": "stdout",
     "output_type": "stream",
     "text": [
      "stream shape: (1944, 2592)\n"
     ]
    }
   ],
   "source": [
    "data = \"markt2\"\n",
    "\n",
    "frame_number = 250 # indicate frame number of video if input is vdeo\n",
    "# 250\n",
    "data_samples = {\"markt2\": \"../input_dir/markt2_fight.mp4\", \n",
    "                \"cam1\": \"../input_dir/cam1-3-a.mp4\",\n",
    "                \"cam2\": \"../unput_dir/cam1-4.mp4\"}\n",
    "\n",
    "\n",
    "if os.path.splitext(data_samples[data])[-1][1:] in ('jpg', 'png'):\n",
    "    frame = cv2.imread(data_samples[data]) # BGR format\n",
    "elif os.path.splitext(data_samples[data])[-1][1:] in ('mp4'):\n",
    "    cap = cv2.VideoCapture(data_samples[data])\n",
    "    cap.set(cv2.CAP_PROP_POS_FRAMES, frame_number-1)\n",
    "    rval, frame = cap.read()\n",
    "    cap.release()\n",
    "    \n",
    "\n",
    "stream_shape = frame.shape[:2]\n",
    "print(\"stream shape:\", stream_shape)"
   ]
  },
  {
   "cell_type": "code",
   "execution_count": 32,
   "id": "359a5498",
   "metadata": {},
   "outputs": [],
   "source": [
    "import torch\n",
    "import torch.nn.functional as F\n",
    "import numpy as np\n",
    "\n",
    "def patches_yyxx(stream_shape,\n",
    "                 nr_patches,\n",
    "                 overlaps):\n",
    "    \"\"\"\n",
    "    Compute y_1, y_2, x_1, x_2 coordinates of patches. \n",
    "    Args:\n",
    "        stream_shape: list\n",
    "            H and W of input stream.\n",
    "        nr_patches: list of int\n",
    "            nr of H and W patches.\n",
    "        overlaops: list of int\n",
    "            size of overlaps in H and W patches.\n",
    "    Returns:\n",
    "        patches_yyxx: list of int\n",
    "            list of shape nr_patches[0]*nr_patches[1]: each element contains y1y2x1x2 of patches.\n",
    "        ly,lx: list of int \n",
    "            stream_shape/nr_patches\n",
    "        dy, dx: list of int\n",
    "            half of overlps. The shape of patches will be ly+dy, lx+dx\n",
    "            \n",
    "        \n",
    "    \"\"\"\n",
    "    if isinstance(nr_patches, int):\n",
    "        nr_patches = [nr_patches, nr_patches]\n",
    "    if isinstance(overlaps, int):\n",
    "        overlaps = [overlaps, overlaps]\n",
    "    \n",
    "    dy = overlaps[0]/2\n",
    "    dx = overlaps[1]/2\n",
    "\n",
    "    ly = stream_shape[0]/nr_patches[0] \n",
    "    lx = stream_shape[1]/nr_patches[1]\n",
    "\n",
    "    patches_yyxx = []\n",
    "    for i in range(nr_patches[0]):\n",
    "        for j in range(nr_patches[1]):\n",
    "            y1 = int(max(i*ly - dy, 0))\n",
    "            x1 = int(max(j*lx - dx, 0))\n",
    "        \n",
    "            y2 = int(min(y1 + ly + dy , stream_shape[0])) \n",
    "            x2 = int(min(x1 + lx + dx, stream_shape[1])) \n",
    "        \n",
    "            patches_yyxx.append([y1,y2,x1,x2])\n",
    "    \n",
    "    return patches_yyxx, [ly,lx], [dy,dx]\n"
   ]
  },
  {
   "cell_type": "code",
   "execution_count": 33,
   "id": "24a5f84a",
   "metadata": {},
   "outputs": [
    {
     "name": "stdout",
     "output_type": "stream",
     "text": [
      "HxW of crops: 1122x1396\n"
     ]
    }
   ],
   "source": [
    "patches_yyxx, lyx, dyx = patches_yyxx(stream_shape, nr_patches, overlaps)\n",
    "ly, lx = lyx[0], lyx[1]\n",
    "dy, dx = dyx[0], dyx[1]\n",
    "\n",
    "crop_shape = patches_yyxx[0][1]-patches_yyxx[0][0], patches_yyxx[0][3]-patches_yyxx[0][2]\n",
    "print(\"HxW of crops: {}x{}\".format(crop_shape[0], crop_shape[1]))"
   ]
  },
  {
   "cell_type": "code",
   "execution_count": 34,
   "id": "b90d6463",
   "metadata": {},
   "outputs": [],
   "source": [
    "from moviepy.editor import ImageSequenceClip\n",
    "import os.path as osp\n",
    "\n",
    "\n",
    "def get_output(frames, out_filename, fps=20, out_type='mp4'):\n",
    "    video_clips = ImageSequenceClip(frames, fps=fps)\n",
    "    out_type = osp.splitext(out_filename)[1][1:]\n",
    "    if out_type == 'gif':\n",
    "        video_clips.write_gif(out_filename)\n",
    "    else:\n",
    "        video_clips.write_videofile(out_filename, remove_temp=True)"
   ]
  },
  {
   "cell_type": "code",
   "execution_count": 38,
   "id": "9bd083b6",
   "metadata": {},
   "outputs": [
    {
     "name": "stdout",
     "output_type": "stream",
     "text": [
      "Moviepy - Building video /work/output_dir/2-2_300-200.mp4.\n",
      "Moviepy - Writing video /work/output_dir/2-2_300-200.mp4\n",
      "\n"
     ]
    },
    {
     "name": "stderr",
     "output_type": "stream",
     "text": [
      "                                                                                                                                                                    \r"
     ]
    },
    {
     "name": "stdout",
     "output_type": "stream",
     "text": [
      "Moviepy - Done !\n",
      "Moviepy - video ready /work/output_dir/2-2_300-200.mp4\n"
     ]
    }
   ],
   "source": [
    "sliding_patches = []\n",
    "for i in range(0, nr_patches[0] * nr_patches[1]):\n",
    "    frame_clone = frame.copy()\n",
    "    cv2.rectangle(frame_clone,\n",
    "                  (int(patches_yyxx[i][2]), int(patches_yyxx[i][0])),\n",
    "                  (int(patches_yyxx[i][3]), int(patches_yyxx[i][1])),\n",
    "                  color=(0, 0, 255),\n",
    "                  thickness=8,\n",
    "                  lineType=cv2.LINE_AA)\n",
    "    text_sliding = str(nr_patches[0]) + '-' +  str(nr_patches[1]) + '_'+ str(overlaps[0]) + '-' + str(overlaps[1])\n",
    "    cv2.putText(frame_clone, text_sliding,  \n",
    "                (45, 90), cv2.FONT_HERSHEY_TRIPLEX, 2, \n",
    "                (0, 255, 0), 2)\n",
    "    sliding_patches.append(cv2.cvtColor(frame_clone, cv2.COLOR_RGB2BGR))\n",
    "\n",
    "\n",
    "file_sliding = text_sliding + '.mp4'\n",
    "                  \n",
    "path_sliding = '/work/output_dir/' + file_sliding\n",
    "rel_path_sliding = '../output_dir/' + file_sliding\n",
    "\n",
    "\n",
    "get_output(sliding_patches, path_sliding, fps=1, out_type='mp4')"
   ]
  },
  {
   "cell_type": "code",
   "execution_count": null,
   "id": "81a33b31",
   "metadata": {},
   "outputs": [],
   "source": []
  }
 ],
 "metadata": {
  "kernelspec": {
   "display_name": "Python 3 (ipykernel)",
   "language": "python",
   "name": "python3"
  },
  "language_info": {
   "codemirror_mode": {
    "name": "ipython",
    "version": 3
   },
   "file_extension": ".py",
   "mimetype": "text/x-python",
   "name": "python",
   "nbconvert_exporter": "python",
   "pygments_lexer": "ipython3",
   "version": "3.8.10"
  }
 },
 "nbformat": 4,
 "nbformat_minor": 5
}
